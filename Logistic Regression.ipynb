{
 "cells": [
  {
   "cell_type": "code",
   "execution_count": 33,
   "id": "49f45654-8512-4e40-83d2-e25d7b2f0d1d",
   "metadata": {},
   "outputs": [],
   "source": [
    "import pandas as pd\n",
    "import matplotlib.pyplot as plt\n",
    "import numpy as np\n",
    "from sklearn.preprocessing import StandardScaler, LabelEncoder\n",
    "from sklearn.linear_model import LogisticRegression"
   ]
  },
  {
   "cell_type": "code",
   "execution_count": 20,
   "id": "73cb776e-d747-4eea-b3ec-b1cf936614f9",
   "metadata": {},
   "outputs": [],
   "source": [
    "loan_application_df=pd.read_csv('/home/student/loan_application.csv')"
   ]
  },
  {
   "cell_type": "code",
   "execution_count": 11,
   "id": "db97c617-b73c-4eb8-a036-d8c79035b227",
   "metadata": {},
   "outputs": [],
   "source": [
    "# application_df.head()"
   ]
  },
  {
   "cell_type": "code",
   "execution_count": 22,
   "id": "3a9dc5f3-450e-45ac-93ed-ecac55f96d1a",
   "metadata": {},
   "outputs": [
    {
     "data": {
      "text/plain": [
       "Unnamed: 0                       0\n",
       "SK_ID_CURR                       0\n",
       "TARGET                           0\n",
       "NAME_CONTRACT_TYPE               0\n",
       "CODE_GENDER                      0\n",
       "                              ... \n",
       "AMT_REQ_CREDIT_BUREAU_DAY     1436\n",
       "AMT_REQ_CREDIT_BUREAU_WEEK    1436\n",
       "AMT_REQ_CREDIT_BUREAU_MON     1436\n",
       "AMT_REQ_CREDIT_BUREAU_QRT     1436\n",
       "AMT_REQ_CREDIT_BUREAU_YEAR    1436\n",
       "Length: 123, dtype: int64"
      ]
     },
     "execution_count": 22,
     "metadata": {},
     "output_type": "execute_result"
    }
   ],
   "source": [
    "loan_application_df.isnull().sum()"
   ]
  },
  {
   "cell_type": "code",
   "execution_count": 42,
   "id": "0f1df3d0-4941-491e-b9cc-1537f8c65d0d",
   "metadata": {},
   "outputs": [],
   "source": [
    "renamed_columns = loan_application_df.rename(columns={\n",
    "    'TARGET': 'target',\n",
    "    'NAME_CONTRACT_TYPE': 'contract_type',\n",
    "    'CODE_GENDER': 'code_gender',\n",
    "    'FLAG_OWN_CAR': 'owns_car',\n",
    "    'FLAG_OWN_REALTY': 'own_realty',\n",
    "    'CNT_CHILDREN': 'count_children',\n",
    "    'AMT_INCOME_TOTAL': 'income_total',\n",
    "    'AMT_CREDIT': 'amount_credit',\n",
    "    'AMT_ANNUITY': 'amount_credibility',\n",
    "    'NAME_TYPE_SUITE': 'type_suite',\n",
    "    'NAME_INCOME_TYPE': 'income_type',\n",
    "    'NAME_EDUCATION_TYPE': 'education_type',\n",
    "    'NAME_FAMILY_STATUS': 'family_status',\n",
    "    'NAME_HOUSING_TYPE': 'housing_type',\n",
    "    'DAYS_BIRTH': 'days_of_birth_in_days',\n",
    "    'DAYS_EMPLOYED': 'days_employed',\n",
    "    'DAYS_REGISTRATION': 'days_registration',\n",
    "    'OWN_CAR_AGE': 'car_age',\n",
    "    'FLAG_MOBIL': 'mobile_owner',\n",
    "    'OCCUPATION_TYPE': 'occupation_type',\n",
    "    'CNT_FAM_MEMBERS': 'number_of_family_members'\n",
    "}, inplace=True)"
   ]
  },
  {
   "cell_type": "code",
   "execution_count": 43,
   "id": "56e6c392-e52d-4d24-b053-576b023911bc",
   "metadata": {},
   "outputs": [],
   "source": [
    "# new_application_df = loan_application_df[columns_to_use].copy()\n",
    "\n",
    "# Display the new DataFrame\n",
    "# print(new_application_df.head())\n",
    "\n",
    "selected_columns = loan_application_df[['target', 'contract_type', 'code_gender', 'owns_car', 'own_realty', 'count_children', 'income_total', 'amount_credit',\n",
    "                                        'amount_credibility', 'type_suite', 'income_type', 'education_type', 'family_status', 'housing_type', 'days_of_birth_in_days', 'days_employed',\n",
    "                                        'days_registration', 'car_age', 'mobile_owner', 'occupation_type', 'number_of_family_members']]\n",
    "\n",
    "\n",
    "# # Selecting the relevant columns for your new DataFrame\n",
    "# columns_to_use = [\n",
    "#     'target',\n",
    "#     'contract_type',\n",
    "#     'code_gender',\n",
    "#     'owns_car',\n",
    "#     'own_realty',\n",
    "#     'count_children',\n",
    "#     'income_total',\n",
    "#     'amount_credit',\n",
    "#     'amount_credibility',\n",
    "#     'type_suite',\n",
    "#     'income_type',\n",
    "#     'education_type',\n",
    "#     'family_status',\n",
    "#     'housing_type',\n",
    "#     'days_of_birth_in_days',\n",
    "#     'days_employed',\n",
    "#     'days_registration',\n",
    "#     'car_age',\n",
    "#     'mobile_owner',\n",
    "#     'occupation_type',\n",
    "#     'number_of_family_members'\n",
    "# ]\n",
    "\n",
    "new_dataset = renamed_columns"
   ]
  },
  {
   "cell_type": "code",
   "execution_count": 34,
   "id": "46794035-8ae2-40b6-82ad-ca28df43b0f0",
   "metadata": {},
   "outputs": [],
   "source": [
    "# # Loop through each column and check for empty cells\n",
    "# for column in new_application_df.columns:\n",
    "#     empty_cells = new_application_df[column].isnull().sum()\n",
    "#     print(f\"Column '{column}' has {empty_cells} empty cells.\")"
   ]
  },
  {
   "cell_type": "code",
   "execution_count": 44,
   "id": "77dc231f-8763-432a-b748-40f1e4a942af",
   "metadata": {},
   "outputs": [
    {
     "ename": "AttributeError",
     "evalue": "'NoneType' object has no attribute 'to_csv'",
     "output_type": "error",
     "traceback": [
      "\u001b[0;31m---------------------------------------------------------------------------\u001b[0m",
      "\u001b[0;31mAttributeError\u001b[0m                            Traceback (most recent call last)",
      "Cell \u001b[0;32mIn[44], line 1\u001b[0m\n\u001b[0;32m----> 1\u001b[0m \u001b[43mnew_dataset\u001b[49m\u001b[38;5;241;43m.\u001b[39;49m\u001b[43mto_csv\u001b[49m(\u001b[38;5;124m'\u001b[39m\u001b[38;5;124m/home/student/new_loan_application.csv\u001b[39m\u001b[38;5;124m'\u001b[39m, index\u001b[38;5;241m=\u001b[39m\u001b[38;5;28;01mFalse\u001b[39;00m)\n",
      "\u001b[0;31mAttributeError\u001b[0m: 'NoneType' object has no attribute 'to_csv'"
     ]
    }
   ],
   "source": [
    "new_dataset.to_csv('/home/student/new_loan_application.csv', index=False)"
   ]
  },
  {
   "cell_type": "code",
   "execution_count": null,
   "id": "35e411a8-7c0c-464c-9ca0-9d46cc25a6de",
   "metadata": {},
   "outputs": [],
   "source": []
  },
  {
   "cell_type": "code",
   "execution_count": 38,
   "id": "0a6101c9-88fd-463a-a00a-2d5f1c69e56a",
   "metadata": {},
   "outputs": [],
   "source": []
  },
  {
   "cell_type": "code",
   "execution_count": null,
   "id": "1584961d-a9e9-4eb2-802e-24154f0551fe",
   "metadata": {},
   "outputs": [],
   "source": []
  },
  {
   "cell_type": "code",
   "execution_count": 45,
   "id": "513fc459-f63c-473c-a313-69db1bc2e3e0",
   "metadata": {},
   "outputs": [],
   "source": []
  },
  {
   "cell_type": "code",
   "execution_count": null,
   "id": "dc12c989-de7e-4772-ba9a-b0cfbeeef3ed",
   "metadata": {},
   "outputs": [],
   "source": []
  },
  {
   "cell_type": "code",
   "execution_count": null,
   "id": "15f0fb77-0575-4524-a9b2-bdff7c1c0908",
   "metadata": {},
   "outputs": [],
   "source": []
  }
 ],
 "metadata": {
  "kernelspec": {
   "display_name": "Python 3 (ipykernel)",
   "language": "python",
   "name": "python3"
  },
  "language_info": {
   "codemirror_mode": {
    "name": "ipython",
    "version": 3
   },
   "file_extension": ".py",
   "mimetype": "text/x-python",
   "name": "python",
   "nbconvert_exporter": "python",
   "pygments_lexer": "ipython3",
   "version": "3.10.12"
  }
 },
 "nbformat": 4,
 "nbformat_minor": 5
}
