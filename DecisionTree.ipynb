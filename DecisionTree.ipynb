{
 "cells": [
  {
   "cell_type": "code",
   "execution_count": 135,
   "id": "22ad1897-2ff1-4a96-988e-4fafed1e230b",
   "metadata": {},
   "outputs": [],
   "source": [
    "import pandas as pd\n",
    "import numpy as np\n",
    "from sklearn.model_selection import train_test_split\n",
    "from sklearn.tree import DecisionTreeClassifier\n",
    "from sklearn.metrics import accuracy_score, classification_report\n",
    "from sklearn.preprocessing import LabelEncoder"
   ]
  },
  {
   "cell_type": "code",
   "execution_count": 136,
   "id": "5c2ee9cd-0999-4d98-b84c-917e1fda14e8",
   "metadata": {},
   "outputs": [],
   "source": [
    "income_df = pd.read_csv('/home/student/IngajiDemo/dataset.csv')"
   ]
  },
  {
   "cell_type": "code",
   "execution_count": 137,
   "id": "2d78c6ff-113f-4fbe-addc-fa883b658920",
   "metadata": {},
   "outputs": [],
   "source": [
    "# print(income_df.isna().sum())"
   ]
  },
  {
   "cell_type": "code",
   "execution_count": 138,
   "id": "d08de600-269a-4348-959b-2bf583876c92",
   "metadata": {},
   "outputs": [],
   "source": [
    "income_df['Household_Head_Occupation'] = income_df.groupby('Household_Head_Highest_Grade_Completed')['Household_Head_Occupation'].transform(lambda x: x.ffill().bfill())"
   ]
  },
  {
   "cell_type": "code",
   "execution_count": 80,
   "id": "d90a43cd-7260-45e0-af4f-c130d2859598",
   "metadata": {},
   "outputs": [],
   "source": [
    "# print(income_df.isna().sum())"
   ]
  },
  {
   "cell_type": "code",
   "execution_count": 139,
   "id": "54460fad-fe28-48f3-98e5-c2ebfe9b0bba",
   "metadata": {},
   "outputs": [],
   "source": [
    "income_df['Household_Head_Class_of_Worker'] = income_df.groupby('Household_Head_Occupation')['Household_Head_Class_of_Worker'].transform(lambda x: x.ffill().bfill())"
   ]
  },
  {
   "cell_type": "code",
   "execution_count": 140,
   "id": "f02268c2-4eb3-4c2c-9727-1594f1b6516c",
   "metadata": {},
   "outputs": [],
   "source": [
    "income_df['Total_Number_of_Family_members'] = income_df.groupby('Type_of_Household')['Total_Number_of_Family_members'].transform(lambda x: x.ffill().bfill())"
   ]
  },
  {
   "cell_type": "code",
   "execution_count": 14,
   "id": "f7ee3c62-0e33-43e3-8612-3a7922e37d10",
   "metadata": {},
   "outputs": [],
   "source": [
    "# print(income_df.isna().sum())"
   ]
  },
  {
   "cell_type": "markdown",
   "id": "c92be86e-1d98-4f3a-9d56-a2e57080ee67",
   "metadata": {},
   "source": [
    "## Column Description\n",
    "1. Total_Household_Income: Total income of the household, which is crucial for assessing repayment capacity.\n",
    "2. Region: Geographical location, which may influence income levels and access to resources.\n",
    "3. Total_Food_Expenditure: Indicates spending habits and financial management skills, important for understanding financial stability.\n",
    "4. Main_Source_of_Income: Identifies primary income source, affecting economic stability and predictability of income.\n",
    "5. Agricultural_Household_Indicator: Whether the household is primarily engaged in agriculture, relevant for understanding risks associated with agricultural loans.\n",
    "6. Bread_and_Cereals_Expenditure: Spending on staples; high expenditure may indicate financial strain or food security issues.\n",
    "7. Total_Rice_Expenditure: Specific food expenditure, important in rice-dependent regions for assessing basic needs coverage.\n",
    "8. Meat_Expenditure: Indicates dietary habits and potential disposable income.\n",
    "9. Total_Fish_and_Marine_Products_Expenditure: Reflects dietary diversity and potential economic stability.\n",
    "10. Fruit_Expenditure: Another measure of dietary habits, can indicate health and economic conditions.\n",
    "11. Vegetables_Expenditure: Similar to fruit expenditure, reflecting spending habits and nutritional status.\n",
    "12. Restaurant_and_Hotels_Expenditure: Indicates discretionary spending; lower spending could signify economic hardship.\n",
    "13. Alcoholic_Beverages_Expenditure: Spending on alcohol may reflect lifestyle choices affecting financial management.\n",
    "14. Tobacco_Expenditure: Spending on tobacco can indicate financial priorities and health-related costs.\n",
    "15. Clothing, Footwear, and Other Wear Expenditure: A measure of consumer spending reflecting lifestyle and disposable income.\n",
    "16. Housing_and_Water_Expenditure: Vital for understanding housing stability, which impacts overall creditworthiness.\n",
    "17. Imputed_House_Rental_Value: Represents potential income from owning property, relevant for asset valuation.\n",
    "18. Medical_Care_Expenditure: Indicates financial burden from healthcare, affecting available resources for loan repayment.\n",
    "19. Transportation_Expenditure: Reflects mobility and potential for economic activity, impacting income generation.\n",
    "20. Communication_Expenditure: Vital for assessing connectivity and access to information, which can affect business opportunities.\n",
    "21. Education_Expenditure: Higher spending may correlate with better future income potential, influencing loan repayment prospects.\n",
    "22. Miscellaneous_Goods_and_Services_Expenditure: Other expenditures can indicate overall financial health.\n",
    "23. Special_Occasions_Expenditure: Reflects cultural practices and potential financial stress during celebrations.\n",
    "24. Crop_Farming_and_Gardening_expenses: Directly relevant for assessing investment in agriculture, crucial for loan evaluation.\n",
    "25. Total_Income_from_Entrepreneurial_Activities: Additional income source, important for total income assessment and repayment capacity.\n",
    "26. Household_Head_Sex: Gender may influence household income dynamics and access to credit.\n",
    "27. Household_Head_Age: Age may correlate with experience and financial stability.\n",
    "28. Household_Head_Marital_Status: Marital status can affect household stability and income generation.\n",
    "29. Household_Head_Highest_Grade_Completed: Education level can influence income potential and loan eligibility.\n",
    "30. Household_Head_Job_or_Business_Indicator: Employment status directly impacts financial stability.\n",
    "31. Household_Head_Occupation: Specific job type can indicate income levels and financial security.\n",
    "32. Household_Head_Class_of_Worker: Employment classification affects income stability.\n",
    "33. Type_of_Household: Structure of the household can impact financial dynamics and resource allocation.\n",
    "34. Total_Number_of_Family_members: Family size can affect income distribution and financial burden.\n",
    "35. Members_with_age_less_than_5_year_old: Younger dependents can indicate higher household expenses.\n",
    "36. Members_with_age_5_-_17_years_old: Children in this age range may reflect education-related expenditures.\n",
    "37. Total_number_of_family_members_employed: Employment levels can provide insights into household income stability.\n",
    "38. Type_of_Building/House: Type of dwelling can reflect economic status and potential asset value.\n",
    "39. Type_of_Roof: Indicates quality of housing, which can correlate with wealth.\n",
    "40. Type_of_Walls: Similar to roof type, reflects household stability and asset quality.\n",
    "41. House_Floor_Area: Larger areas may indicate better economic conditions and asset stability.\n",
    "42. House_Age: Older houses may require more maintenance, impacting financial health.\n",
    "43. Number_of_bedrooms: Indicates household size and living conditions.\n",
    "44. Tenure_Status: Owning vs. renting impacts financial stability and asset value.\n",
    "45. Toilet_Facilities: Access to sanitation can reflect overall living standards.\n",
    "46. Electricity: Access to electricity indicates economic development and potential for productivity.\n",
    "47. Main_Source_of_Water_Supply: Water access impacts living conditions and agricultural viability.\n",
    "48. Number_of_Television: Ownership may reflect disposable income.\n",
    "49. Number_of_CD/VCD/DVD: Similar to television ownership, reflects spending on entertainment.\n",
    "50. Number_of_Component/Stereo_set: Indicates lifestyle and economic status.\n",
    "52. Number_of_Washing_Machine: Ownership reflects financial capability and lifestyle\n",
    "53. Number_of_Airconditioner: Indicates economic status and comfort level.\n",
    "54. Number_of_Car,_Jeep,_Van: Vehicle ownership signifies economic capability and mobility.\n",
    "55. Number_of_Landline/wireless_telephones: Communication access affects connectivity and business potential.\n",
    "56. Number_of_Cellular_phone: Smartphone ownership reflects economic status and communication access.\n",
    "57. Number_of_Personal_Computer: Indicates technological access, affecting education and economic opportunities.\n",
    "58. Number_of_Stove_with_Oven/Gas_Range: Kitchen appliances can indicate household economic status.\n",
    "59. Number_of_Motorized_Banca: Relevant for rural economies; reflects livelihood and mobility.\n",
    "60. Number_of_Motorcycle/Tricycle: Transportation availability can impact access to markets and services."
   ]
  },
  {
   "cell_type": "code",
   "execution_count": 141,
   "id": "f5c0ef7d-20be-48a2-b0af-25e1a7d274ec",
   "metadata": {},
   "outputs": [],
   "source": [
    "income_df.rename(columns={'Total_Food_Expenditure': 'total_food_expenditure', \n",
    "                          'Bread_and_Cereals_Expenditure': 'bread_and_cereals_expenditure',\n",
    "                          'Total_Rice_Expenditure': 'total_rice_expenditure',\n",
    "                          'Meat_Expenditure': 'meat_expenditure',\n",
    "                          'Total_Fish_and__marine_products_Expenditure': 'total_fish_and__marine_products_expenditure',\n",
    "                          'Fruit_Expenditure': 'fruit_expenditure',\n",
    "                          'Vegetables_Expenditure': 'vegetables_expenditure',\n",
    "                          'Restaurant_and_hotels_Expenditure': 'restaurant_and_hotels_expenditure',\n",
    "                          'Alcoholic_Beverages_Expenditure': 'alcoholic_beverages_expenditure',\n",
    "                          'Tobacco_Expenditure': 'tobacco_expenditure',\n",
    "                          'Clothing,_Footwear_and_Other_Wear_Expenditure': 'clothing_footwear_and_other_wear_expenditure',\n",
    "                          'Housing_and_water_Expenditure': 'housing_and_water_expenditure',\n",
    "                          'Medical_Care_Expenditure': 'medical_care_expenditure',\n",
    "                          'Transportation_Expenditure': 'transportation_expenditure',\n",
    "                          'Communication_Expenditure': 'communication_expenditure',\n",
    "                          'Education_Expenditure': 'education_expenditure',\n",
    "                          'Miscellaneous_Goods_and_Services_Expenditure': 'miscellaneous_goods_and_services_expenditure',\n",
    "                          'Special_Occasions_Expenditure': 'special_occasions_expenditure',\n",
    "                          'Main_Source_of_Income': 'main_source_of_income',\n",
    "                          'Household_Head_Highest_Grade_Completed': 'household_head_highest_grade_completed',\n",
    "                          'Household_Head_Occupation': 'household_head_occupation',\n",
    "                          'Tenure_Status': 'tenure_status',\n",
    "                          'Type_of_Building/House': 'type_of_building/house',\n",
    "                          'Type_of_Household': 'type_of_household',\n",
    "                          'Household_Head_Class_of_Worker': 'household_head_class_of_worker',\n",
    "                          'Total_Household_Income': 'total_household_income',\n",
    "                          'Total_Expenditures': 'total_expenditures',\n",
    "                          'Crop_Farming_and_Gardening_expenses': 'crop_farming_and_gardening_expenses'\n",
    "                         }, inplace=True)"
   ]
  },
  {
   "cell_type": "code",
   "execution_count": 142,
   "id": "db2f8535-afbb-4cfd-af31-a5c5fd18579e",
   "metadata": {},
   "outputs": [],
   "source": [
    "# Define expenditure columns\n",
    "expenditure_columns = [\n",
    "    'total_food_expenditure', 'bread_and_cereals_expenditure', 'total_rice_expenditure',\n",
    "    'meat_expenditure', 'total_fish_and__marine_products_expenditure', 'fruit_expenditure',\n",
    "    'vegetables_expenditure', 'restaurant_and_hotels_expenditure', 'alcoholic_beverages_expenditure',\n",
    "    'tobacco_expenditure', 'clothing_footwear_and_other_wear_expenditure',\n",
    "    'housing_and_water_expenditure', 'medical_care_expenditure', 'transportation_expenditure',\n",
    "    'communication_expenditure', 'education_expenditure', 'miscellaneous_goods_and_services_expenditure',\n",
    "    'special_occasions_expenditure', 'crop_farming_and_gardening_expenses'\n",
    "]"
   ]
  },
  {
   "cell_type": "code",
   "execution_count": 143,
   "id": "58af83b9-852b-44ff-a0f5-d33c53a05369",
   "metadata": {},
   "outputs": [],
   "source": [
    "# Filter for farmers' occupations\n",
    "farmer_occupations = [\n",
    "    'Farmers', 'Agricultural laborers', 'Rice farmers', 'Crop Farming and Gardening',\n",
    "    'Livestock farmers', 'Agricultural technicians', 'Farmhands and laborers', 'Hog raising farmers'\n",
    "]"
   ]
  },
  {
   "cell_type": "code",
   "execution_count": 144,
   "id": "2faf470a-c31c-46de-828f-ac01b3d10aae",
   "metadata": {},
   "outputs": [],
   "source": [
    "farmers_df = income_df[income_df['household_head_occupation'].isin(farmer_occupations)].copy()"
   ]
  },
  {
   "cell_type": "code",
   "execution_count": 145,
   "id": "b042597e-cf12-471e-b04f-61f4d5df16f3",
   "metadata": {},
   "outputs": [],
   "source": [
    "farmers_df['total_expenditures'] = farmers_df[expenditure_columns].sum(axis=1)"
   ]
  },
  {
   "cell_type": "code",
   "execution_count": 146,
   "id": "4b66c8a9-23fa-4d34-b404-b373ef3f3b3e",
   "metadata": {},
   "outputs": [],
   "source": [
    "farmers_df['remaining_income'] = farmers_df['total_household_income'] - farmers_df['total_expenditures']"
   ]
  },
  {
   "cell_type": "code",
   "execution_count": 147,
   "id": "55bd2134-e394-4e47-aadc-52bc8ec9aae0",
   "metadata": {},
   "outputs": [],
   "source": [
    "# Assign credit scores\n",
    "def assign_credit_score(row):\n",
    "    if row['remaining_income'] > 50000:\n",
    "        return 750\n",
    "    elif row['remaining_income'] > 20000:\n",
    "        return 600\n",
    "    elif row['remaining_income'] > 5000:\n",
    "        return 500\n",
    "    else:\n",
    "        return 400"
   ]
  },
  {
   "cell_type": "code",
   "execution_count": 164,
   "id": "f6d67a17-94b6-45b2-944a-8a0a290f95b2",
   "metadata": {},
   "outputs": [],
   "source": [
    "farmers_df['credit_score'] = farmers_df.apply(assign_credit_score, axis=1)\n",
    "# farmers_df.head(50)"
   ]
  },
  {
   "cell_type": "code",
   "execution_count": 133,
   "id": "6ae32895-ebe2-4542-a3e4-ec78dd336b08",
   "metadata": {},
   "outputs": [],
   "source": [
    "# Print DataFrame info to diagnose data types\n",
    "# print(\"DataFrame Info:\\n\", farmers_df.info())"
   ]
  },
  {
   "cell_type": "code",
   "execution_count": 149,
   "id": "7f00f9a9-cbae-43e3-8900-d8721f3ed7de",
   "metadata": {},
   "outputs": [
    {
     "name": "stdout",
     "output_type": "stream",
     "text": [
      "Unique values in total_household_income:\n",
      "[ 82785 107589 198621 ... 137320 133171 129500]\n",
      "Unique values in total_expenditures:\n",
      "[178294 223671 365287 ... 168937 189125 311099]\n",
      "Unique values in remaining_income:\n",
      "[ -95509 -116082 -166666 ...  -31617  -55954 -181599]\n"
     ]
    }
   ],
   "source": [
    "# Check each numeric column for non-numeric values\n",
    "numeric_columns = ['total_household_income', 'total_expenditures', 'remaining_income']\n",
    "for col in numeric_columns:\n",
    "    print(f\"Unique values in {col}:\")\n",
    "    print(farmers_df[col].unique())\n",
    "\n",
    " # Identify non-numeric entries\n",
    "    non_numeric = farmers_df[~farmers_df[col].apply(lambda x: isinstance(x, (int, float)))][col]\n",
    "    if not non_numeric.empty:\n",
    "        print(f\"Non-numeric entries in {col}:\")\n",
    "        print(non_numeric)\n"
   ]
  },
  {
   "cell_type": "code",
   "execution_count": 150,
   "id": "94baadbf-c5f3-4f43-ab92-2255bc1e00f8",
   "metadata": {},
   "outputs": [],
   "source": [
    "# Convert numeric columns, coercing errors to NaN\n",
    "for col in numeric_columns:\n",
    "    farmers_df[col] = pd.to_numeric(farmers_df[col], errors='coerce')"
   ]
  },
  {
   "cell_type": "code",
   "execution_count": 151,
   "id": "4da80382-0361-42c1-b7fa-6d3f7ddeccb7",
   "metadata": {},
   "outputs": [
    {
     "name": "stdout",
     "output_type": "stream",
     "text": [
      "NaN counts in numeric columns:\n",
      " total_household_income    0\n",
      "total_expenditures        0\n",
      "remaining_income          0\n",
      "dtype: int64\n"
     ]
    }
   ],
   "source": [
    "print(\"NaN counts in numeric columns:\\n\", farmers_df[numeric_columns].isnull().sum())"
   ]
  },
  {
   "cell_type": "code",
   "execution_count": 152,
   "id": "eabc880b-e3ef-428d-b7de-4adf87b404ed",
   "metadata": {},
   "outputs": [],
   "source": [
    "# Prepare features and target variable\n",
    "categorical_columns = [\n",
    "    'main_source_of_income', 'household_head_highest_grade_completed', 'household_head_occupation', \n",
    "    'tenure_status', 'type_of_building/house', 'type_of_household', 'household_head_class_of_worker'\n",
    "]"
   ]
  },
  {
   "cell_type": "code",
   "execution_count": 160,
   "id": "d8a59ee5-6470-4d8b-be9b-26dba9f000b7",
   "metadata": {},
   "outputs": [],
   "source": [
    "# Encode categorical variables\n",
    "le = LabelEncoder()\n",
    "for col in categorical_columns:\n",
    "    farmers_df[col] = le.fit_transform(farmers_df[col])\n",
    "# farmers_df.head(20)"
   ]
  },
  {
   "cell_type": "code",
   "execution_count": 161,
   "id": "69574077-963a-4d7b-9b22-ac454a24af71",
   "metadata": {},
   "outputs": [],
   "source": [
    "# Define features and target variable\n",
    "X = farmers_df.drop(columns=['credit_score', 'remaining_income', 'total_expenditures'], errors='ignore')\n",
    "y = farmers_df['credit_score']"
   ]
  },
  {
   "cell_type": "code",
   "execution_count": 162,
   "id": "45024e3f-e55d-4cb5-bc56-afc81c080fd0",
   "metadata": {},
   "outputs": [
    {
     "name": "stdout",
     "output_type": "stream",
     "text": [
      "Unique credit scores in target variable: [400 750 500 600]\n"
     ]
    }
   ],
   "source": [
    "# Check if target variable y exists\n",
    "if 'credit_score' in farmers_df.columns:\n",
    "    print(\"Unique credit scores in target variable:\", y.unique())\n",
    "else:\n",
    "    print(\"credit_score not found.\")"
   ]
  },
  {
   "cell_type": "code",
   "execution_count": 156,
   "id": "1c4d9d3b-c7d0-4960-bb76-2c5f1bc6032a",
   "metadata": {},
   "outputs": [
    {
     "name": "stdout",
     "output_type": "stream",
     "text": [
      "Unique credit scores in target variable: [400 750 500 600]\n"
     ]
    }
   ],
   "source": [
    "# Check if target variable y exists\n",
    "if 'credit_score' in farmers_df.columns:\n",
    "    print(\"Unique credit scores in target variable:\", y.unique())\n",
    "else:\n",
    "    print(\"credit_score not found.\")"
   ]
  },
  {
   "cell_type": "code",
   "execution_count": 157,
   "id": "00de8bd1-e212-4de1-93e7-4e33057ac2ad",
   "metadata": {},
   "outputs": [],
   "source": [
    "X_train, X_test, y_train, y_test = train_test_split(X, y, test_size=0.2, random_state=42)"
   ]
  },
  {
   "cell_type": "code",
   "execution_count": 158,
   "id": "05d73ea6-5aa7-4fdd-8fff-8e536abc3f13",
   "metadata": {},
   "outputs": [
    {
     "ename": "ValueError",
     "evalue": "could not convert string to float: 'Caraga'",
     "output_type": "error",
     "traceback": [
      "\u001b[0;31m---------------------------------------------------------------------------\u001b[0m",
      "\u001b[0;31mValueError\u001b[0m                                Traceback (most recent call last)",
      "\u001b[0;32m/tmp/ipykernel_51209/3367380490.py\u001b[0m in \u001b[0;36m?\u001b[0;34m()\u001b[0m\n\u001b[1;32m      1\u001b[0m \u001b[0mmodel\u001b[0m \u001b[0;34m=\u001b[0m \u001b[0mDecisionTreeClassifier\u001b[0m\u001b[0;34m(\u001b[0m\u001b[0mrandom_state\u001b[0m\u001b[0;34m=\u001b[0m\u001b[0;36m42\u001b[0m\u001b[0;34m)\u001b[0m\u001b[0;34m\u001b[0m\u001b[0;34m\u001b[0m\u001b[0m\n\u001b[0;32m----> 2\u001b[0;31m \u001b[0mmodel\u001b[0m\u001b[0;34m.\u001b[0m\u001b[0mfit\u001b[0m\u001b[0;34m(\u001b[0m\u001b[0mX_train\u001b[0m\u001b[0;34m,\u001b[0m \u001b[0my_train\u001b[0m\u001b[0;34m)\u001b[0m\u001b[0;34m\u001b[0m\u001b[0;34m\u001b[0m\u001b[0m\n\u001b[0m\u001b[1;32m      3\u001b[0m \u001b[0;34m\u001b[0m\u001b[0m\n\u001b[1;32m      4\u001b[0m \u001b[0;31m# Make predictions\u001b[0m\u001b[0;34m\u001b[0m\u001b[0;34m\u001b[0m\u001b[0m\n\u001b[1;32m      5\u001b[0m \u001b[0my_pred\u001b[0m \u001b[0;34m=\u001b[0m \u001b[0mmodel\u001b[0m\u001b[0;34m.\u001b[0m\u001b[0mpredict\u001b[0m\u001b[0;34m(\u001b[0m\u001b[0mX_test\u001b[0m\u001b[0;34m)\u001b[0m\u001b[0;34m\u001b[0m\u001b[0;34m\u001b[0m\u001b[0m\n",
      "\u001b[0;32m~/.local/lib/python3.10/site-packages/sklearn/base.py\u001b[0m in \u001b[0;36m?\u001b[0;34m(estimator, *args, **kwargs)\u001b[0m\n\u001b[1;32m   1469\u001b[0m                 skip_parameter_validation=(\n\u001b[1;32m   1470\u001b[0m                     \u001b[0mprefer_skip_nested_validation\u001b[0m \u001b[0;32mor\u001b[0m \u001b[0mglobal_skip_validation\u001b[0m\u001b[0;34m\u001b[0m\u001b[0;34m\u001b[0m\u001b[0m\n\u001b[1;32m   1471\u001b[0m                 )\n\u001b[1;32m   1472\u001b[0m             ):\n\u001b[0;32m-> 1473\u001b[0;31m                 \u001b[0;32mreturn\u001b[0m \u001b[0mfit_method\u001b[0m\u001b[0;34m(\u001b[0m\u001b[0mestimator\u001b[0m\u001b[0;34m,\u001b[0m \u001b[0;34m*\u001b[0m\u001b[0margs\u001b[0m\u001b[0;34m,\u001b[0m \u001b[0;34m**\u001b[0m\u001b[0mkwargs\u001b[0m\u001b[0;34m)\u001b[0m\u001b[0;34m\u001b[0m\u001b[0;34m\u001b[0m\u001b[0m\n\u001b[0m",
      "\u001b[0;32m~/.local/lib/python3.10/site-packages/sklearn/tree/_classes.py\u001b[0m in \u001b[0;36m?\u001b[0;34m(self, X, y, sample_weight, check_input)\u001b[0m\n\u001b[1;32m   1005\u001b[0m         \u001b[0mself\u001b[0m \u001b[0;34m:\u001b[0m \u001b[0mDecisionTreeClassifier\u001b[0m\u001b[0;34m\u001b[0m\u001b[0;34m\u001b[0m\u001b[0m\n\u001b[1;32m   1006\u001b[0m             \u001b[0mFitted\u001b[0m \u001b[0mestimator\u001b[0m\u001b[0;34m.\u001b[0m\u001b[0;34m\u001b[0m\u001b[0;34m\u001b[0m\u001b[0m\n\u001b[1;32m   1007\u001b[0m         \"\"\"\n\u001b[1;32m   1008\u001b[0m \u001b[0;34m\u001b[0m\u001b[0m\n\u001b[0;32m-> 1009\u001b[0;31m         super()._fit(\n\u001b[0m\u001b[1;32m   1010\u001b[0m             \u001b[0mX\u001b[0m\u001b[0;34m,\u001b[0m\u001b[0;34m\u001b[0m\u001b[0;34m\u001b[0m\u001b[0m\n\u001b[1;32m   1011\u001b[0m             \u001b[0my\u001b[0m\u001b[0;34m,\u001b[0m\u001b[0;34m\u001b[0m\u001b[0;34m\u001b[0m\u001b[0m\n\u001b[1;32m   1012\u001b[0m             \u001b[0msample_weight\u001b[0m\u001b[0;34m=\u001b[0m\u001b[0msample_weight\u001b[0m\u001b[0;34m,\u001b[0m\u001b[0;34m\u001b[0m\u001b[0;34m\u001b[0m\u001b[0m\n",
      "\u001b[0;32m~/.local/lib/python3.10/site-packages/sklearn/tree/_classes.py\u001b[0m in \u001b[0;36m?\u001b[0;34m(self, X, y, sample_weight, check_input, missing_values_in_feature_mask)\u001b[0m\n\u001b[1;32m    248\u001b[0m             check_X_params = dict(\n\u001b[1;32m    249\u001b[0m                 \u001b[0mdtype\u001b[0m\u001b[0;34m=\u001b[0m\u001b[0mDTYPE\u001b[0m\u001b[0;34m,\u001b[0m \u001b[0maccept_sparse\u001b[0m\u001b[0;34m=\u001b[0m\u001b[0;34m\"csc\"\u001b[0m\u001b[0;34m,\u001b[0m \u001b[0mforce_all_finite\u001b[0m\u001b[0;34m=\u001b[0m\u001b[0;32mFalse\u001b[0m\u001b[0;34m\u001b[0m\u001b[0;34m\u001b[0m\u001b[0m\n\u001b[1;32m    250\u001b[0m             )\n\u001b[1;32m    251\u001b[0m             \u001b[0mcheck_y_params\u001b[0m \u001b[0;34m=\u001b[0m \u001b[0mdict\u001b[0m\u001b[0;34m(\u001b[0m\u001b[0mensure_2d\u001b[0m\u001b[0;34m=\u001b[0m\u001b[0;32mFalse\u001b[0m\u001b[0;34m,\u001b[0m \u001b[0mdtype\u001b[0m\u001b[0;34m=\u001b[0m\u001b[0;32mNone\u001b[0m\u001b[0;34m)\u001b[0m\u001b[0;34m\u001b[0m\u001b[0;34m\u001b[0m\u001b[0m\n\u001b[0;32m--> 252\u001b[0;31m             X, y = self._validate_data(\n\u001b[0m\u001b[1;32m    253\u001b[0m                 \u001b[0mX\u001b[0m\u001b[0;34m,\u001b[0m \u001b[0my\u001b[0m\u001b[0;34m,\u001b[0m \u001b[0mvalidate_separately\u001b[0m\u001b[0;34m=\u001b[0m\u001b[0;34m(\u001b[0m\u001b[0mcheck_X_params\u001b[0m\u001b[0;34m,\u001b[0m \u001b[0mcheck_y_params\u001b[0m\u001b[0;34m)\u001b[0m\u001b[0;34m\u001b[0m\u001b[0;34m\u001b[0m\u001b[0m\n\u001b[1;32m    254\u001b[0m             )\n\u001b[1;32m    255\u001b[0m \u001b[0;34m\u001b[0m\u001b[0m\n",
      "\u001b[0;32m~/.local/lib/python3.10/site-packages/sklearn/base.py\u001b[0m in \u001b[0;36m?\u001b[0;34m(self, X, y, reset, validate_separately, cast_to_ndarray, **check_params)\u001b[0m\n\u001b[1;32m    641\u001b[0m                 \u001b[0;31m# :(\u001b[0m\u001b[0;34m\u001b[0m\u001b[0;34m\u001b[0m\u001b[0m\n\u001b[1;32m    642\u001b[0m                 \u001b[0mcheck_X_params\u001b[0m\u001b[0;34m,\u001b[0m \u001b[0mcheck_y_params\u001b[0m \u001b[0;34m=\u001b[0m \u001b[0mvalidate_separately\u001b[0m\u001b[0;34m\u001b[0m\u001b[0;34m\u001b[0m\u001b[0m\n\u001b[1;32m    643\u001b[0m                 \u001b[0;32mif\u001b[0m \u001b[0;34m\"estimator\"\u001b[0m \u001b[0;32mnot\u001b[0m \u001b[0;32min\u001b[0m \u001b[0mcheck_X_params\u001b[0m\u001b[0;34m:\u001b[0m\u001b[0;34m\u001b[0m\u001b[0;34m\u001b[0m\u001b[0m\n\u001b[1;32m    644\u001b[0m                     \u001b[0mcheck_X_params\u001b[0m \u001b[0;34m=\u001b[0m \u001b[0;34m{\u001b[0m\u001b[0;34m**\u001b[0m\u001b[0mdefault_check_params\u001b[0m\u001b[0;34m,\u001b[0m \u001b[0;34m**\u001b[0m\u001b[0mcheck_X_params\u001b[0m\u001b[0;34m}\u001b[0m\u001b[0;34m\u001b[0m\u001b[0;34m\u001b[0m\u001b[0m\n\u001b[0;32m--> 645\u001b[0;31m                 \u001b[0mX\u001b[0m \u001b[0;34m=\u001b[0m \u001b[0mcheck_array\u001b[0m\u001b[0;34m(\u001b[0m\u001b[0mX\u001b[0m\u001b[0;34m,\u001b[0m \u001b[0minput_name\u001b[0m\u001b[0;34m=\u001b[0m\u001b[0;34m\"X\"\u001b[0m\u001b[0;34m,\u001b[0m \u001b[0;34m**\u001b[0m\u001b[0mcheck_X_params\u001b[0m\u001b[0;34m)\u001b[0m\u001b[0;34m\u001b[0m\u001b[0;34m\u001b[0m\u001b[0m\n\u001b[0m\u001b[1;32m    646\u001b[0m                 \u001b[0;32mif\u001b[0m \u001b[0;34m\"estimator\"\u001b[0m \u001b[0;32mnot\u001b[0m \u001b[0;32min\u001b[0m \u001b[0mcheck_y_params\u001b[0m\u001b[0;34m:\u001b[0m\u001b[0;34m\u001b[0m\u001b[0;34m\u001b[0m\u001b[0m\n\u001b[1;32m    647\u001b[0m                     \u001b[0mcheck_y_params\u001b[0m \u001b[0;34m=\u001b[0m \u001b[0;34m{\u001b[0m\u001b[0;34m**\u001b[0m\u001b[0mdefault_check_params\u001b[0m\u001b[0;34m,\u001b[0m \u001b[0;34m**\u001b[0m\u001b[0mcheck_y_params\u001b[0m\u001b[0;34m}\u001b[0m\u001b[0;34m\u001b[0m\u001b[0;34m\u001b[0m\u001b[0m\n\u001b[1;32m    648\u001b[0m                 \u001b[0my\u001b[0m \u001b[0;34m=\u001b[0m \u001b[0mcheck_array\u001b[0m\u001b[0;34m(\u001b[0m\u001b[0my\u001b[0m\u001b[0;34m,\u001b[0m \u001b[0minput_name\u001b[0m\u001b[0;34m=\u001b[0m\u001b[0;34m\"y\"\u001b[0m\u001b[0;34m,\u001b[0m \u001b[0;34m**\u001b[0m\u001b[0mcheck_y_params\u001b[0m\u001b[0;34m)\u001b[0m\u001b[0;34m\u001b[0m\u001b[0;34m\u001b[0m\u001b[0m\n",
      "\u001b[0;32m~/.local/lib/python3.10/site-packages/sklearn/utils/validation.py\u001b[0m in \u001b[0;36m?\u001b[0;34m(array, accept_sparse, accept_large_sparse, dtype, order, copy, force_writeable, force_all_finite, ensure_2d, allow_nd, ensure_min_samples, ensure_min_features, estimator, input_name)\u001b[0m\n\u001b[1;32m   1009\u001b[0m                         )\n\u001b[1;32m   1010\u001b[0m                     \u001b[0marray\u001b[0m \u001b[0;34m=\u001b[0m \u001b[0mxp\u001b[0m\u001b[0;34m.\u001b[0m\u001b[0mastype\u001b[0m\u001b[0;34m(\u001b[0m\u001b[0marray\u001b[0m\u001b[0;34m,\u001b[0m \u001b[0mdtype\u001b[0m\u001b[0;34m,\u001b[0m \u001b[0mcopy\u001b[0m\u001b[0;34m=\u001b[0m\u001b[0;32mFalse\u001b[0m\u001b[0;34m)\u001b[0m\u001b[0;34m\u001b[0m\u001b[0;34m\u001b[0m\u001b[0m\n\u001b[1;32m   1011\u001b[0m                 \u001b[0;32melse\u001b[0m\u001b[0;34m:\u001b[0m\u001b[0;34m\u001b[0m\u001b[0;34m\u001b[0m\u001b[0m\n\u001b[1;32m   1012\u001b[0m                     \u001b[0marray\u001b[0m \u001b[0;34m=\u001b[0m \u001b[0m_asarray_with_order\u001b[0m\u001b[0;34m(\u001b[0m\u001b[0marray\u001b[0m\u001b[0;34m,\u001b[0m \u001b[0morder\u001b[0m\u001b[0;34m=\u001b[0m\u001b[0morder\u001b[0m\u001b[0;34m,\u001b[0m \u001b[0mdtype\u001b[0m\u001b[0;34m=\u001b[0m\u001b[0mdtype\u001b[0m\u001b[0;34m,\u001b[0m \u001b[0mxp\u001b[0m\u001b[0;34m=\u001b[0m\u001b[0mxp\u001b[0m\u001b[0;34m)\u001b[0m\u001b[0;34m\u001b[0m\u001b[0;34m\u001b[0m\u001b[0m\n\u001b[0;32m-> 1013\u001b[0;31m             \u001b[0;32mexcept\u001b[0m \u001b[0mComplexWarning\u001b[0m \u001b[0;32mas\u001b[0m \u001b[0mcomplex_warning\u001b[0m\u001b[0;34m:\u001b[0m\u001b[0;34m\u001b[0m\u001b[0;34m\u001b[0m\u001b[0m\n\u001b[0m\u001b[1;32m   1014\u001b[0m                 raise ValueError(\n\u001b[1;32m   1015\u001b[0m                     \u001b[0;34m\"Complex data not supported\\n{}\\n\"\u001b[0m\u001b[0;34m.\u001b[0m\u001b[0mformat\u001b[0m\u001b[0;34m(\u001b[0m\u001b[0marray\u001b[0m\u001b[0;34m)\u001b[0m\u001b[0;34m\u001b[0m\u001b[0;34m\u001b[0m\u001b[0m\n\u001b[1;32m   1016\u001b[0m                 ) from complex_warning\n",
      "\u001b[0;32m~/.local/lib/python3.10/site-packages/sklearn/utils/_array_api.py\u001b[0m in \u001b[0;36m?\u001b[0;34m(array, dtype, order, copy, xp, device)\u001b[0m\n\u001b[1;32m    747\u001b[0m         \u001b[0;31m# Use NumPy API to support order\u001b[0m\u001b[0;34m\u001b[0m\u001b[0;34m\u001b[0m\u001b[0m\n\u001b[1;32m    748\u001b[0m         \u001b[0;32mif\u001b[0m \u001b[0mcopy\u001b[0m \u001b[0;32mis\u001b[0m \u001b[0;32mTrue\u001b[0m\u001b[0;34m:\u001b[0m\u001b[0;34m\u001b[0m\u001b[0;34m\u001b[0m\u001b[0m\n\u001b[1;32m    749\u001b[0m             \u001b[0marray\u001b[0m \u001b[0;34m=\u001b[0m \u001b[0mnumpy\u001b[0m\u001b[0;34m.\u001b[0m\u001b[0marray\u001b[0m\u001b[0;34m(\u001b[0m\u001b[0marray\u001b[0m\u001b[0;34m,\u001b[0m \u001b[0morder\u001b[0m\u001b[0;34m=\u001b[0m\u001b[0morder\u001b[0m\u001b[0;34m,\u001b[0m \u001b[0mdtype\u001b[0m\u001b[0;34m=\u001b[0m\u001b[0mdtype\u001b[0m\u001b[0;34m)\u001b[0m\u001b[0;34m\u001b[0m\u001b[0;34m\u001b[0m\u001b[0m\n\u001b[1;32m    750\u001b[0m         \u001b[0;32melse\u001b[0m\u001b[0;34m:\u001b[0m\u001b[0;34m\u001b[0m\u001b[0;34m\u001b[0m\u001b[0m\n\u001b[0;32m--> 751\u001b[0;31m             \u001b[0marray\u001b[0m \u001b[0;34m=\u001b[0m \u001b[0mnumpy\u001b[0m\u001b[0;34m.\u001b[0m\u001b[0masarray\u001b[0m\u001b[0;34m(\u001b[0m\u001b[0marray\u001b[0m\u001b[0;34m,\u001b[0m \u001b[0morder\u001b[0m\u001b[0;34m=\u001b[0m\u001b[0morder\u001b[0m\u001b[0;34m,\u001b[0m \u001b[0mdtype\u001b[0m\u001b[0;34m=\u001b[0m\u001b[0mdtype\u001b[0m\u001b[0;34m)\u001b[0m\u001b[0;34m\u001b[0m\u001b[0;34m\u001b[0m\u001b[0m\n\u001b[0m\u001b[1;32m    752\u001b[0m \u001b[0;34m\u001b[0m\u001b[0m\n\u001b[1;32m    753\u001b[0m         \u001b[0;31m# At this point array is a NumPy ndarray. We convert it to an array\u001b[0m\u001b[0;34m\u001b[0m\u001b[0;34m\u001b[0m\u001b[0m\n\u001b[1;32m    754\u001b[0m         \u001b[0;31m# container that is consistent with the input's namespace.\u001b[0m\u001b[0;34m\u001b[0m\u001b[0;34m\u001b[0m\u001b[0m\n",
      "\u001b[0;32m~/.local/lib/python3.10/site-packages/pandas/core/generic.py\u001b[0m in \u001b[0;36m?\u001b[0;34m(self, dtype, copy)\u001b[0m\n\u001b[1;32m   2149\u001b[0m     def __array__(\n\u001b[1;32m   2150\u001b[0m         \u001b[0mself\u001b[0m\u001b[0;34m,\u001b[0m \u001b[0mdtype\u001b[0m\u001b[0;34m:\u001b[0m \u001b[0mnpt\u001b[0m\u001b[0;34m.\u001b[0m\u001b[0mDTypeLike\u001b[0m \u001b[0;34m|\u001b[0m \u001b[0;32mNone\u001b[0m \u001b[0;34m=\u001b[0m \u001b[0;32mNone\u001b[0m\u001b[0;34m,\u001b[0m \u001b[0mcopy\u001b[0m\u001b[0;34m:\u001b[0m \u001b[0mbool_t\u001b[0m \u001b[0;34m|\u001b[0m \u001b[0;32mNone\u001b[0m \u001b[0;34m=\u001b[0m \u001b[0;32mNone\u001b[0m\u001b[0;34m\u001b[0m\u001b[0;34m\u001b[0m\u001b[0m\n\u001b[1;32m   2151\u001b[0m     ) -> np.ndarray:\n\u001b[1;32m   2152\u001b[0m         \u001b[0mvalues\u001b[0m \u001b[0;34m=\u001b[0m \u001b[0mself\u001b[0m\u001b[0;34m.\u001b[0m\u001b[0m_values\u001b[0m\u001b[0;34m\u001b[0m\u001b[0;34m\u001b[0m\u001b[0m\n\u001b[0;32m-> 2153\u001b[0;31m         \u001b[0marr\u001b[0m \u001b[0;34m=\u001b[0m \u001b[0mnp\u001b[0m\u001b[0;34m.\u001b[0m\u001b[0masarray\u001b[0m\u001b[0;34m(\u001b[0m\u001b[0mvalues\u001b[0m\u001b[0;34m,\u001b[0m \u001b[0mdtype\u001b[0m\u001b[0;34m=\u001b[0m\u001b[0mdtype\u001b[0m\u001b[0;34m)\u001b[0m\u001b[0;34m\u001b[0m\u001b[0;34m\u001b[0m\u001b[0m\n\u001b[0m\u001b[1;32m   2154\u001b[0m         if (\n\u001b[1;32m   2155\u001b[0m             \u001b[0mastype_is_view\u001b[0m\u001b[0;34m(\u001b[0m\u001b[0mvalues\u001b[0m\u001b[0;34m.\u001b[0m\u001b[0mdtype\u001b[0m\u001b[0;34m,\u001b[0m \u001b[0marr\u001b[0m\u001b[0;34m.\u001b[0m\u001b[0mdtype\u001b[0m\u001b[0;34m)\u001b[0m\u001b[0;34m\u001b[0m\u001b[0;34m\u001b[0m\u001b[0m\n\u001b[1;32m   2156\u001b[0m             \u001b[0;32mand\u001b[0m \u001b[0musing_copy_on_write\u001b[0m\u001b[0;34m(\u001b[0m\u001b[0;34m)\u001b[0m\u001b[0;34m\u001b[0m\u001b[0;34m\u001b[0m\u001b[0m\n",
      "\u001b[0;31mValueError\u001b[0m: could not convert string to float: 'Caraga'"
     ]
    }
   ],
   "source": [
    "model = DecisionTreeClassifier(random_state=42)\n",
    "model.fit(X_train, y_train)\n",
    "\n",
    "# Make predictions\n",
    "y_pred = model.predict(X_test)\n",
    "\n",
    "# Evaluate the model\n",
    "accuracy = accuracy_score(y_test, y_pred)\n",
    "report = classification_report(y_test, y_pred)\n",
    "\n",
    "print(f\"Accuracy: {accuracy:.2f}\")\n",
    "print(\"Classification Report:\")\n",
    "print(report)"
   ]
  }
 ],
 "metadata": {
  "kernelspec": {
   "display_name": "Python 3 (ipykernel)",
   "language": "python",
   "name": "python3"
  },
  "language_info": {
   "codemirror_mode": {
    "name": "ipython",
    "version": 3
   },
   "file_extension": ".py",
   "mimetype": "text/x-python",
   "name": "python",
   "nbconvert_exporter": "python",
   "pygments_lexer": "ipython3",
   "version": "3.10.12"
  }
 },
 "nbformat": 4,
 "nbformat_minor": 5
}
