{
 "cells": [
  {
   "cell_type": "code",
   "execution_count": 94,
   "id": "1544115e-3661-42a1-9a8d-1db76045d725",
   "metadata": {},
   "outputs": [],
   "source": [
    "import pandas as pd\n",
    "from sklearn.model_selection import train_test_split\n",
    "from sklearn.ensemble import RandomForestClassifier\n",
    "from sklearn.metrics import accuracy_score, confusion_matrix, classification_report\n",
    "from sklearn.impute import SimpleImputer\n",
    "from sklearn.preprocessing import StandardScaler\n",
    "from imblearn.over_sampling import SMOTE\n",
    "import seaborn as sns\n",
    "import matplotlib.pyplot as plt\n",
    "import numpy as np"
   ]
  },
  {
   "cell_type": "code",
   "execution_count": 95,
   "id": "b5ac6f00-19a4-487b-97ed-6af2875d001e",
   "metadata": {},
   "outputs": [],
   "source": [
    "loan_df = pd.read_csv('/home/student/application_train.csv', nrows=10000)"
   ]
  },
  {
   "cell_type": "code",
   "execution_count": 96,
   "id": "62a94245-d4e6-4040-9a0a-7848a76deb37",
   "metadata": {},
   "outputs": [
    {
     "data": {
      "text/html": [
       "<div>\n",
       "<style scoped>\n",
       "    .dataframe tbody tr th:only-of-type {\n",
       "        vertical-align: middle;\n",
       "    }\n",
       "\n",
       "    .dataframe tbody tr th {\n",
       "        vertical-align: top;\n",
       "    }\n",
       "\n",
       "    .dataframe thead th {\n",
       "        text-align: right;\n",
       "    }\n",
       "</style>\n",
       "<table border=\"1\" class=\"dataframe\">\n",
       "  <thead>\n",
       "    <tr style=\"text-align: right;\">\n",
       "      <th></th>\n",
       "      <th>SK_ID_CURR</th>\n",
       "      <th>TARGET</th>\n",
       "      <th>NAME_CONTRACT_TYPE</th>\n",
       "      <th>CODE_GENDER</th>\n",
       "      <th>FLAG_OWN_CAR</th>\n",
       "      <th>FLAG_OWN_REALTY</th>\n",
       "      <th>CNT_CHILDREN</th>\n",
       "      <th>AMT_INCOME_TOTAL</th>\n",
       "      <th>AMT_CREDIT</th>\n",
       "      <th>AMT_ANNUITY</th>\n",
       "      <th>...</th>\n",
       "      <th>FLAG_DOCUMENT_18</th>\n",
       "      <th>FLAG_DOCUMENT_19</th>\n",
       "      <th>FLAG_DOCUMENT_20</th>\n",
       "      <th>FLAG_DOCUMENT_21</th>\n",
       "      <th>AMT_REQ_CREDIT_BUREAU_HOUR</th>\n",
       "      <th>AMT_REQ_CREDIT_BUREAU_DAY</th>\n",
       "      <th>AMT_REQ_CREDIT_BUREAU_WEEK</th>\n",
       "      <th>AMT_REQ_CREDIT_BUREAU_MON</th>\n",
       "      <th>AMT_REQ_CREDIT_BUREAU_QRT</th>\n",
       "      <th>AMT_REQ_CREDIT_BUREAU_YEAR</th>\n",
       "    </tr>\n",
       "  </thead>\n",
       "  <tbody>\n",
       "    <tr>\n",
       "      <th>0</th>\n",
       "      <td>100002</td>\n",
       "      <td>1</td>\n",
       "      <td>Cash loans</td>\n",
       "      <td>M</td>\n",
       "      <td>N</td>\n",
       "      <td>Y</td>\n",
       "      <td>0</td>\n",
       "      <td>202500.0</td>\n",
       "      <td>406597.5</td>\n",
       "      <td>24700.5</td>\n",
       "      <td>...</td>\n",
       "      <td>0</td>\n",
       "      <td>0</td>\n",
       "      <td>0</td>\n",
       "      <td>0</td>\n",
       "      <td>0.0</td>\n",
       "      <td>0.0</td>\n",
       "      <td>0.0</td>\n",
       "      <td>0.0</td>\n",
       "      <td>0.0</td>\n",
       "      <td>1.0</td>\n",
       "    </tr>\n",
       "    <tr>\n",
       "      <th>1</th>\n",
       "      <td>100003</td>\n",
       "      <td>0</td>\n",
       "      <td>Cash loans</td>\n",
       "      <td>F</td>\n",
       "      <td>N</td>\n",
       "      <td>N</td>\n",
       "      <td>0</td>\n",
       "      <td>270000.0</td>\n",
       "      <td>1293502.5</td>\n",
       "      <td>35698.5</td>\n",
       "      <td>...</td>\n",
       "      <td>0</td>\n",
       "      <td>0</td>\n",
       "      <td>0</td>\n",
       "      <td>0</td>\n",
       "      <td>0.0</td>\n",
       "      <td>0.0</td>\n",
       "      <td>0.0</td>\n",
       "      <td>0.0</td>\n",
       "      <td>0.0</td>\n",
       "      <td>0.0</td>\n",
       "    </tr>\n",
       "    <tr>\n",
       "      <th>2</th>\n",
       "      <td>100004</td>\n",
       "      <td>0</td>\n",
       "      <td>Revolving loans</td>\n",
       "      <td>M</td>\n",
       "      <td>Y</td>\n",
       "      <td>Y</td>\n",
       "      <td>0</td>\n",
       "      <td>67500.0</td>\n",
       "      <td>135000.0</td>\n",
       "      <td>6750.0</td>\n",
       "      <td>...</td>\n",
       "      <td>0</td>\n",
       "      <td>0</td>\n",
       "      <td>0</td>\n",
       "      <td>0</td>\n",
       "      <td>0.0</td>\n",
       "      <td>0.0</td>\n",
       "      <td>0.0</td>\n",
       "      <td>0.0</td>\n",
       "      <td>0.0</td>\n",
       "      <td>0.0</td>\n",
       "    </tr>\n",
       "    <tr>\n",
       "      <th>3</th>\n",
       "      <td>100006</td>\n",
       "      <td>0</td>\n",
       "      <td>Cash loans</td>\n",
       "      <td>F</td>\n",
       "      <td>N</td>\n",
       "      <td>Y</td>\n",
       "      <td>0</td>\n",
       "      <td>135000.0</td>\n",
       "      <td>312682.5</td>\n",
       "      <td>29686.5</td>\n",
       "      <td>...</td>\n",
       "      <td>0</td>\n",
       "      <td>0</td>\n",
       "      <td>0</td>\n",
       "      <td>0</td>\n",
       "      <td>NaN</td>\n",
       "      <td>NaN</td>\n",
       "      <td>NaN</td>\n",
       "      <td>NaN</td>\n",
       "      <td>NaN</td>\n",
       "      <td>NaN</td>\n",
       "    </tr>\n",
       "    <tr>\n",
       "      <th>4</th>\n",
       "      <td>100007</td>\n",
       "      <td>0</td>\n",
       "      <td>Cash loans</td>\n",
       "      <td>M</td>\n",
       "      <td>N</td>\n",
       "      <td>Y</td>\n",
       "      <td>0</td>\n",
       "      <td>121500.0</td>\n",
       "      <td>513000.0</td>\n",
       "      <td>21865.5</td>\n",
       "      <td>...</td>\n",
       "      <td>0</td>\n",
       "      <td>0</td>\n",
       "      <td>0</td>\n",
       "      <td>0</td>\n",
       "      <td>0.0</td>\n",
       "      <td>0.0</td>\n",
       "      <td>0.0</td>\n",
       "      <td>0.0</td>\n",
       "      <td>0.0</td>\n",
       "      <td>0.0</td>\n",
       "    </tr>\n",
       "  </tbody>\n",
       "</table>\n",
       "<p>5 rows × 122 columns</p>\n",
       "</div>"
      ],
      "text/plain": [
       "   SK_ID_CURR  TARGET NAME_CONTRACT_TYPE CODE_GENDER FLAG_OWN_CAR  \\\n",
       "0      100002       1         Cash loans           M            N   \n",
       "1      100003       0         Cash loans           F            N   \n",
       "2      100004       0    Revolving loans           M            Y   \n",
       "3      100006       0         Cash loans           F            N   \n",
       "4      100007       0         Cash loans           M            N   \n",
       "\n",
       "  FLAG_OWN_REALTY  CNT_CHILDREN  AMT_INCOME_TOTAL  AMT_CREDIT  AMT_ANNUITY  \\\n",
       "0               Y             0          202500.0    406597.5      24700.5   \n",
       "1               N             0          270000.0   1293502.5      35698.5   \n",
       "2               Y             0           67500.0    135000.0       6750.0   \n",
       "3               Y             0          135000.0    312682.5      29686.5   \n",
       "4               Y             0          121500.0    513000.0      21865.5   \n",
       "\n",
       "   ...  FLAG_DOCUMENT_18 FLAG_DOCUMENT_19 FLAG_DOCUMENT_20 FLAG_DOCUMENT_21  \\\n",
       "0  ...                 0                0                0                0   \n",
       "1  ...                 0                0                0                0   \n",
       "2  ...                 0                0                0                0   \n",
       "3  ...                 0                0                0                0   \n",
       "4  ...                 0                0                0                0   \n",
       "\n",
       "  AMT_REQ_CREDIT_BUREAU_HOUR AMT_REQ_CREDIT_BUREAU_DAY  \\\n",
       "0                        0.0                       0.0   \n",
       "1                        0.0                       0.0   \n",
       "2                        0.0                       0.0   \n",
       "3                        NaN                       NaN   \n",
       "4                        0.0                       0.0   \n",
       "\n",
       "   AMT_REQ_CREDIT_BUREAU_WEEK  AMT_REQ_CREDIT_BUREAU_MON  \\\n",
       "0                         0.0                        0.0   \n",
       "1                         0.0                        0.0   \n",
       "2                         0.0                        0.0   \n",
       "3                         NaN                        NaN   \n",
       "4                         0.0                        0.0   \n",
       "\n",
       "   AMT_REQ_CREDIT_BUREAU_QRT  AMT_REQ_CREDIT_BUREAU_YEAR  \n",
       "0                        0.0                         1.0  \n",
       "1                        0.0                         0.0  \n",
       "2                        0.0                         0.0  \n",
       "3                        NaN                         NaN  \n",
       "4                        0.0                         0.0  \n",
       "\n",
       "[5 rows x 122 columns]"
      ]
     },
     "execution_count": 96,
     "metadata": {},
     "output_type": "execute_result"
    }
   ],
   "source": [
    "loan_df.head()# Check if 'contract_type' column is present\n",
    "if 'contract_type' in X_train.columns:\n",
    "    from category_encoders import BinaryEncoder\n",
    "\n",
    "    # Apply binary encoding only to the 'contract_type' column\n",
    "    encoder = BinaryEncoder(cols=['contract_type'], return_df=True)\n",
    "\n",
    "    # Fit and transform the training set\n",
    "    X_train_encoded = encoder.fit_transform(X_train)\n",
    "\n",
    "    # Transform the test set using the same encoder\n",
    "    X_test_encoded = encoder.transform(X_test)\n",
    "\n",
    "    print(X_train_encoded.head())\n",
    "else:\n",
    "    print(\"Column 'contract_type' not found in X_train.\")"
   ]
  },
  {
   "cell_type": "markdown",
   "id": "069f234d-9f37-4110-a19a-9fec6f9bd46d",
   "metadata": {},
   "source": [
    "#### Visualize the distribution of loan approvals and rejection"
   ]
  },
  {
   "cell_type": "code",
   "execution_count": 97,
   "id": "d7f810ae-3744-446d-a3e9-a7aff15f202c",
   "metadata": {},
   "outputs": [
    {
     "data": {
      "image/png": "[encoded data removed]",
      "text/plain": [
       "<Figure size 600x600 with 1 Axes>"
      ]
     },
     "metadata": {},
     "output_type": "display_data"
    }
   ],
   "source": [
    "# Count the number of positive and negative sentiments\n",
    "eligibility_counts = loan_df['TARGET'].value_counts()\n",
    "\n",
    "# Create a pie chart\n",
    "plt.figure(figsize=(6, 6))\n",
    "plt.pie(eligibility_counts, labels=eligibility_counts.index, autopct='%1.1f%%', colors=['#8AAAE5', '#735DA5'], startangle=90)\n",
    "plt.title('Loan Eligibility Distribution (Approved vs Rejected)')\n",
    "plt.axis('equal')  # Equal aspect ratio ensures that pie is drawn as a circle.\n",
    "plt.show()"
   ]
  },
  {
   "cell_type": "markdown",
   "id": "037474fe-cc97-4f60-8388-f2a92bdae4bf",
   "metadata": {},
   "source": [
    "# Data Cleaning"
   ]
  },
  {
   "cell_type": "code",
   "execution_count": 98,
   "id": "2e4aa70e-274c-4853-9ea0-ec89686fd568",
   "metadata": {},
   "outputs": [],
   "source": [
    "loan_df = loan_df.drop(['SK_ID_CURR','OCCUPATION_TYPE'], axis=1)"
   ]
  },
  {
   "cell_type": "markdown",
   "id": "9b162210-91e2-44ae-9723-9e0717d3d5a5",
   "metadata": {},
   "source": [
    "##### Convert all text to lowercase to ensure uniformity "
   ]
  },
  {
   "cell_type": "markdown",
   "id": "0cfde8e2-6706-47a8-bf53-f95dcca8f028",
   "metadata": {},
   "source": [
    "### Removing leading and trailing white spaces(Strip())\n",
    "#### This code snippet covers all the columns in your dataset, ensuring any leading or trailing whitespace is removed.\n",
    "Pandas provides the predefined method pandas.Series.str.strip() to remove whitespace from strings. This function effectively removes both leading and trailing whitespace from the specified columns."
   ]
  },
  {
   "cell_type": "code",
   "execution_count": 99,
   "id": "05e5703f-a4ec-4042-9463-0477b5e5c790",
   "metadata": {},
   "outputs": [],
   "source": [
    "loan_df['TARGET'] = loan_df['TARGET'].astype(str).str.strip()  # Convert to str if needed\n",
    "loan_df['NAME_CONTRACT_TYPE'] = loan_df['NAME_CONTRACT_TYPE'].str.strip()\n",
    "loan_df['CODE_GENDER'] = loan_df['CODE_GENDER'].str.strip()\n",
    "loan_df['FLAG_OWN_CAR'] = loan_df['FLAG_OWN_CAR'].str.strip()\n",
    "loan_df['FLAG_OWN_REALTY'] = loan_df['FLAG_OWN_REALTY'].str.strip()\n",
    "loan_df['CNT_CHILDREN'] = loan_df['CNT_CHILDREN'].astype(str).str.strip()  # Convert to str if needed\n",
    "loan_df['AMT_INCOME_TOTAL'] = loan_df['AMT_INCOME_TOTAL'].astype(str).str.strip()  # Convert to str if needed\n",
    "loan_df['AMT_CREDIT'] = loan_df['AMT_CREDIT'].astype(str).str.strip()  # Convert to str if needed\n",
    "loan_df['AMT_ANNUITY'] = loan_df['AMT_ANNUITY'].astype(str).str.strip()  # Convert to str if needed\n",
    "loan_df['AMT_GOODS_PRICE'] = loan_df['AMT_GOODS_PRICE'].astype(str).str.strip()  # Convert to str if needed\n",
    "loan_df['NAME_TYPE_SUITE'] = loan_df['NAME_TYPE_SUITE'].str.strip()\n",
    "loan_df['NAME_INCOME_TYPE'] = loan_df['NAME_INCOME_TYPE'].str.strip()\n",
    "loan_df['NAME_EDUCATION_TYPE'] = loan_df['NAME_EDUCATION_TYPE'].str.strip()\n",
    "loan_df['NAME_FAMILY_STATUS'] = loan_df['NAME_FAMILY_STATUS'].str.strip()\n",
    "loan_df['NAME_HOUSING_TYPE'] = loan_df['NAME_HOUSING_TYPE'].str.strip()\n",
    "loan_df['REGION_POPULATION_RELATIVE'] = loan_df['REGION_POPULATION_RELATIVE'].astype(str).str.strip()  # Convert to str if needed\n",
    "loan_df['DAYS_BIRTH'] = loan_df['DAYS_BIRTH'].astype(str).str.strip()  # Convert to str if needed\n",
    "loan_df['DAYS_EMPLOYED'] = loan_df['DAYS_EMPLOYED'].astype(str).str.strip()  # Convert to str if needed\n",
    "loan_df['DAYS_REGISTRATION'] = loan_df['DAYS_REGISTRATION'].astype(str).str.strip()  # Convert to str if needed\n",
    "loan_df['DAYS_ID_PUBLISH'] = loan_df['DAYS_ID_PUBLISH'].astype(str).str.strip()  # Convert to str if needed\n",
    "loan_df['OWN_CAR_AGE'] = loan_df['OWN_CAR_AGE'].astype(str).str.strip()  # Convert to str if needed\n",
    "loan_df['FLAG_MOBIL'] = loan_df['FLAG_MOBIL'].astype(str).str.strip()  # Convert to str if needed\n",
    "loan_df['FLAG_EMP_PHONE'] = loan_df['FLAG_EMP_PHONE'].astype(str).str.strip()  # Convert to str if needed\n",
    "loan_df['FLAG_WORK_PHONE'] = loan_df['FLAG_WORK_PHONE'].astype(str).str.strip()  # Convert to str if needed\n",
    "loan_df['FLAG_CONT_MOBILE'] = loan_df['FLAG_CONT_MOBILE'].astype(str).str.strip()  # Convert to str if needed\n",
    "loan_df['FLAG_PHONE'] = loan_df['FLAG_PHONE'].astype(str).str.strip()  # Convert to str if needed\n",
    "loan_df['FLAG_EMAIL'] = loan_df['FLAG_EMAIL'].astype(str).str.strip()  # Convert to str if needed\n",
    "loan_df['CNT_FAM_MEMBERS'] = loan_df['CNT_FAM_MEMBERS'].astype(str).str.strip()  # Convert to str if needed\n",
    "loan_df['REGION_RATING_CLIENT'] = loan_df['REGION_RATING_CLIENT'].astype(str).str.strip()  # Convert to str if needed\n",
    "loan_df['REGION_RATING_CLIENT_W_CITY'] = loan_df['REGION_RATING_CLIENT_W_CITY'].astype(str).str.strip()  # Convert to str if needed\n",
    "loan_df['WEEKDAY_APPR_PROCESS_START'] = loan_df['WEEKDAY_APPR_PROCESS_START'].str.strip()\n",
    "loan_df['HOUR_APPR_PROCESS_START'] = loan_df['HOUR_APPR_PROCESS_START'].astype(str).str.strip()  # Convert to str if needed\n",
    "loan_df['REG_REGION_NOT_LIVE_REGION'] = loan_df['REG_REGION_NOT_LIVE_REGION'].astype(str).str.strip()  # Convert to str if needed\n",
    "loan_df['REG_REGION_NOT_WORK_REGION'] = loan_df['REG_REGION_NOT_WORK_REGION'].astype(str).str.strip()  # Convert to str if needed\n",
    "loan_df['LIVE_REGION_NOT_WORK_REGION'] = loan_df['LIVE_REGION_NOT_WORK_REGION'].astype(str).str.strip()  # Convert to str if needed\n",
    "loan_df['REG_CITY_NOT_LIVE_CITY'] = loan_df['REG_CITY_NOT_LIVE_CITY'].astype(str).str.strip()  # Convert to str if needed\n",
    "loan_df['REG_CITY_NOT_WORK_CITY'] = loan_df['REG_CITY_NOT_WORK_CITY'].astype(str).str.strip()  # Convert to str if needed\n",
    "loan_df['LIVE_CITY_NOT_WORK_CITY'] = loan_df['LIVE_CITY_NOT_WORK_CITY'].astype(str).str.strip()  # Convert to str if needed\n",
    "loan_df['ORGANIZATION_TYPE'] = loan_df['ORGANIZATION_TYPE'].str.strip()\n",
    "loan_df['EXT_SOURCE_1'] = loan_df['EXT_SOURCE_1'].astype(str).str.strip()  # Convert to str if needed\n",
    "loan_df['EXT_SOURCE_2'] = loan_df['EXT_SOURCE_2'].astype(str).str.strip()  # Convert to str if needed\n",
    "loan_df['EXT_SOURCE_3'] = loan_df['EXT_SOURCE_3'].astype(str).str.strip()  # Convert to str if needed"
   ]
  },
  {
   "cell_type": "markdown",
   "id": "8077c3e2-eb02-4cf5-a35a-986eee92e50b",
   "metadata": {},
   "source": [
    "#### Removing HTML Tags\n",
    "This code snippet is designed to remove HTML tags from the string values in all columns of a pandas DataFrame (loan_df). The code uses a regular expression (regex) to identify and eliminate any HTML tags present in the data."
   ]
  },
  {
   "cell_type": "code",
   "execution_count": 100,
   "id": "8e18addb-d9fc-4711-9c37-5b94d47dcc05",
   "metadata": {},
   "outputs": [],
   "source": [
    "import re\n",
    "\n",
    "# Function to remove HTML tags\n",
    "def remove_html_tags(text):\n",
    "    if isinstance(text, str):  # Check if the value is a string\n",
    "        return re.sub(r'<.*?>', '', text)\n",
    "    return text  # Return the original value if it's not a string\n",
    "\n",
    "# Apply the function to all columns\n",
    "for column in loan_df.columns:\n",
    "    loan_df[column] = loan_df[column].apply(remove_html_tags)\n",
    "\n",
    "# print(loan_df)"
   ]
  },
  {
   "cell_type": "markdown",
   "id": "6be3ca33-043f-42de-983b-294626ddaed2",
   "metadata": {},
   "source": [
    "#### Converting the values in categorical columns into lowercase\n",
    "This code snippet is designed to convert the values of specified categorical columns in a pandas DataFrame (loan_df) to lowercase. This standardization can help ensure consistency in the data, particularly when analyzing or processing text data."
   ]
  },
  {
   "cell_type": "code",
   "execution_count": 101,
   "id": "d6b33b06-e1a3-42aa-bf8c-0bde554b6ff4",
   "metadata": {},
   "outputs": [],
   "source": [
    "# List of categorical columns\n",
    "categorical_columns = [\n",
    "    'NAME_CONTRACT_TYPE',\n",
    "    'CODE_GENDER',\n",
    "    'NAME_TYPE_SUITE',\n",
    "    'NAME_INCOME_TYPE',\n",
    "    'NAME_EDUCATION_TYPE',\n",
    "    'NAME_FAMILY_STATUS',\n",
    "    'NAME_HOUSING_TYPE',\n",
    "    'ORGANIZATION_TYPE',\n",
    "    'WEEKDAY_APPR_PROCESS_START',\n",
    "]\n",
    "\n",
    "# Convert all categorical columns to lowercase\n",
    "for column in categorical_columns:\n",
    "    loan_df[column] = loan_df[column].str.lower()\n",
    "# Display the first few rows to confirm the changes\n",
    "# print(loan_df.head())"
   ]
  },
  {
   "cell_type": "markdown",
   "id": "0cf96ce6-a4ea-4bf8-b222-9cb71373a28f",
   "metadata": {},
   "source": [
    "## Cleaning the numerical columns"
   ]
  },
  {
   "cell_type": "code",
   "execution_count": 102,
   "id": "03bba781-c708-454b-9273-0dcab0dc6e36",
   "metadata": {},
   "outputs": [
    {
     "name": "stdout",
     "output_type": "stream",
     "text": [
      "OWN_CAR_AGE     object\n",
      "EXT_SOURCE_1    object\n",
      "EXT_SOURCE_3    object\n",
      "dtype: object\n"
     ]
    }
   ],
   "source": [
    "print(loan_df[['OWN_CAR_AGE', 'EXT_SOURCE_1', 'EXT_SOURCE_3']].dtypes)"
   ]
  },
  {
   "cell_type": "code",
   "execution_count": 103,
   "id": "e84dce80-36f4-4c05-920f-28c758726d6b",
   "metadata": {},
   "outputs": [
    {
     "name": "stdout",
     "output_type": "stream",
     "text": [
      "TARGET                        0\n",
      "NAME_CONTRACT_TYPE            0\n",
      "CODE_GENDER                   0\n",
      "FLAG_OWN_CAR                  0\n",
      "FLAG_OWN_REALTY               0\n",
      "                             ..\n",
      "AMT_REQ_CREDIT_BUREAU_DAY     0\n",
      "AMT_REQ_CREDIT_BUREAU_WEEK    0\n",
      "AMT_REQ_CREDIT_BUREAU_MON     0\n",
      "AMT_REQ_CREDIT_BUREAU_QRT     0\n",
      "AMT_REQ_CREDIT_BUREAU_YEAR    0\n",
      "Length: 120, dtype: int64\n"
     ]
    }
   ],
   "source": [
    "# Identify numeric columns\n",
    "numeric_cols = loan_df.select_dtypes(include=['number']).columns\n",
    "\n",
    "# Fill NaN values with the 25th percentile for each numeric column\n",
    "for col in numeric_cols:\n",
    "    percentile_25 = loan_df[col].quantile(0.25)\n",
    "    loan_df[col] = loan_df[col].fillna(percentile_25)\n",
    "\n",
    "# Check the DataFrame for null values\n",
    "print(loan_df.isnull().sum())"
   ]
  },
  {
   "cell_type": "code",
   "execution_count": 117,
   "id": "06d13f10-f748-4312-a226-2ded20d2d115",
   "metadata": {},
   "outputs": [
    {
     "name": "stdout",
     "output_type": "stream",
     "text": [
      "Series([], dtype: int64)\n"
     ]
    }
   ],
   "source": [
    "# Display only columns with null values\n",
    "null_counts = loan_df.isnull().sum()\n",
    "print(null_counts[null_counts > 0])"
   ]
  },
  {
   "cell_type": "code",
   "execution_count": 105,
   "id": "16647cbb-a7f9-4208-a669-8683203ba2a2",
   "metadata": {},
   "outputs": [
    {
     "name": "stdout",
     "output_type": "stream",
     "text": [
      "Data type before conversion: object\n",
      "Null values after conversion: 0\n",
      "Remaining null values: 0\n",
      "Data type after conversion and filling: float64\n"
     ]
    }
   ],
   "source": [
    "import pandas as pd\n",
    "\n",
    "# Sample loading of loan_df (you'll replace this with your actual DataFrame)\n",
    "# loan_df = pd.read_csv('your_file.csv')\n",
    "\n",
    "# Check the data type of AMT_INCOME_TOTAL\n",
    "print(\"Data type before conversion:\", loan_df['AMT_INCOME_TOTAL'].dtype)\n",
    "\n",
    "# Convert AMT_INCOME_TOTAL to numeric, coercing errors to NaN\n",
    "loan_df['AMT_INCOME_TOTAL'] = pd.to_numeric(loan_df['AMT_INCOME_TOTAL'], errors='coerce')\n",
    "\n",
    "# Check for remaining null values after conversion\n",
    "print(\"Null values after conversion:\", loan_df['AMT_INCOME_TOTAL'].isnull().sum())\n",
    "\n",
    "# Fill missing values with the 25th percentile if there are any NaNs left\n",
    "if loan_df['AMT_INCOME_TOTAL'].isnull().sum() > 0:\n",
    "    quantile_25 = loan_df['AMT_INCOME_TOTAL'].quantile(0.25)\n",
    "    loan_df['AMT_INCOME_TOTAL'] = loan_df['AMT_INCOME_TOTAL'].fillna(quantile_25)\n",
    "\n",
    "# Final check for any remaining null values\n",
    "print(\"Remaining null values:\", loan_df['AMT_INCOME_TOTAL'].isnull().sum())\n",
    "\n",
    "# Verify the data type after filling\n",
    "print(\"Data type after conversion and filling:\", loan_df['AMT_INCOME_TOTAL'].dtype)\n"
   ]
  },
  {
   "cell_type": "code",
   "execution_count": 106,
   "id": "c592960f-08a7-4e7b-8476-d60d0f7a9fe7",
   "metadata": {},
   "outputs": [],
   "source": [
    "loan_df['NAME_TYPE_SUITE'] = loan_df.groupby(['NAME_FAMILY_STATUS', 'NAME_HOUSING_TYPE'])['NAME_TYPE_SUITE'].transform(lambda x: x.ffill().bfill())"
   ]
  },
  {
   "cell_type": "code",
   "execution_count": 112,
   "id": "9b900acb-0a33-4e89-ad45-f39d5358df59",
   "metadata": {},
   "outputs": [
    {
     "name": "stdout",
     "output_type": "stream",
     "text": [
      "0\n"
     ]
    }
   ],
   "source": [
    "# Fill missing values in 'HOUSETYPE_MODE' using forward fill and backward fill\n",
    "loan_df['HOUSETYPE_MODE'] = (\n",
    "    loan_df.groupby(['NAME_TYPE_SUITE', 'NAME_HOUSING_TYPE'])['HOUSETYPE_MODE']\n",
    "    .transform(lambda x: x.ffill().bfill())\n",
    ")\n",
    "\n",
    "# Convert to string type to avoid downcasting issues\n",
    "loan_df['HOUSETYPE_MODE'] = loan_df['HOUSETYPE_MODE'].astype(str)\n",
    "\n",
    "# Check for null values to confirm filling\n",
    "print(loan_df['HOUSETYPE_MODE'].isnull().sum())"
   ]
  },
  {
   "cell_type": "code",
   "execution_count": 113,
   "id": "e9785201-290a-425e-8bf8-04c3cd1a45e1",
   "metadata": {},
   "outputs": [],
   "source": [
    "loan_df['WALLSMATERIAL_MODE'] = loan_df['WALLSMATERIAL_MODE'].fillna(loan_df['WALLSMATERIAL_MODE'].mode()[0])"
   ]
  },
  {
   "cell_type": "code",
   "execution_count": 114,
   "id": "843b3920-0ac5-4b17-9a52-6391ab183ef6",
   "metadata": {},
   "outputs": [
    {
     "name": "stdout",
     "output_type": "stream",
     "text": [
      "0\n"
     ]
    }
   ],
   "source": [
    "import pandas as pd\n",
    "\n",
    "# Fill missing values in 'EMERGENCYSTATE_MODE' using forward fill and backward fill\n",
    "loan_df['EMERGENCYSTATE_MODE'] = (\n",
    "    loan_df.groupby(['NAME_TYPE_SUITE', 'NAME_HOUSING_TYPE'])['EMERGENCYSTATE_MODE']\n",
    "    .transform(lambda x: x.ffill().bfill())\n",
    ")\n",
    "\n",
    "# Convert to string type to avoid downcasting issues\n",
    "loan_df['EMERGENCYSTATE_MODE'] = loan_df['EMERGENCYSTATE_MODE'].astype(str)\n",
    "\n",
    "# Check for null values to confirm filling\n",
    "print(loan_df['EMERGENCYSTATE_MODE'].isnull().sum())"
   ]
  },
  {
   "cell_type": "code",
   "execution_count": 116,
   "id": "bbee6fb2-7c53-4e6e-a0da-24d6bb0beac4",
   "metadata": {},
   "outputs": [
    {
     "name": "stdout",
     "output_type": "stream",
     "text": [
      "0\n"
     ]
    }
   ],
   "source": [
    "loan_df['FONDKAPREMONT_MODE'] = (\n",
    "    loan_df.groupby(['AMT_INCOME_TOTAL', 'NAME_CONTRACT_TYPE'])['FONDKAPREMONT_MODE']\n",
    "    .transform(lambda x: x.ffill().bfill())\n",
    ")\n",
    "\n",
    "# Convert to string type to avoid downcasting issues\n",
    "loan_df['FONDKAPREMONT_MODE'] = loan_df['FONDKAPREMONT_MODE'].astype(str)\n",
    "\n",
    "# Check for null values to confirm filling\n",
    "print(loan_df['FONDKAPREMONT_MODE'].isnull().sum())"
   ]
  },
  {
   "cell_type": "markdown",
   "id": "af17f738-6b80-4ad4-9404-96e9132c7fca",
   "metadata": {},
   "source": [
    "## Renaming the columns"
   ]
  },
  {
   "cell_type": "code",
   "execution_count": 118,
   "id": "2050da72-9839-4449-b156-9069a8638642",
   "metadata": {},
   "outputs": [
    {
     "name": "stdout",
     "output_type": "stream",
     "text": [
      "Index(['target', 'contract_type', 'CODE_GENDER', 'owns_car', 'owns_realty',\n",
      "       'num_children', 'total_income', 'AMT_CREDIT', 'loan_annuity',\n",
      "       'goods_price',\n",
      "       ...\n",
      "       'FLAG_DOCUMENT_18', 'FLAG_DOCUMENT_19', 'FLAG_DOCUMENT_20',\n",
      "       'FLAG_DOCUMENT_21', 'AMT_REQ_CREDIT_BUREAU_HOUR',\n",
      "       'AMT_REQ_CREDIT_BUREAU_DAY', 'AMT_REQ_CREDIT_BUREAU_WEEK',\n",
      "       'credit_inquiries_last_month', 'AMT_REQ_CREDIT_BUREAU_QRT',\n",
      "       'credit_inquiries_last_year'],\n",
      "      dtype='object', length=120)\n"
     ]
    }
   ],
   "source": [
    "loan_df.rename(columns={\n",
    "    'TARGET':'target',\n",
    "    'AMT_ANNUITY': 'loan_annuity',\n",
    "    'AMT_GOODS_PRICE': 'goods_price',\n",
    "    'AMT_INCOME_TOTAL': 'total_income',\n",
    "    'AMT_REQ_CREDIT_BUREAU_YEAR': 'credit_inquiries_last_year',\n",
    "    'AMT_REQ_CREDIT_BUREAU_MON': 'credit_inquiries_last_month',\n",
    "    'DAYS_BIRTH': 'applicant_age',\n",
    "    'NAME_CONTRACT_TYPE': 'contract_type',\n",
    "    'DAYS_EMPLOYED': 'employment_duration',\n",
    "    'OCCUPATION_TYPE': 'occupation',\n",
    "    'NAME_INCOME_TYPE': 'income_source',\n",
    "    'NAME_EDUCATION_TYPE': 'education_level',\n",
    "    'CNT_CHILDREN': 'num_children',\n",
    "    'CNT_FAM_MEMBERS': 'num_family_members',\n",
    "    'NAME_FAMILY_STATUS': 'family_status',\n",
    "    'EXT_SOURCE_1': 'external_score_1',\n",
    "    'EXT_SOURCE_2': 'external_score_2',\n",
    "    'EXT_SOURCE_3': 'external_score_3',\n",
    "    'FLAG_OWN_CAR': 'owns_car',\n",
    "    'FLAG_OWN_REALTY': 'owns_realty',\n",
    "    'OWN_CAR_AGE': 'car_age',\n",
    "    'REGION_POPULATION_RELATIVE': 'region_population_relative',\n",
    "    'DAYS_LAST_PHONE_CHANGE': 'days_since_last_phone_change',\n",
    "    'FLAG_WORK_PHONE': 'has_work_phone',\n",
    "    'FLAG_PHONE': 'has_phone',\n",
    "    'FLAG_EMAIL': 'has_email',\n",
    "    'DAYS_ID_PUBLISH': 'days_since_id_published',\n",
    "    'DAYS_REGISTRATION': 'days_since_registration',\n",
    "    'REG_REGION_NOT_LIVE_REGION': 'different_residence_region',\n",
    "    'REG_CITY_NOT_LIVE_CITY': 'different_residence_city'\n",
    "}, inplace=True)\n",
    "\n",
    "print(loan_df.columns)"
   ]
  },
  {
   "cell_type": "markdown",
   "id": "c3af5bf8-7a9c-423a-b7d3-feb29c119e28",
   "metadata": {},
   "source": [
    "### Removing Emojis"
   ]
  },
  {
   "cell_type": "code",
   "execution_count": 119,
   "id": "5c67bdae-e57e-4184-979a-7789d68f45e9",
   "metadata": {},
   "outputs": [],
   "source": [
    "# Function to remove emojis and emoticons\n",
    "def remove_emojis(text):\n",
    "    return text.str.replace(r'[:;=][)(DP]', '', regex=True)\n",
    "\n",
    "# Apply to all string columns in the entire DataFrame\n",
    "for col in loan_df.select_dtypes(include=['object']):\n",
    "    loan_df[col] = remove_emojis(loan_df[col])\n",
    "\n",
    "# Display the updated DataFrame\n",
    "# print(loan_df)"
   ]
  },
  {
   "cell_type": "markdown",
   "id": "53f42458-f9e6-4705-887e-c657f0fc42f4",
   "metadata": {},
   "source": [
    "### Cleaning numetrical columns"
   ]
  },
  {
   "cell_type": "code",
   "execution_count": 120,
   "id": "45938231-e5e7-4609-a32d-03eb291ccc56",
   "metadata": {},
   "outputs": [],
   "source": [
    "loan_df['total_income'] = pd.to_numeric(loan_df['total_income'], errors='coerce')\n",
    "loan_df['loan_annuity'] = pd.to_numeric(loan_df['loan_annuity'], errors='coerce')\n",
    "loan_df['goods_price'] = pd.to_numeric(loan_df['goods_price'], errors='coerce')"
   ]
  },
  {
   "cell_type": "code",
   "execution_count": 123,
   "id": "8f687f73-39d8-45f3-b6c8-6798f7d55a15",
   "metadata": {},
   "outputs": [
    {
     "name": "stdout",
     "output_type": "stream",
     "text": [
      "total_income    0\n",
      "loan_annuity    0\n",
      "goods_price     0\n",
      "dtype: int64\n"
     ]
    }
   ],
   "source": [
    "print(loan_df[['total_income', 'loan_annuity', 'goods_price']].isnull().sum())"
   ]
  },
  {
   "cell_type": "code",
   "execution_count": 122,
   "id": "dd7403c5-c6e4-4e3e-a74d-81ba45e3a616",
   "metadata": {},
   "outputs": [],
   "source": [
    "loan_df['goods_price'] = loan_df.groupby(['total_income', 'contract_type'])['goods_price'].transform(lambda x: x.ffill().bfill())"
   ]
  },
  {
   "cell_type": "code",
   "execution_count": 23,
   "id": "afea5eba-aeed-4780-beff-6ab89bad482d",
   "metadata": {},
   "outputs": [],
   "source": [
    "Q1 = loan_df[['total_income', 'loan_annuity', 'goods_price']].quantile(0.25)\n",
    "Q3 = loan_df[['total_income', 'loan_annuity', 'goods_price']].quantile(0.75)\n",
    "IQR = Q3 - Q1\n",
    "\n",
    "loan_df = loan_df[~((loan_df[['total_income', 'loan_annuity', 'goods_price']] < (Q1 - 1.5 * IQR)) | (loan_df[['total_income', 'loan_annuity', 'goods_price']] > (Q3 + 1.5 * IQR))).any(axis=1)]"
   ]
  },
  {
   "cell_type": "markdown",
   "id": "446335ca-df94-4a93-a151-6b4409826a04",
   "metadata": {},
   "source": [
    "### Standardize Numerical Features\n",
    "Numerical features may vary widely in scale, which can affect the performance of machine learning algorithms."
   ]
  },
  {
   "cell_type": "code",
   "execution_count": 124,
   "id": "1b4d4485-d863-4f33-9030-968fc2d8c000",
   "metadata": {},
   "outputs": [],
   "source": [
    "from sklearn.preprocessing import StandardScaler\n",
    "scaler = StandardScaler()\n",
    "loan_df.loc[:, ['total_income', 'loan_annuity', 'goods_price']] = scaler.fit_transform(loan_df[['total_income', 'loan_annuity', 'goods_price']])"
   ]
  },
  {
   "cell_type": "code",
   "execution_count": 25,
   "id": "7b6dd17e-46c4-48d3-b634-82d2c942d8c9",
   "metadata": {},
   "outputs": [],
   "source": [
    "# loan_df[['total_income', 'loan_annuity', 'goods_price']] = scaler.fit_transform(loan_df[['total_income', 'loan_annuity', 'goods_price']])"
   ]
  },
  {
   "cell_type": "markdown",
   "id": "808a8976-9e68-4c06-a530-faf990336516",
   "metadata": {},
   "source": [
    "### Handling Skewed Data\n",
    "np.where(condition, value_if_true, value_if_false): This function checks if the condition is met (in this case, if total_income is greater than 0). If true, it applies np.log1p(), otherwise, it sets the value to NaN.\n",
    "This way, you handle non-positive values and apply the transformation in one line, keeping the code concise and easy to read.<br>\n",
    "\n",
    "Reduces Skewness: Many datasets, especially those involving income or prices, can be right-skewed. Applying a log transformation helps make the distribution more normal, which is a common assumption in many models."
   ]
  },
  {
   "cell_type": "code",
   "execution_count": 126,
   "id": "985598e6-3b50-442b-9563-8e6e6bf5591e",
   "metadata": {},
   "outputs": [],
   "source": [
    "# Ensure total_income is numeric and handle any potential issues\n",
    "loan_df.loc[:, 'total_income'] = pd.to_numeric(loan_df['total_income'], errors='coerce')\n",
    "\n",
    "# Replace negative values with NaN (if you don't want to log-transform them)\n",
    "loan_df.loc[loan_df['total_income'] < 0, 'total_income'] = np.nan\n",
    "\n",
    "# Apply log1p safely\n",
    "loan_df.loc[:, 'total_income'] = np.where(\n",
    "    loan_df['total_income'] > 0,\n",
    "    np.log1p(loan_df['total_income']),\n",
    "    np.nan\n",
    ")"
   ]
  },
  {
   "cell_type": "markdown",
   "id": "90688f79-31a2-405c-93c2-199bccb02c2d",
   "metadata": {},
   "source": [
    "## Converting the date of birth and the employment duration from days to years"
   ]
  },
  {
   "cell_type": "code",
   "execution_count": 128,
   "id": "c9c1194c-80d9-4537-9edd-952f55d3bf38",
   "metadata": {},
   "outputs": [],
   "source": [
    "# Step 1: Convert to numeric using .loc\n",
    "loan_df.loc[:, 'employment_duration'] = pd.to_numeric(loan_df['employment_duration'], errors='coerce')\n",
    "\n",
    "# Step 3: Convert days to years and round\n",
    "loan_df.loc[:, 'employment_duration'] = abs(loan_df['employment_duration']) / 365.25\n",
    "\n",
    "# Step 4: Explicitly cast to int\n",
    "loan_df.loc[:, 'employment_duration'] = loan_df['employment_duration'].round(0).astype(int)"
   ]
  },
  {
   "cell_type": "code",
   "execution_count": 129,
   "id": "8ef7f161-9ff9-4a72-9c31-c1315a8e5c9f",
   "metadata": {},
   "outputs": [],
   "source": [
    "\n",
    "# Step 1: Convert to numeric using .loc\n",
    "loan_df.loc[:, 'applicant_age'] = pd.to_numeric(loan_df['applicant_age'], errors='coerce')\n",
    "\n",
    "# Step 3: Convert days to years and round\n",
    "loan_df.loc[:, 'applicant_age'] = abs(loan_df['applicant_age']) / 365.25\n",
    "\n",
    "# Step 4: Explicitly cast to int\n",
    "loan_df.loc[:, 'applicant_age'] = loan_df['applicant_age'].round(0).astype(int)"
   ]
  },
  {
   "cell_type": "markdown",
   "id": "600c96cc-e1e8-4ba2-bc28-51bdca0d607b",
   "metadata": {},
   "source": [
    "# Feature Engineering\n",
    "### Frequency Encoding\n",
    "It helps mitigate overfitting, since it reduces the number of new columns created compared to one-hot encoding.<br>\n",
    "\n",
    "For categorical features with many unique values (high cardinality), frequency encoding reduces dimensionality by not creating a separate binary feature for each category (as in one-hot encoding).<br>\n",
    "\n",
    "Frequency encoding is a technique used in feature engineering to convert categorical variables into numerical representations based on the frequency of each category"
   ]
  },
  {
   "cell_type": "code",
   "execution_count": 130,
   "id": "b9904bfc-00cc-4e9d-91cd-1cf535358a0b",
   "metadata": {},
   "outputs": [],
   "source": [
    "# Split the data into features and target\n",
    "X = loan_df.drop(columns=['target'])\n",
    "y = loan_df['target']"
   ]
  },
  {
   "cell_type": "code",
   "execution_count": 131,
   "id": "4f0bff15-106e-4624-ae6e-09d8a892d0e2",
   "metadata": {},
   "outputs": [],
   "source": [
    "# Split the data into training and testing sets\n",
    "X_train, X_test, y_train, y_test = train_test_split(X, y, test_size=0.3, random_state=42, stratify=y)"
   ]
  },
  {
   "cell_type": "code",
   "execution_count": 134,
   "id": "c4ce3e25-1d1f-44bc-b531-8b63fc4b3e4a",
   "metadata": {},
   "outputs": [],
   "source": [
    "import pandas as pd\n",
    "\n",
    "# Assuming X_train and X_test are your training and testing DataFrames\n",
    "\n",
    "# Identify categorical columns\n",
    "categorical_cols = X_train.select_dtypes(include=['object']).columns.tolist()\n",
    "\n",
    "# Initialize dictionaries to hold frequency-encoded columns\n",
    "train_freq_cols = {}\n",
    "test_freq_cols = {}\n",
    "\n",
    "# Apply frequency encoding for each categorical column\n",
    "for col in categorical_cols:\n",
    "    # Frequency encoding based on the training data\n",
    "    freq_encoding = X_train[col].value_counts()\n",
    "    \n",
    "    # Create new frequency-encoded columns for train and test\n",
    "    train_freq_cols[col + '_freq'] = X_train[col].map(freq_encoding)\n",
    "    test_freq_cols[col + '_freq'] = X_test[col].map(freq_encoding)\n",
    "\n",
    "# Convert dictionaries to DataFrames\n",
    "train_freq_df = pd.DataFrame(train_freq_cols)\n",
    "test_freq_df = pd.DataFrame(test_freq_cols)\n",
    "\n",
    "# Concatenate frequency-encoded columns with the original DataFrames\n",
    "X_train = pd.concat([X_train, train_freq_df], axis=1)\n",
    "X_test = pd.concat([X_test, test_freq_df], axis=1)\n",
    "\n",
    "# Optionally, you can drop the original categorical columns if you no longer need them\n",
    "X_train = X_train.drop(columns=categorical_cols)\n",
    "X_test = X_test.drop(columns=categorical_cols)\n",
    "\n",
    "# Check the updated DataFrames\n",
    "# print(X_train.head())\n",
    "# print(X_test.head())"
   ]
  },
  {
   "cell_type": "code",
   "execution_count": 135,
   "id": "fe72cdf8-16c3-48d6-889d-fb62257cf546",
   "metadata": {},
   "outputs": [],
   "source": [
    "# List of numerical columns to standardize\n",
    "numerical_cols = X.select_dtypes(include=['int64', 'float64']).columns.tolist()"
   ]
  },
  {
   "cell_type": "code",
   "execution_count": 136,
   "id": "1d1fdb8d-e5b4-4118-bd92-c069e27e6eb4",
   "metadata": {},
   "outputs": [],
   "source": [
    "# Standardize the numerical columns for both training and test sets\n",
    "scaler = StandardScaler()\n",
    "X_train[numerical_cols] = scaler.fit_transform(X_train[numerical_cols])\n",
    "X_test[numerical_cols] = scaler.transform(X_test[numerical_cols])"
   ]
  },
  {
   "cell_type": "markdown",
   "id": "62c60e80-7032-4a9e-ac31-88c5dbb6720e",
   "metadata": {},
   "source": [
    "# Model Training\n",
    "### LogisticRegression"
   ]
  },
  {
   "cell_type": "code",
   "execution_count": null,
   "id": "6391b3dc-25a7-4c18-a92e-75a68cca94a3",
   "metadata": {},
   "outputs": [],
   "source": []
  },
  {
   "cell_type": "code",
   "execution_count": null,
   "id": "24ff7c08-3eaf-4743-8565-13497bc98e36",
   "metadata": {},
   "outputs": [],
   "source": []
  },
  {
   "cell_type": "code",
   "execution_count": null,
   "id": "25cb805e-7e44-4a01-8e69-ba579c10b32f",
   "metadata": {},
   "outputs": [],
   "source": []
  }
 ],
 "metadata": {
  "kernelspec": {
   "display_name": "Python 3 (ipykernel)",
   "language": "python",
   "name": "python3"
  },
  "language_info": {
   "codemirror_mode": {
    "name": "ipython",
    "version": 3
   },
   "file_extension": ".py",
   "mimetype": "text/x-python",
   "name": "python",
   "nbconvert_exporter": "python",
   "pygments_lexer": "ipython3",
   "version": "3.10.12"
  }
 },
 "nbformat": 4,
 "nbformat_minor": 5
}
