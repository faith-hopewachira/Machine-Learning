{
 "cells": [
  {
   "cell_type": "code",
   "execution_count": 138,
   "id": "14ef7211-1329-4bc8-b87e-6767250facc2",
   "metadata": {},
   "outputs": [],
   "source": [
    "import pandas as pd\n",
    "from sklearn.model_selection import train_test_split, GridSearchCV\n",
    "from sklearn.linear_model import LogisticRegression\n",
    "from sklearn.preprocessing import StandardScaler\n",
    "from sklearn.metrics import accuracy_score, classification_report\n",
    "from sklearn.preprocessing import LabelEncoder\n",
    "from sklearn.compose import ColumnTransformer\n",
    "from sklearn.pipeline import Pipeline\n",
    "from sklearn.impute import SimpleImputer\n",
    "from sklearn.ensemble import AdaBoostClassifier"
   ]
  },
  {
   "cell_type": "code",
   "execution_count": 139,
   "id": "262f975e-2394-4708-ad76-8a81b9d970a1",
   "metadata": {},
   "outputs": [],
   "source": [
    "loan_df = pd.read_csv('/home/student/application_train.csv')"
   ]
  },
  {
   "cell_type": "markdown",
   "id": "073721ca-5486-4001-b54d-908004082c69",
   "metadata": {},
   "source": [
    "# Personal and Demographic Information\n",
    "CODE_GENDER: Gender of the applicant. This feature can help capture behavioral differences that may indirectly influence credit risk (but be mindful of fairness in using this variable).<br>\n",
    "FLAG_OWN_CAR and FLAG_OWN_REALTY: Indicates whether the applicant owns a car or real estate. Ownership of assets typically correlates with lower credit risk because these can serve as collateral or demonstrate financial stability.<br>\n",
    "CNT_CHILDREN: Number of children in the household. More dependents can lead to higher financial obligations, potentially increasing default risk.<br>\n",
    "DAYS_BIRTH: The age of the applicant (in days). Age can impact credit risk, with younger individuals often seen as higher risk, but it could also correlate with different financial behaviors.<br>\n",
    "OCCUPATION_TYPE: This reflects the applicant's profession. Certain professions are more stable (e.g., government jobs) and could indicate lower risk compared to more unstable occupations.<br>\n",
    "NAME_EDUCATION_TYPE: Education level can affect loan decisions since higher education is often associated with better job stability and income.<br>\n",
    "NAME_FAMILY_STATUS: Marital status might influence financial stability, with married individuals often seen as more stable.<br>\n",
    "CNT_FAM_MEMBERS: Number of family members, similar to children count, indicates financial dependency, which might increase credit risk.<br>\n",
    "\n",
    "# Income and Loan Details\n",
    "AMT_INCOME_TOTAL: Total annual income of the applicant. Higher income typically implies greater ability to repay the loan.<br>\n",
    "AMT_CREDIT: Total amount of credit requested. A larger requested loan amount relative to income might increase risk.<br>\n",
    "AMT_ANNUITY: The annual loan repayment amount. The proportion of annuity to income (AMT_ANNUITY/AMT_INCOME_TOTAL) can indicate loan affordability.<br>\n",
    "AMT_GOODS_PRICE: The price of the goods for which the loan is taken (e.g., equipment or seeds for farmers). This may help assess whether the loan is reasonable compared to income and other factors.<br>\n",
    "\n",
    "# Employment Information\n",
    "DAYS_EMPLOYED: How long the applicant has been employed. Longer employment periods are usually associated with greater stability and a lower likelihood of default.<br>\n",
    "FLAG_EMP_PHONE: Indicates whether the applicant provided a work phone. Providing more contact details can be an indicator of transparency and stability.<br>\n",
    "FLAG_WORK_PHONE, FLAG_MOBIL, FLAG_PHONE, FLAG_EMAIL: These flags indicate whether the applicant provided various forms of contact. Availability of contact information might help reduce risk, as the bank can reach the applicant more easily.<br>\n",
    "\n",
    "\n",
    "# External Scores\n",
    "EXT_SOURCE_1, EXT_SOURCE_2, EXT_SOURCE_3: External credit scores or sources. These scores are likely provided by credit bureaus or other third-party sources and are highly relevant for predicting creditworthiness.\n",
    "\n",
    "# Housing and Property Features\n",
    "NAME_HOUSING_TYPE: Type of housing (e.g., apartment, house). Certain housing types could be associated with more financial stability.<br>\n",
    "APARTMENTS_AVG, FLOORSMAX_AVG, YEARS_BUILD_AVG: These features describe the condition or characteristics of the applicant’s property. Newer or more valuable property can indicate better financial security.<br>\n",
    "OWN_CAR_AGE: Age of the applicant's car. A newer car might be a proxy for financial status.\n",
    "LANDAREA_AVG, LIVINGAREA_AVG, COMMONAREA_AVG: Average sizes of various areas of the property. Larger or better-maintained properties can imply higher wealth and lower credit risk.<br>\n",
    "\n",
    "\n",
    "# Regional and Population Features\n",
    "REGION_POPULATION_RELATIVE: This reflects the relative population of the region where the applicant lives. Living in a densely populated region might impact the economic opportunities available and influence loan decisions.<br>\n",
    "REG_REGION_NOT_LIVE_REGION, REG_CITY_NOT_LIVE_CITY: Flags indicating whether the applicant's work region is different from their living region. This might affect commuting costs or job stability.<br>\n",
    "\n",
    "\n",
    "# Loan Application Information\n",
    "NAME_CONTRACT_TYPE: The type of loan contract (cash loans, revolving loans). Different loan types might have different risk profiles (e.g., revolving credit is generally riskier than installment loans).<br>\n",
    "WEEKDAY_APPR_PROCESS_START and HOUR_APPR_PROCESS_START: The day and hour the application was started. These features could capture certain behavioral patterns, such as applying for loans at certain times of the week when individuals might be more or less rational.<br>\n",
    "\n",
    "# Document Flags and Credit Bureau Requests\n",
    "FLAG_DOCUMENT_*: Flags indicating which documents the applicant provided. Missing important documents might indicate higher risk.<br>\n",
    "AMT_REQ_CREDIT_BUREAU_*: The number of credit bureau inquiries over different time periods (hour, day, week, month, quarter, year). Frequent credit bureau checks might suggest financial distress or higher risk.<br>\n",
    "\n",
    "# Behavioral and Social Features\n",
    "OBS_30_CNT_SOCIAL_CIRCLE, DEF_30_CNT_SOCIAL_CIRCLE, OBS_60_CNT_SOCIAL_CIRCLE, DEF_60_CNT_SOCIAL_CIRCLE: These features count the number of observations of the applicant’s social circle, which might be proxies for peer influence and social stability. Defaults within their social circle may signal increased risk.<br>\n",
    "DAYS_LAST_PHONE_CHANGE: The number of days since the applicant last changed their phone. Frequent phone changes could indicate instability or potential fraud.<br>"
   ]
  },
  {
   "cell_type": "code",
   "execution_count": 140,
   "id": "c34d53c9-7608-4a96-ba4b-4a83805448dd",
   "metadata": {},
   "outputs": [],
   "source": [
    "columns_to_keep = [\n",
    "    'TARGET', 'NAME_CONTRACT_TYPE','AMT_INCOME_TOTAL', \n",
    "    'AMT_CREDIT', 'AMT_ANNUITY', 'CODE_GENDER',\n",
    "    'FLAG_OWN_CAR', 'FLAG_OWN_REALTY', 'CNT_CHILDREN', 'NAME_INCOME_TYPE', \n",
    "    'NAME_EDUCATION_TYPE', 'NAME_FAMILY_STATUS', 'DAYS_BIRTH', 'DAYS_EMPLOYED',\n",
    "    'REGION_POPULATION_RELATIVE', 'DAYS_LAST_PHONE_CHANGE',\n",
    "    'CNT_FAM_MEMBERS', 'EXT_SOURCE_1', 'EXT_SOURCE_2', 'EXT_SOURCE_3'\n",
    "]"
   ]
  },
  {
   "cell_type": "code",
   "execution_count": 141,
   "id": "1cc96ddf-e10b-45e9-8fc4-d3182ae75f16",
   "metadata": {},
   "outputs": [],
   "source": [
    "df_filtered = loan_df[columns_to_keep]"
   ]
  },
  {
   "cell_type": "code",
   "execution_count": 150,
   "id": "773ed3ea-de6f-41aa-9186-d02a896a13ef",
   "metadata": {},
   "outputs": [],
   "source": [
    "# df_filtered.head()"
   ]
  },
  {
   "cell_type": "code",
   "execution_count": 142,
   "id": "4950bba7-0ab7-4036-a354-d7ac3c07297b",
   "metadata": {},
   "outputs": [
    {
     "name": "stdout",
     "output_type": "stream",
     "text": [
      "Index(['target', 'contract_type', 'income_total', 'credit_amount',\n",
      "       'annuity_amount', 'gender', 'owns_car', 'owns_realty', 'children_count',\n",
      "       'income_type', 'education_type', 'family_status', 'age_days',\n",
      "       'employment_days', 'region_population_relative',\n",
      "       'days_last_phone_change', 'family_members_count', 'ext_source_1',\n",
      "       'ext_source_2', 'ext_source_3'],\n",
      "      dtype='object')\n"
     ]
    }
   ],
   "source": [
    "rename_columns = {\n",
    "    'TARGET': 'target',\n",
    "    'NAME_CONTRACT_TYPE': 'contract_type',\n",
    "    'AMT_INCOME_TOTAL': 'income_total',\n",
    "    'AMT_CREDIT': 'credit_amount',\n",
    "    'AMT_ANNUITY': 'annuity_amount',\n",
    "    'CODE_GENDER': 'gender',\n",
    "    'FLAG_OWN_CAR': 'owns_car',\n",
    "    'FLAG_OWN_REALTY': 'owns_realty',\n",
    "    'CNT_CHILDREN': 'children_count',\n",
    "    'NAME_INCOME_TYPE': 'income_type',\n",
    "    'NAME_EDUCATION_TYPE': 'education_type',\n",
    "    'NAME_FAMILY_STATUS': 'family_status',\n",
    "    'DAYS_BIRTH': 'age_days',\n",
    "    'DAYS_EMPLOYED': 'employment_days',\n",
    "    'REGION_POPULATION_RELATIVE': 'region_population_relative',\n",
    "    'DAYS_LAST_PHONE_CHANGE': 'days_last_phone_change',\n",
    "    'CNT_FAM_MEMBERS': 'family_members_count',\n",
    "    'EXT_SOURCE_1': 'ext_source_1',\n",
    "    'EXT_SOURCE_2': 'ext_source_2',\n",
    "    'EXT_SOURCE_3': 'ext_source_3'\n",
    "}\n",
    "\n",
    "# Create a copy of the filtered DataFrame to avoid the warning\n",
    "df_filtered_copy = df_filtered.copy()\n",
    "\n",
    "# Rename the columns in the copy\n",
    "df_filtered_copy.rename(columns=rename_columns, inplace=True)\n",
    "\n",
    "# Check the new column names\n",
    "print(df_filtered_copy.columns)"
   ]
  },
  {
   "cell_type": "code",
   "execution_count": 143,
   "id": "e3a79f2f-0009-464e-9221-f20372726a73",
   "metadata": {},
   "outputs": [],
   "source": [
    "# Convert age from days to years (absolute values to handle negative days)\n",
    "df_filtered_copy['age_years'] = abs(df_filtered_copy['age_days']) / 365.25\n",
    "\n",
    "# Round age_years to the nearest whole number\n",
    "df_filtered_copy['age_years'] = df_filtered_copy['age_years'].round(0).astype(int)"
   ]
  },
  {
   "cell_type": "code",
   "execution_count": 43,
   "id": "8917032b-377f-4b53-8c38-d10005f611fd",
   "metadata": {},
   "outputs": [],
   "source": [
    "# df_filtered_copy.head"
   ]
  },
  {
   "cell_type": "code",
   "execution_count": 144,
   "id": "7cf63bf7-258d-43b1-9760-60486c29dd81",
   "metadata": {},
   "outputs": [],
   "source": [
    "df_filtered_copy.to_csv('filtered_columns_dataset.csv', index=False)"
   ]
  },
  {
   "cell_type": "code",
   "execution_count": 40,
   "id": "9e7e599b-9d20-4fa6-b7eb-da50757fbba1",
   "metadata": {},
   "outputs": [],
   "source": [
    "# df_filtered.head()"
   ]
  },
  {
   "cell_type": "code",
   "execution_count": 145,
   "id": "ef829e86-84fd-4489-9654-0a0e0b0b7877",
   "metadata": {},
   "outputs": [
    {
     "name": "stdout",
     "output_type": "stream",
     "text": [
      "annuity_amount                12\n",
      "days_last_phone_change         1\n",
      "family_members_count           2\n",
      "ext_source_1              173378\n",
      "ext_source_2                 660\n",
      "ext_source_3               60965\n"
     ]
    }
   ],
   "source": [
    "# Check for missing values in each column\n",
    "missing_values = df_filtered_copy.isnull().sum()\n",
    "\n",
    "# Filter and display only columns that have missing values\n",
    "missing_columns = missing_values[missing_values > 0]\n",
    "\n",
    "# Use `to_string()` to display the full output without truncation\n",
    "print(missing_columns.to_string())"
   ]
  },
  {
   "cell_type": "markdown",
   "id": "6de52579-84b7-4664-89cd-ab9c78b39316",
   "metadata": {},
   "source": [
    "# Data Cleaning"
   ]
  },
  {
   "cell_type": "code",
   "execution_count": 110,
   "id": "67f33189-a3e7-488b-9452-bbf74f9350f3",
   "metadata": {},
   "outputs": [],
   "source": [
    "df_filtered_copy['annuity_amount'] = df_filtered_copy.groupby(['income_total', 'income_type'])['annuity_amount'].transform(lambda x: x.ffill().bfill())"
   ]
  },
  {
   "cell_type": "code",
   "execution_count": 111,
   "id": "5c3ac30b-8db0-41c3-a823-b8bf6e4909b2",
   "metadata": {},
   "outputs": [],
   "source": [
    "df_filtered_copy['days_last_phone_change'] = df_filtered_copy.groupby(['income_total', 'income_type'])['days_last_phone_change'].transform(lambda x: x.ffill().bfill())"
   ]
  },
  {
   "cell_type": "code",
   "execution_count": 112,
   "id": "7b9e3957-4a06-4660-9dec-bede84ab21cd",
   "metadata": {},
   "outputs": [],
   "source": [
    "pd.set_option('future.no_silent_downcasting', True)\n",
    "df_filtered_copy['family_members_count'] = df_filtered_copy.groupby(['family_status', 'children_count'])['family_members_count'].transform(lambda x: x.ffill())\n",
    "df_filtered_copy['family_members_count'] = df_filtered_copy.groupby(['family_status', 'children_count'])['family_members_count'].transform(lambda x: x.bfill())"
   ]
  },
  {
   "cell_type": "code",
   "execution_count": 67,
   "id": "31a9339c-7f07-4876-9e1c-06a87b56fbbc",
   "metadata": {},
   "outputs": [],
   "source": [
    " # df_filtered_copy.isnull().sum()"
   ]
  },
  {
   "cell_type": "code",
   "execution_count": 113,
   "id": "0d06cc91-7e88-4c0d-bc8a-e789248c040e",
   "metadata": {},
   "outputs": [
    {
     "name": "stdout",
     "output_type": "stream",
     "text": [
      "0\n"
     ]
    }
   ],
   "source": [
    "df_filtered_copy['ext_source_1'] = df_filtered_copy['ext_source_1'].fillna(df_filtered_copy['ext_source_1'].mean())\n",
    "print(df_filtered_copy['ext_source_1'].isnull().sum())  # Check remaining missing values"
   ]
  },
  {
   "cell_type": "code",
   "execution_count": 114,
   "id": "188c70a0-c2ae-4002-883a-6e4b7076f820",
   "metadata": {},
   "outputs": [
    {
     "name": "stdout",
     "output_type": "stream",
     "text": [
      "Mean of ext_source_1: 0.5021298056566624\n",
      "Mean of ext_source_2: 0.5143926741308462\n",
      "Mean of ext_source_3: 0.5108529061799658\n"
     ]
    }
   ],
   "source": [
    "# Calculate the mean for the specified columns\n",
    "mean_ext_source_1 = df_filtered_copy['ext_source_1'].mean()\n",
    "mean_ext_source_2 = df_filtered_copy['ext_source_2'].mean()\n",
    "mean_ext_source_3 = df_filtered_copy['ext_source_3'].mean()\n",
    "\n",
    "# Display the calculated means\n",
    "print(\"Mean of ext_source_1:\", mean_ext_source_1)\n",
    "print(\"Mean of ext_source_2:\", mean_ext_source_2)\n",
    "print(\"Mean of ext_source_3:\", mean_ext_source_3)"
   ]
  },
  {
   "cell_type": "code",
   "execution_count": 116,
   "id": "4b47876a-dfbf-4f3b-9b6a-7eaca1d7e817",
   "metadata": {},
   "outputs": [
    {
     "name": "stdout",
     "output_type": "stream",
     "text": [
      "ext_source_1    0\n",
      "ext_source_2    0\n",
      "ext_source_3    0\n",
      "dtype: int64\n"
     ]
    }
   ],
   "source": [
    "# Fill missing values with the calculated means\n",
    "df_filtered_copy['ext_source_1'] = df_filtered_copy['ext_source_1'].fillna(mean_ext_source_1)\n",
    "df_filtered_copy['ext_source_2'] = df_filtered_copy['ext_source_2'].fillna(mean_ext_source_2)\n",
    "df_filtered_copy['ext_source_3'] = df_filtered_copy['ext_source_3'].fillna(mean_ext_source_3)\n",
    "\n",
    "# Check to make sure there are no more missing values in the columns\n",
    "print(df_filtered_copy[['ext_source_1', 'ext_source_2', 'ext_source_3']].isnull().sum())"
   ]
  },
  {
   "cell_type": "code",
   "execution_count": 132,
   "id": "b1ddd126-1bc3-44cd-b743-95ba4dac32e9",
   "metadata": {
    "scrolled": true
   },
   "outputs": [
    {
     "name": "stdout",
     "output_type": "stream",
     "text": [
      "Missing values before imputation: 0\n",
      "No missing values found in family_members_count.\n"
     ]
    }
   ],
   "source": [
    "# Check if the column exists and if there are missing values\n",
    "if 'family_members_count' in df_filtered_copy.columns:\n",
    "    missing_values = df_filtered_copy['family_members_count'].isnull().sum()\n",
    "    print(f\"Missing values before imputation: {missing_values}\")\n",
    "    \n",
    "    if missing_values > 0:\n",
    "        # Create an imputer for the family_members_count column\n",
    "        imputer = SimpleImputer(strategy='mean')  # Use 'median' or 'most_frequent' as needed\n",
    "\n",
    "        # Fit and transform the imputer on the specific column\n",
    "        df_filtered_copy['family_members_count'] = imputer.fit_transform(df_filtered_copy[['family_members_count']])\n",
    "\n",
    "        # Verify that there are no missing values left in that column\n",
    "        missing_values_after_imputation = df_filtered_copy['family_members_count'].isnull().sum()\n",
    "        print(f\"Missing values after imputation: {missing_values_after_imputation}\")\n",
    "    else:\n",
    "        print(\"No missing values found in family_members_count.\")\n",
    "else:\n",
    "    print(\"Column 'family_members_count' does not exist in the DataFrame.\")"
   ]
  },
  {
   "cell_type": "markdown",
   "id": "72a1dd78-17f1-4f43-9b1c-3e812a07fbae",
   "metadata": {},
   "source": [
    "# Feature Engineering - Binning"
   ]
  },
  {
   "cell_type": "code",
   "execution_count": null,
   "id": "64f834a6-4af1-48b3-a9e9-e38b90a3fc9e",
   "metadata": {},
   "outputs": [],
   "source": [
    "# 1. Binning income_total into Low, Medium, High based on percentiles\n",
    "loan_df['income_bin'] = pd.qcut(loan_df['income_total'], q=3, labels=['Low', 'Medium', 'High'])"
   ]
  },
  {
   "cell_type": "code",
   "execution_count": null,
   "id": "c9dd98ff-3582-4c4e-8a3c-8ec9ab6157ac",
   "metadata": {},
   "outputs": [],
   "source": [
    "# 2. Binning age_years into Young, Middle-aged, Senior\n",
    "loan_df['age_bin'] = pd.cut(loan_df['age_years'], bins=[0, 30, 50, float('inf')], labels=['Young', 'Middle-aged', 'Senior'])"
   ]
  },
  {
   "cell_type": "code",
   "execution_count": null,
   "id": "11e8e232-988f-4b6c-ab70-b0e170807ef5",
   "metadata": {},
   "outputs": [],
   "source": [
    "# 3. Binning credit_amount into categories based on quartiles\n",
    "loan_df['credit_bin'] = pd.qcut(loan_df['credit_amount'], q=4, labels=['Very Low', 'Low', 'Medium', 'High'])"
   ]
  },
  {
   "cell_type": "code",
   "execution_count": null,
   "id": "3c01f95d-267d-44b4-9329-1f5f76cb99b8",
   "metadata": {},
   "outputs": [],
   "source": [
    "# 4. Binning annuity_amount into categories based on quartiles\n",
    "loan_df['annuity_bin'] = pd.qcut(loan_df['annuity_amount'].dropna(), q=4, labels=['Very Low', 'Low', 'Medium', 'High'])"
   ]
  },
  {
   "cell_type": "code",
   "execution_count": null,
   "id": "a95f88b2-c555-43d8-afca-a55dac3d73b0",
   "metadata": {},
   "outputs": [],
   "source": [
    "# 5. Binning employment_days into \"Recently employed\", \"Long-term employed\", etc.\n",
    "loan_df['employment_bin'] = pd.cut(loan_df['employment_days'], bins=[-float('inf'), -1000, -500, 0], labels=['Long-term', 'Mid-term', 'Recently employed'])"
   ]
  },
  {
   "cell_type": "code",
   "execution_count": 144,
   "id": "e51b44d0-d2b6-46dc-9eaa-2c5f7185e418",
   "metadata": {},
   "outputs": [],
   "source": [
    "# df_filtered_copy.isnull().sum()"
   ]
  },
  {
   "cell_type": "code",
   "execution_count": 133,
   "id": "c1d512e3-9f1b-48d2-9722-f189d52ba451",
   "metadata": {},
   "outputs": [],
   "source": [
    "categorical_cols = ['contract_type', 'gender', 'owns_car', 'owns_realty', 'income_type',\n",
    "                    'education_type', 'family_status']"
   ]
  },
  {
   "cell_type": "code",
   "execution_count": 134,
   "id": "9ccc5243-ddb5-487d-b85e-3b901127d820",
   "metadata": {},
   "outputs": [],
   "source": [
    "numeric_cols = ['income_total', 'credit_amount', 'annuity_amount', 'children_count', 'age_days',\n",
    "                'employment_days', 'region_population_relative', 'days_last_phone_change',\n",
    "                'family_members_count', 'ext_source_1', 'ext_source_2', 'ext_source_3']"
   ]
  },
  {
   "cell_type": "code",
   "execution_count": 135,
   "id": "36476755-ca1e-4419-a017-fb1b589671e6",
   "metadata": {},
   "outputs": [],
   "source": [
    "label_encoders = {}\n",
    "for col in categorical_cols:\n",
    "    le = LabelEncoder()\n",
    "    df_filtered_copy[col] = le.fit_transform(df_filtered_copy[col])\n",
    "    label_encoders[col] = le"
   ]
  },
  {
   "cell_type": "markdown",
   "id": "cac21fbd-e669-4b19-bda8-601e8af43f82",
   "metadata": {},
   "source": [
    "Numeric transformer<br>\n",
    "A pipeline that first imputes missing values using the mean and then standardizes the numeric features."
   ]
  },
  {
   "cell_type": "markdown",
   "id": "5edf0f59-ede0-41ad-b781-7c614215da9b",
   "metadata": {},
   "source": [
    "Scaler<br>\n",
    "Makes sure that different scales (like income vs. age) are treated fairly. For example, income values could be much larger than age values, and scaling helps balance that."
   ]
  },
  {
   "cell_type": "code",
   "execution_count": 121,
   "id": "7c63082e-1c29-4b1a-b659-e42067556307",
   "metadata": {},
   "outputs": [],
   "source": [
    "numeric_transformer = Pipeline(steps=[\n",
    "    ('scaler', StandardScaler())\n",
    "])"
   ]
  },
  {
   "cell_type": "markdown",
   "id": "fd1bd3d2-9fa0-4e01-88a9-c341f4ac19ad",
   "metadata": {},
   "source": [
    "A ColumnTransformer that applies the numeric_transformer to the specified numeric_cols. This allows different preprocessing for different types of data in the same DataFrame."
   ]
  },
  {
   "cell_type": "code",
   "execution_count": 122,
   "id": "0238aaea-6969-490c-921d-327b6c5fcea8",
   "metadata": {},
   "outputs": [],
   "source": [
    "# Combine numeric transformer (categorical columns are now label encoded, no need for a separate transformer)\n",
    "preprocessor = ColumnTransformer(\n",
    "    transformers=[\n",
    "        ('num', numeric_transformer, numeric_cols)\n",
    "    ])"
   ]
  },
  {
   "cell_type": "markdown",
   "id": "28a0264f-5a91-4528-b0b4-98e5e436d1e2",
   "metadata": {},
   "source": [
    "X: The feature set, created by dropping the target variable from the DataFrame.<br>\n",
    "y: The target variable, which is the column named 'target'."
   ]
  },
  {
   "cell_type": "code",
   "execution_count": 123,
   "id": "92112385-f5da-4bec-92ac-ba1b29088721",
   "metadata": {},
   "outputs": [],
   "source": [
    "# Split the data into features and target\n",
    "X = df_filtered_copy.drop('target', axis=1)\n",
    "y = df_filtered_copy['target']"
   ]
  },
  {
   "cell_type": "markdown",
   "id": "043409b7-04e0-439b-b6f8-2a9c105e5329",
   "metadata": {},
   "source": [
    "# Model Training"
   ]
  },
  {
   "cell_type": "code",
   "execution_count": 124,
   "id": "9c187635-48ed-4964-97c4-0e736f8dc584",
   "metadata": {},
   "outputs": [],
   "source": [
    "# Define the Logistic Regression model\n",
    "log_reg = LogisticRegression(max_iter=1000)"
   ]
  },
  {
   "cell_type": "code",
   "execution_count": 125,
   "id": "93ef97bd-d4a4-4966-bc93-074df9c81d48",
   "metadata": {},
   "outputs": [],
   "source": [
    "# Create a pipeline\n",
    "pipeline = Pipeline(steps=[\n",
    "    ('preprocessor', preprocessor),\n",
    "    ('classifier', log_reg)\n",
    "])"
   ]
  },
  {
   "cell_type": "code",
   "execution_count": 126,
   "id": "acf4485b-d73e-4922-8734-fec1f936b850",
   "metadata": {},
   "outputs": [],
   "source": [
    "# Define the parameter grid for hyperparameter tuning\n",
    "param_grid = {\n",
    "    'classifier__C': [0.001, 0.01, 0.1, 1, 10, 100],\n",
    "    'classifier__solver': ['liblinear', 'saga'],\n",
    "}"
   ]
  },
  {
   "cell_type": "code",
   "execution_count": 127,
   "id": "fc35d6d4-c323-45d4-b3a5-585e9d090ad2",
   "metadata": {},
   "outputs": [],
   "source": [
    "# Split the dataset into training and test sets\n",
    "X_train, X_test, y_train, y_test = train_test_split(X, y, test_size=0.2, random_state=42)"
   ]
  },
  {
   "cell_type": "markdown",
   "id": "013be49e-d797-4d7e-ab96-81cf1d200c62",
   "metadata": {},
   "source": [
    "model: A pipeline combining the preprocessing steps and the logistic regression classifier. The liblinear solver is specified for binary classification, and max_iter=1000 allows for sufficient iterations during training."
   ]
  },
  {
   "cell_type": "code",
   "execution_count": 128,
   "id": "8bac707d-8384-480f-a0cb-7a5c46ec0519",
   "metadata": {},
   "outputs": [],
   "source": [
    "# Set up GridSearchCV\n",
    "grid_search = GridSearchCV(pipeline, param_grid, cv=5, scoring='accuracy', n_jobs=-1)"
   ]
  },
  {
   "cell_type": "code",
   "execution_count": 129,
   "id": "956e047a-9ee2-4fa7-b922-0563e9be6253",
   "metadata": {},
   "outputs": [
    {
     "name": "stdout",
     "output_type": "stream",
     "text": [
      "Best parameters found:  {'classifier__C': 0.001, 'classifier__solver': 'liblinear'}\n"
     ]
    }
   ],
   "source": [
    "# Fit the model\n",
    "grid_search.fit(X_train, y_train)\n",
    "\n",
    "# Best parameters found\n",
    "print(\"Best parameters found: \", grid_search.best_params_)"
   ]
  },
  {
   "cell_type": "code",
   "execution_count": 131,
   "id": "9d1cac3e-8877-48c7-afb9-97c95f45f14d",
   "metadata": {},
   "outputs": [
    {
     "name": "stdout",
     "output_type": "stream",
     "text": [
      "Accuracy: 0.9195161211648212\n",
      "Classification Report:\n",
      "              precision    recall  f1-score   support\n",
      "\n",
      "           0       0.92      1.00      0.96     56554\n",
      "           1       0.47      0.00      0.00      4949\n",
      "\n",
      "    accuracy                           0.92     61503\n",
      "   macro avg       0.69      0.50      0.48     61503\n",
      "weighted avg       0.88      0.92      0.88     61503\n",
      "\n"
     ]
    }
   ],
   "source": [
    "# Make predictions using the best estimator\n",
    "y_pred = grid_search.predict(X_test)\n",
    "\n",
    "# Evaluate the model\n",
    "accuracy = accuracy_score(y_test, y_pred)\n",
    "classification_rep = classification_report(y_test, y_pred)\n",
    "\n",
    "print(f\"Accuracy: {accuracy}\")\n",
    "print(f\"Classification Report:\\n{classification_rep}\")"
   ]
  }
 ],
 "metadata": {
  "kernelspec": {
   "display_name": "Python 3 (ipykernel)",
   "language": "python",
   "name": "python3"
  },
  "language_info": {
   "codemirror_mode": {
    "name": "ipython",
    "version": 3
   },
   "file_extension": ".py",
   "mimetype": "text/x-python",
   "name": "python",
   "nbconvert_exporter": "python",
   "pygments_lexer": "ipython3",
   "version": "3.10.12"
  }
 },
 "nbformat": 4,
 "nbformat_minor": 5
}
