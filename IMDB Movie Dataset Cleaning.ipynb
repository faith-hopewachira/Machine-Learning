{
 "cells": [
  {
   "cell_type": "code",
   "execution_count": 2,
   "id": "dc01eac5-96ef-493a-89ed-3cc7ab695879",
   "metadata": {},
   "outputs": [],
   "source": [
    "import seaborn as sns\n",
    "import matplotlib.pyplot as plt\n",
    "import numpy as np\n",
    "import pandas as pd"
   ]
  },
  {
   "cell_type": "code",
   "execution_count": 3,
   "id": "ca11a3e5-cf06-4e51-9bbe-b12f65e61355",
   "metadata": {},
   "outputs": [],
   "source": [
    "movie_reviews_df=pd.read_csv('/home/student/IMDB_Dataset.csv')"
   ]
  },
  {
   "cell_type": "code",
   "execution_count": 4,
   "id": "cc760854-3acf-4c3a-bf1d-f85a5841202a",
   "metadata": {},
   "outputs": [
    {
     "name": "stdout",
     "output_type": "stream",
     "text": [
      "Index(['review', 'sentiment'], dtype='object')\n"
     ]
    }
   ],
   "source": [
    "print(movie_reviews_df.columns)"
   ]
  },
  {
   "cell_type": "code",
   "execution_count": 5,
   "id": "798529fe-1e76-49ef-b938-45d1ba08629f",
   "metadata": {},
   "outputs": [
    {
     "data": {
      "text/html": [
       "<div>\n",
       "<style scoped>\n",
       "    .dataframe tbody tr th:only-of-type {\n",
       "        vertical-align: middle;\n",
       "    }\n",
       "\n",
       "    .dataframe tbody tr th {\n",
       "        vertical-align: top;\n",
       "    }\n",
       "\n",
       "    .dataframe thead th {\n",
       "        text-align: right;\n",
       "    }\n",
       "</style>\n",
       "<table border=\"1\" class=\"dataframe\">\n",
       "  <thead>\n",
       "    <tr style=\"text-align: right;\">\n",
       "      <th></th>\n",
       "      <th>review</th>\n",
       "      <th>sentiment</th>\n",
       "    </tr>\n",
       "  </thead>\n",
       "  <tbody>\n",
       "    <tr>\n",
       "      <th>0</th>\n",
       "      <td>One of the other reviewers has mentioned that ...</td>\n",
       "      <td>positive</td>\n",
       "    </tr>\n",
       "    <tr>\n",
       "      <th>1</th>\n",
       "      <td>A wonderful little production. &lt;br /&gt;&lt;br /&gt;The...</td>\n",
       "      <td>positive</td>\n",
       "    </tr>\n",
       "    <tr>\n",
       "      <th>2</th>\n",
       "      <td>I thought this was a wonderful way to spend ti...</td>\n",
       "      <td>positive</td>\n",
       "    </tr>\n",
       "    <tr>\n",
       "      <th>3</th>\n",
       "      <td>Basically there's a family where a little boy ...</td>\n",
       "      <td>negative</td>\n",
       "    </tr>\n",
       "    <tr>\n",
       "      <th>4</th>\n",
       "      <td>Petter Mattei's \"Love in the Time of Money\" is...</td>\n",
       "      <td>positive</td>\n",
       "    </tr>\n",
       "  </tbody>\n",
       "</table>\n",
       "</div>"
      ],
      "text/plain": [
       "                                              review sentiment\n",
       "0  One of the other reviewers has mentioned that ...  positive\n",
       "1  A wonderful little production. <br /><br />The...  positive\n",
       "2  I thought this was a wonderful way to spend ti...  positive\n",
       "3  Basically there's a family where a little boy ...  negative\n",
       "4  Petter Mattei's \"Love in the Time of Money\" is...  positive"
      ]
     },
     "execution_count": 5,
     "metadata": {},
     "output_type": "execute_result"
    }
   ],
   "source": [
    "movie_reviews_df.head()"
   ]
  },
  {
   "cell_type": "code",
   "execution_count": 6,
   "id": "f2c76e2d-2a82-4d8f-a01c-d90b2d0ac2b4",
   "metadata": {},
   "outputs": [
    {
     "name": "stdout",
     "output_type": "stream",
     "text": [
      "Index(['review', 'sentiment'], dtype='object')\n"
     ]
    }
   ],
   "source": [
    "print(movie_reviews_df.columns)"
   ]
  },
  {
   "cell_type": "markdown",
   "id": "789305d7-9d19-460e-872a-7bba850a3bea",
   "metadata": {},
   "source": [
    "### Chart Explanation\n",
    "The chart shows an equal distribution (50% positive, 50% negative) likely because the dataset is balanced, meaning there is an equal number of positive and negative reviews. This can happen if the dataset was intentionally curated to have an equal representation of both sentiments."
   ]
  },
  {
   "cell_type": "code",
   "execution_count": 7,
   "id": "e24da4cd-2438-4b01-9f5e-981b52e33a0d",
   "metadata": {},
   "outputs": [
    {
     "data": {
      "image/png": "[encoded data removed]",
      "text/plain": [
       "<Figure size 600x600 with 1 Axes>"
      ]
     },
     "metadata": {},
     "output_type": "display_data"
    }
   ],
   "source": [
    "import matplotlib.pyplot as plt\n",
    "\n",
    "# Count the number of positive and negative sentiments\n",
    "sentiment_counts = movie_reviews_df['sentiment'].value_counts()\n",
    "\n",
    "# Create a bar graph\n",
    "plt.figure(figsize=(6, 6))\n",
    "plt.bar(sentiment_counts.index, sentiment_counts.values, color=['#66b3ff', '#ff9999'])\n",
    "plt.title('Sentiment Distribution (Positive vs Negative)')\n",
    "plt.xlabel('Sentiment')\n",
    "plt.ylabel('Count')\n",
    "plt.xticks(rotation=0)  # Rotate x labels if necessary\n",
    "plt.show()"
   ]
  },
  {
   "cell_type": "markdown",
   "id": "bc09aba5-71ae-4dd9-ab20-cb02265acb24",
   "metadata": {},
   "source": [
    "# Lowercase"
   ]
  },
  {
   "cell_type": "code",
   "execution_count": 7,
   "id": "4511976c-631b-4501-b01a-88c01a201d6a",
   "metadata": {},
   "outputs": [
    {
     "name": "stdout",
     "output_type": "stream",
     "text": [
      "                                              review sentiment\n",
      "0  one of the other reviewers has mentioned that ...  positive\n",
      "1  a wonderful little production. <br /><br />the...  positive\n",
      "2  i thought this was a wonderful way to spend ti...  positive\n",
      "3  basically there's a family where a little boy ...  negative\n",
      "4  petter mattei's \"love in the time of money\" is...  positive\n"
     ]
    }
   ],
   "source": [
    "\n",
    "# Convert all review text to lowercase\n",
    "movie_reviews_df['review'] = movie_reviews_df['review'].str.lower()\n",
    "\n",
    "# Display the first few rows to confirm the change\n",
    "print(movie_reviews_df.head())"
   ]
  },
  {
   "cell_type": "markdown",
   "id": "67c5dc33-03b7-405a-bf41-55871c1e969d",
   "metadata": {},
   "source": [
    "## Tokenization\n",
    "Tokenizing sentences means breaking down the text into individual units or tokens, which could be words, punctuation marks, or even entire sentences, depending on the type of tokenization. In this case, we'll tokenize the reviews into sentences."
   ]
  },
  {
   "cell_type": "code",
   "execution_count": 20,
   "id": "522bc170-4a74-4186-b58b-16a9b1f2239c",
   "metadata": {},
   "outputs": [],
   "source": [
    "# pip install nltk"
   ]
  },
  {
   "cell_type": "code",
   "execution_count": 19,
   "id": "74f3b4fa-28d5-4fa3-b976-150be3e9525f",
   "metadata": {},
   "outputs": [],
   "source": [
    "# pip install spacy"
   ]
  },
  {
   "cell_type": "markdown",
   "id": "2e164ea9-2edd-4ca3-b2c8-28274d234b41",
   "metadata": {},
   "source": [
    "# Split the text into individual words or tokens, which are the building blocks for further text processing."
   ]
  },
  {
   "cell_type": "code",
   "execution_count": 26,
   "id": "5873fb4f-c6ef-4a6a-a85e-9b0d8b9cde41",
   "metadata": {},
   "outputs": [
    {
     "name": "stdout",
     "output_type": "stream",
     "text": [
      "                                              review  \\\n",
      "0  [O, n, e,  , f,  , h, e,  , h, e, r,  , r, e, ...   \n",
      "1  [A,  , w, n, e, r, f, u, l,  , l, l, e,  , p, ...   \n",
      "2  [I,  , h, u, g, h,  , h,  , w,  ,  , w, n, e, ...   \n",
      "3  [B, c, l, l,  , h, e, r, e, ',  ,  , f, l,  , ...   \n",
      "4  [P, e, e, r,  , M, e, ',  , \", L, v, e,  , n, ...   \n",
      "\n",
      "                                       review_tokens  \n",
      "0  [o, n, e, f, h, e, h, e, r, r, e, v, e, w, e, ...  \n",
      "1  [a, w, n, e, r, f, u, l, l, l, e, p, r, u, c, ...  \n",
      "2  [i, h, u, g, h, h, w, w, n, e, r, f, u, l, w, ...  \n",
      "3  [b, c, l, l, h, e, r, e, f, l, w, h, e, r, e, ...  \n",
      "4  [p, e, e, r, m, e, l, v, e, n, h, e, t, e, f, ...  \n"
     ]
    }
   ],
   "source": [
    "import pandas as pd\n",
    "import re\n",
    "\n",
    "# Function to clean and tokenize each review\n",
    "def clean_and_tokenize(review):\n",
    "    # Convert review to string and remove any HTML tags if present\n",
    "    review = re.sub(r'<.*?>', '', str(review))\n",
    "    # Tokenize the review into words, excluding non-alphabetical characters\n",
    "    words = re.findall(r'\\b\\w+\\b', review.lower())\n",
    "    return words\n",
    "\n",
    "# Apply the function to the 'review' column\n",
    "movie_reviews_df['review_tokens'] = movie_reviews_df['review'].apply(clean_and_tokenize)\n",
    "\n",
    "# Preview the result\n",
    "print(movie_reviews_df[['review', 'review_tokens']].head())"
   ]
  },
  {
   "cell_type": "code",
   "execution_count": null,
   "id": "e668c0bd-2051-4080-a2b1-34de08a3c8d1",
   "metadata": {},
   "outputs": [],
   "source": [
    "Remove common words (like \"the,\" \"is,\" \"and\") that do not carry significant meaning for sentiment classification. Use NLTK or SpaCy's predefined stop word lists."
   ]
  }
 ],
 "metadata": {
  "kernelspec": {
   "display_name": "Python 3 (ipykernel)",
   "language": "python",
   "name": "python3"
  },
  "language_info": {
   "codemirror_mode": {
    "name": "ipython",
    "version": 3
   },
   "file_extension": ".py",
   "mimetype": "text/x-python",
   "name": "python",
   "nbconvert_exporter": "python",
   "pygments_lexer": "ipython3",
   "version": "3.10.12"
  }
 },
 "nbformat": 4,
 "nbformat_minor": 5
}
