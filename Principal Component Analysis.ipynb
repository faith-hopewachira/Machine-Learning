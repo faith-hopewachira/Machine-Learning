{
 "cells": [
  {
   "cell_type": "code",
   "execution_count": 27,
   "id": "9f2b4055-10f5-4344-b5ec-ff095d5819ac",
   "metadata": {},
   "outputs": [],
   "source": [
    "import pandas as pd\n",
    "from sklearn.preprocessing import StandardScaler, LabelEncoder\n",
    "from sklearn.decomposition import PCA\n",
    "import matplotlib.pyplot as plt"
   ]
  },
  {
   "cell_type": "code",
   "execution_count": 28,
   "id": "0b017d3f-3db3-4174-8bbe-7c5713161138",
   "metadata": {},
   "outputs": [],
   "source": [
    "income_df = pd.read_csv('/home/student/IngajiDemo/dataset.csv')"
   ]
  },
  {
   "cell_type": "code",
   "execution_count": 5,
   "id": "390beb72-6174-4546-beb7-8ec97f167140",
   "metadata": {},
   "outputs": [],
   "source": [
    "# print(income_df.isna().sum())"
   ]
  },
  {
   "cell_type": "code",
   "execution_count": 29,
   "id": "546a38f1-a3b8-47cd-9350-e87fcfa8939f",
   "metadata": {},
   "outputs": [],
   "source": [
    "income_df['Household_Head_Occupation'] = income_df.groupby('Household_Head_Highest_Grade_Completed')['Household_Head_Occupation'].transform(lambda x: x.ffill().bfill())"
   ]
  },
  {
   "cell_type": "code",
   "execution_count": 8,
   "id": "0e92f7ed-1cef-4d09-8ce7-064511164b95",
   "metadata": {},
   "outputs": [],
   "source": [
    "# print(income_df.isna().sum())"
   ]
  },
  {
   "cell_type": "code",
   "execution_count": 30,
   "id": "7c82f3b7-eb45-4da6-8c91-a7620ffeb895",
   "metadata": {},
   "outputs": [],
   "source": [
    "income_df['Household_Head_Class_of_Worker'] = income_df.groupby('Household_Head_Occupation')['Household_Head_Class_of_Worker'].transform(lambda x: x.ffill().bfill())"
   ]
  },
  {
   "cell_type": "code",
   "execution_count": 11,
   "id": "b0f2c0ca-0d6b-478c-9b6a-a697947ac483",
   "metadata": {},
   "outputs": [],
   "source": [
    "# print(income_df.isna().sum())"
   ]
  },
  {
   "cell_type": "code",
   "execution_count": 31,
   "id": "67ef9733-3e7e-475e-8af3-a02ed6c4d33b",
   "metadata": {},
   "outputs": [],
   "source": [
    "income_df['Total_Number_of_Family_members'] = income_df.groupby('Type_of_Household')['Total_Number_of_Family_members'].transform(lambda x: x.ffill().bfill())"
   ]
  },
  {
   "cell_type": "code",
   "execution_count": 14,
   "id": "c24e75c7-ff42-45ee-8d12-416bcfa01cfe",
   "metadata": {},
   "outputs": [],
   "source": [
    "# print(income_df.isna().sum())"
   ]
  },
  {
   "cell_type": "code",
   "execution_count": 32,
   "id": "e3e59211-7697-4ca1-ac4f-a0964ff94f3a",
   "metadata": {},
   "outputs": [],
   "source": [
    "income_df['Toilet_Facilities'] = income_df.groupby('Total_Number_of_Family_members')['Toilet_Facilities'].transform(lambda x: x.ffill().bfill())"
   ]
  },
  {
   "cell_type": "code",
   "execution_count": 17,
   "id": "3ee408a4-7402-47cd-9cba-587de0863679",
   "metadata": {},
   "outputs": [],
   "source": [
    "# print(income_df.isna().sum())"
   ]
  },
  {
   "cell_type": "code",
   "execution_count": 33,
   "id": "92fdc205-6a20-4a23-ba7b-d1de18364a6c",
   "metadata": {},
   "outputs": [],
   "source": [
    "income_df.rename(columns={'Total_Food_Expenditure': 'total_food_expenditure', \n",
    "                          'Bread_and_Cereals_Expenditure': 'bread_and_cereals_expenditure',\n",
    "                          'Total_Rice_Expenditure': 'total_rice_expenditure',\n",
    "                          'Meat_Expenditure': 'meat_expenditure',\n",
    "                          'Total_Fish_and__marine_products_Expenditure': 'total_fish_and_marine_products_expenditure',\n",
    "                          'Fruit_Expenditure': 'fruit_expenditure',\n",
    "                          'Vegetables_Expenditure': 'vegetables_expenditure',\n",
    "                          'Restaurant_and_hotels_Expenditure': 'restaurant_and_hotels_expenditure',\n",
    "                          'Alcoholic_Beverages_Expenditure': 'alcoholic_beverages_expenditure',\n",
    "                          'Tobacco_Expenditure': 'tobacco_expenditure',\n",
    "                          'Clothing,_Footwear_and_Other_Wear_Expenditure': 'clothing_footwear_and_other_wear_expenditure',\n",
    "                          'Housing_and_water_Expenditure': 'housing_and_water_expenditure',\n",
    "                          'Medical_Care_Expenditure': 'medical_care_expenditure',\n",
    "                          'Transportation_Expenditure': 'transportation_expenditure',\n",
    "                          'Communication_Expenditure': 'communication_expenditure',\n",
    "                          'Education_Expenditure': 'education_expenditure',\n",
    "                          'Miscellaneous_Goods_and_Services_Expenditure': 'miscellaneous_goods_and_services_expenditure',\n",
    "                          'Special_Occasions_Expenditure': 'special_occasions_expenditure',\n",
    "                          'Main_Source_of_Income': 'main_source_of_income',\n",
    "                          'Household_Head_Highest_Grade_Completed': 'household_head_highest_grade_completed',\n",
    "                          'Household_Head_Occupation': 'household_head_occupation',\n",
    "                          'Tenure_Status': 'tenure_status',\n",
    "                          'Type_of_Building/House': 'type_of_building/house',\n",
    "                          'Type_of_Household': 'type_of_household',\n",
    "                          'Household_Head_Class_of_Worker': 'household_head_class_of_worker',\n",
    "                          'Total_Household_Income': 'total_household_income',\n",
    "                          'Total_Expenditures': 'total_expenditures',\n",
    "                          'Crop_Farming_and_Gardening_expenses': 'crop_farming_and_gardening_expenses'\n",
    "                         }, inplace=True)"
   ]
  },
  {
   "cell_type": "code",
   "execution_count": 34,
   "id": "cdfbeed8-7504-4a4a-b9b9-6606e6880ef7",
   "metadata": {},
   "outputs": [],
   "source": [
    "# This are filtered columns for farmers occupations only \n",
    "farmer_occupations = [\n",
    "    'Farmers', 'Agricultural laborers', 'Rice farmers', 'Crop Farming and Gardening',\n",
    "    'Livestock farmers', 'Agricultural technicians', 'Farmhands and laborers', 'Hog raising farmers'\n",
    "    ]"
   ]
  },
  {
   "cell_type": "code",
   "execution_count": 35,
   "id": "14ec9154-a9c1-4639-999f-16fc0d7b1b89",
   "metadata": {},
   "outputs": [],
   "source": [
    "farmers_df = income_df[income_df['household_head_occupation'].isin(farmer_occupations)]"
   ]
  },
  {
   "cell_type": "code",
   "execution_count": 23,
   "id": "6fc9f93c-3e0d-4446-a7bc-62a6bd943b3c",
   "metadata": {},
   "outputs": [],
   "source": [
    "# farmers_df.head(20)"
   ]
  },
  {
   "cell_type": "code",
   "execution_count": 36,
   "id": "c4548f6b-b80d-4228-af7e-077ef6841df0",
   "metadata": {},
   "outputs": [],
   "source": [
    "expenditure_columns = [\n",
    "    'total_food_expenditure', 'bread_and_cereals_expenditure', 'total_rice_expenditure',\n",
    "    'meat_expenditure', 'total_fish_and_marine_products_expenditure', 'fruit_expenditure',\n",
    "    'vegetables_expenditure', 'restaurant_and_hotels_expenditure', 'alcoholic_beverages_expenditure',\n",
    "    'tobacco_expenditure', 'clothing_footwear_and_other_wear_expenditure',\n",
    "    'housing_and_water_expenditure', 'medical_care_expenditure', 'transportation_expenditure',\n",
    "    'communication_expenditure', 'education_expenditure', 'miscellaneous_goods_and_services_expenditure',\n",
    "    'special_occasions_expenditure', 'crop_farming_and_gardening_expenses'\n",
    "]"
   ]
  },
  {
   "cell_type": "code",
   "execution_count": 37,
   "id": "fb698642-3482-4b21-980c-3e6ffe444112",
   "metadata": {},
   "outputs": [],
   "source": [
    "categorical_columns=[\n",
    "    'main_source_of_income', 'household_head_highest_grade_completed', 'household_head_occupation', 'tenure_status',\n",
    "    'type_of_building/house', 'type_of_household', 'household_head_class_of_worker'\n",
    "]\n",
    "\n",
    "numerical_columns = [\n",
    "    'total_household_income', 'total_expenditures', 'remaining_income'\n",
    "]"
   ]
  },
  {
   "cell_type": "code",
   "execution_count": 50,
   "id": "9541e4ad-f71c-490e-ae47-d089044dac10",
   "metadata": {},
   "outputs": [],
   "source": [
    "label_encoders = {}\n",
    "for col in categorical_columns:\n",
    "    le = LabelEncoder()\n",
    "    income_df[col] = le.fit_transform(income_df[col])\n",
    "    label_encoders[col] = le  # Store the label encoder if needed later"
   ]
  },
  {
   "cell_type": "code",
   "execution_count": 40,
   "id": "6b93b501-a010-4f44-87f6-2b2478d417da",
   "metadata": {},
   "outputs": [
    {
     "name": "stdout",
     "output_type": "stream",
     "text": [
      "   total_household_income  total_expenditures  remaining_income\n",
      "2                   82785              178294            -95509\n",
      "3                  107589              223671           -116082\n",
      "6                  198621              365287           -166666\n",
      "7                  134961              318027           -183066\n",
      "9                  625753              460995            164758\n"
     ]
    }
   ],
   "source": [
    "# Calculate Total Expenditures\n",
    "farmers_df['total_expenditures'] = farmers_df[expenditure_columns].sum(axis=1)\n",
    "\n",
    "# Calculate Remaining Income\n",
    "farmers_df['remaining_income'] = farmers_df['total_household_income'] - farmers_df['total_expenditures']\n",
    "\n",
    "# Display the updated DataFrame with remaining income\n",
    "print(farmers_df[['total_household_income', 'total_expenditures', 'remaining_income']].head())"
   ]
  },
  {
   "cell_type": "code",
   "execution_count": 52,
   "id": "146a65f0-b5ba-4b52-9d61-c6079486f62e",
   "metadata": {},
   "outputs": [],
   "source": [
    "def determine_credit_score_and_loan(remaining_income):\n",
    "    if remaining_income < 0:\n",
    "        return 0, \"No loan\"\n",
    "    elif remaining_income < 10000:\n",
    "        return 25, \"Up to 5,000\"\n",
    "    elif remaining_income < 20000:\n",
    "        return 50, \"Up to 15,000\"\n",
    "    elif remaining_income < 30000:\n",
    "        return 75, \"Up to 25,000\"\n",
    "    else:\n",
    "        return 100, \"Up to 50,000 or more\""
   ]
  },
  {
   "cell_type": "code",
   "execution_count": 41,
   "id": "0444cb9d-2bcd-4344-8606-6e2e307ee977",
   "metadata": {},
   "outputs": [],
   "source": [
    "for col in categorical_columns:\n",
    "    le = LabelEncoder()\n",
    "    farmers_df[col] = le.fit_transform(farmers_df[col])"
   ]
  },
  {
   "cell_type": "code",
   "execution_count": 42,
   "id": "e3b945d4-0cc1-4248-a018-5ff3ac94cd27",
   "metadata": {},
   "outputs": [],
   "source": [
    "scaler = StandardScaler()\n",
    "scaled_data = scaler.fit_transform(farmers_df[numerical_columns])"
   ]
  },
  {
   "cell_type": "code",
   "execution_count": 45,
   "id": "6e8045cb-c277-4794-943e-d81613e03817",
   "metadata": {},
   "outputs": [
    {
     "name": "stdout",
     "output_type": "stream",
     "text": [
      "Original number of features: 3\n",
      "Reduced number of features: 2\n"
     ]
    }
   ],
   "source": [
    "print(f\"Original number of features: {scaled_data.shape[1]}\")\n",
    "print(f\"Reduced number of features: {pca_result.shape[1]}\")"
   ]
  },
  {
   "cell_type": "code",
   "execution_count": 46,
   "id": "a1cbab0b-ba27-401d-aef4-ac57a917cff3",
   "metadata": {},
   "outputs": [
    {
     "data": {
      "image/png": "[encoded data removed]",
      "text/plain": [
       "<Figure size 800x600 with 1 Axes>"
      ]
     },
     "metadata": {},
     "output_type": "display_data"
    }
   ],
   "source": [
    "plt.figure(figsize=(8, 6))\n",
    "plt.plot(range(1, len(pca.explained_variance_ratio_) + 1), \n",
    "         pca.explained_variance_ratio_, marker='o')\n",
    "plt.title('PCA Explained Variance Ratio')\n",
    "plt.xlabel('Principal Components')\n",
    "plt.ylabel('Explained Variance Ratio')\n",
    "plt.xticks(range(1, len(pca.explained_variance_ratio_) + 1))\n",
    "plt.grid()\n",
    "plt.show()"
   ]
  },
  {
   "cell_type": "code",
   "execution_count": 48,
   "id": "249c93a7-4a1c-4f66-b7b9-9808f46c6798",
   "metadata": {},
   "outputs": [
    {
     "name": "stdout",
     "output_type": "stream",
     "text": [
      "Index(['total_household_income', 'Region', 'total_food_expenditure',\n",
      "       'main_source_of_income', 'Agricultural_Household_indicator',\n",
      "       'bread_and_cereals_expenditure', 'total_rice_expenditure',\n",
      "       'meat_expenditure', 'total_fish_and_marine_products_expenditure',\n",
      "       'fruit_expenditure', 'vegetables_expenditure',\n",
      "       'restaurant_and_hotels_expenditure', 'alcoholic_beverages_expenditure',\n",
      "       'tobacco_expenditure', 'clothing_footwear_and_other_wear_expenditure',\n",
      "       'housing_and_water_expenditure', 'Imputed_House_Rental_Value',\n",
      "       'medical_care_expenditure', 'transportation_expenditure',\n",
      "       'communication_expenditure', 'education_expenditure',\n",
      "       'miscellaneous_goods_and_services_expenditure',\n",
      "       'special_occasions_expenditure', 'crop_farming_and_gardening_expenses',\n",
      "       'Total_Income_from_Entrepreneurial_Acitivites', 'Household_Head_Sex',\n",
      "       'Household_Head_Age', 'Household_Head_Marital_Status',\n",
      "       'household_head_highest_grade_completed',\n",
      "       'Household_Head_Job_or_Business_Indicator', 'household_head_occupation',\n",
      "       'household_head_class_of_worker', 'type_of_household',\n",
      "       'Total_Number_of_Family_members',\n",
      "       'Members_with_age_less_than_5_year_old',\n",
      "       'Members_with_age_5_-_17_years_old',\n",
      "       'Total_number_of_family_members_employed', 'type_of_building/house',\n",
      "       'Type_of_Roof', 'Type_of_Walls', 'House_Floor_Area', 'House_Age',\n",
      "       'Number_of_bedrooms', 'tenure_status', 'Toilet_Facilities',\n",
      "       'Electricity', 'Main_Source_of_Water_Supply', 'Number_of_Television',\n",
      "       'Number_of_CD/VCD/DVD', 'Number_of_Component/Stereo_set',\n",
      "       'Number_of_Refrigerator/Freezer', 'Number_of_Washing_Machine',\n",
      "       'Number_of_Airconditioner', 'Number_of_Car,_Jeep,_Van',\n",
      "       'Number_of_Landline/wireless_telephones', 'Number_of_Cellular_phone',\n",
      "       'Number_of_Personal_Computer', 'Number_of_Stove_with_Oven/Gas_Range',\n",
      "       'Number_of_Motorized_Banca', 'Number_of_Motorcycle/Tricycle',\n",
      "       'total_expenditures', 'remaining_income'],\n",
      "      dtype='object')\n"
     ]
    }
   ],
   "source": [
    "print(farmers_df.columns)"
   ]
  }
 ],
 "metadata": {
  "kernelspec": {
   "display_name": "Python 3 (ipykernel)",
   "language": "python",
   "name": "python3"
  },
  "language_info": {
   "codemirror_mode": {
    "name": "ipython",
    "version": 3
   },
   "file_extension": ".py",
   "mimetype": "text/x-python",
   "name": "python",
   "nbconvert_exporter": "python",
   "pygments_lexer": "ipython3",
   "version": "3.10.12"
  }
 },
 "nbformat": 4,
 "nbformat_minor": 5
}
