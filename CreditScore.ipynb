{
 "cells": [
  {
   "cell_type": "code",
   "execution_count": null,
   "id": "60d35cf9-1048-4ed1-a49d-58809361c53a",
   "metadata": {},
   "outputs": [],
   "source": [
    "import pandas as pd\n",
    "import numpy as np\n",
    "import matplotlib.pyplot as plt\n",
    "from sklearn.model_selection import train_test_split\n",
    "from sklearn.ensemble import RandomForestClassifier\n",
    "from sklearn.metrics import accuracy_score, confusion_matrix, classification_report\n",
    "from sklearn.impute import SimpleImputer\n",
    "from sklearn.preprocessing import StandardScaler\n",
    "from imblearn.over_sampling import SMOTE\n",
    "from collections import Counter"
   ]
  },
  {
   "cell_type": "code",
   "execution_count": null,
   "id": "5e2ad46b-4829-4d97-b395-8aa7d9d3dd8b",
   "metadata": {},
   "outputs": [],
   "source": [
    "path_to_application = '/home/student/Machine Learning/application_record.csv'\n",
    "applicant_data = pd.read_csv(path_to_application)\n",
    "\n",
    "display(applicant_data.head())"
   ]
  },
  {
   "cell_type": "markdown",
   "id": "c8c70e84-e873-4683-93a8-2769f5832b8c",
   "metadata": {},
   "source": [
    "# Dataset Documentation\n",
    "\n",
    "### CODE_GENDER\n",
    "\n",
    "Description: The gender of the applicant, represented as 'M' for male and 'F' for female.<br>\n",
    "Importance: Understanding gender distribution can help analyze potential biases or trends in loan approvals.\n",
    "\n",
    "### FLAG_OWN_CAR\n",
    "Description: Indicates whether the applicant owns a car (Y for yes, N for no).<br>\n",
    "Importance: Car ownership may be correlated with financial stability, impacting the likelihood of loan approval.\n",
    "\n",
    "### FLAG_OWN_REALTY\n",
    "Description: Indicates whether the applicant owns real estate (Y for yes, N for no).<br>\n",
    "Importance: Homeownership can be a sign of financial security and can influence creditworthiness assessments.\n",
    "\n",
    "### CNT_CHILDREN\n",
    "Description: The number of children the applicant has.<br>\n",
    "Importance: Family size may affect financial obligations and the applicant's ability to repay loans.\n",
    "\n",
    "### AMT_INCOME_TOTAL\n",
    "Description: The total annual income of the applicant.<br>\n",
    "Importance: This is a critical factor in determining loan eligibility and the amount that can be approved.\n",
    "\n",
    "### NAME_INCOME_TYPE\n",
    "Description: The type of income source, e.g., Working, Commercial associate, Pensioner.<br>\n",
    "Importance: Different income types can indicate varying levels of financial stability and risk.\n",
    "\n",
    "### NAME_EDUCATION_TYPE\n",
    "Description: The highest level of education attained by the applicant (e.g., Higher education, Secondary).<br>\n",
    "Importance: Education level can correlate with earning potential and job stability, affecting loan approval chances.\n",
    "\n",
    "### NAME_FAMILY_STATUS\n",
    "Description: The applicant’s family situation (e.g., Single, Married, Civil marriage).<br>\n",
    "Importance: Family status can influence financial responsibilities and stability.\n",
    "\n",
    "### NAME_HOUSING_TYPE\n",
    "Description: The type of housing where the applicant lives (e.g., House/apartment, Rented apartment).<br>\n",
    "Importance: Housing stability may impact the applicant’s ability to repay a loan.\n",
    "\n",
    "### DAYS_BIRTH\n",
    "Description: The applicant's age in days (negative values indicate the age in the past).<br>\n",
    "Importance: Age can be a factor in assessing risk, with certain age groups potentially being more reliable borrowers.\n",
    "\n",
    "### DAYS_EMPLOYED\n",
    "Description: The number of days the applicant has been employed (negative values indicate time since employment started).<br>\n",
    "Importance: Employment duration is an indicator of job stability and income reliability, crucial for assessing loan risk.\n",
    "\n",
    "### FLAG_MOBIL\n",
    "Description: Indicates whether the applicant has a mobile phone (1 for yes, 0 for no).<br>\n",
    "Importance: Having a mobile phone can facilitate communication and may correlate with financial stability.\n",
    "\n",
    "### FLAG_WORK_PHONE\n",
    "Description: Indicates whether the applicant has a work phone (1 for yes, 0 for no).<br>\n",
    "Importance: Similar to mobile phone ownership, a work phone can suggest job stability.\n",
    "\n",
    "### FLAG_PHONE\n",
    "Description: Indicates whether the applicant has a home phone (1 for yes, 0 for no).<br>\n",
    "Importance: Access to a phone may indicate stability and the ability to communicate effectively.\n",
    "\n",
    "### FLAG_EMAIL\n",
    "Description: Indicates whether the applicant has an email address (1 for yes, 0 for no).<br>\n",
    "Importance: Having an email address can reflect modern communication norms and accessibility.\n",
    "\n",
    "### OCCUPATION_TYPE\n",
    "Description: The applicant’s occupation (e.g., Security staff, Sales staff).<br>\n",
    "Importance: Occupation type can provide insight into income stability and potential risks associated with loan approval.\n",
    "\n",
    "### CNT_FAM_MEMBERS\n",
    "Description: The number of family members living with the applicant.<br>\n",
    "Importance: The size of the household may affect financial obligations and stability, influencing loan approval outcomes."
   ]
  },
  {
   "cell_type": "code",
   "execution_count": null,
   "id": "85b6ee65-90ac-45e5-945c-a6b55bc1cba5",
   "metadata": {},
   "outputs": [],
   "source": [
    "path_to_application = '/home/student/Machine Learning/credit_record.csv'\n",
    "credit_data = pd.read_csv(path_to_application)\n",
    "\n",
    "display(credit_data.head())"
   ]
  },
  {
   "cell_type": "markdown",
   "id": "36c99c4e-a91b-4593-a2e1-de02a99e78c1",
   "metadata": {},
   "source": [
    "### ID<br>\n",
    "Description: A unique identifier for each loan account.<br>\n",
    "Importance: This column allows for the tracking of individual loan records, facilitating analysis over time for each account.\n",
    "\n",
    "### MONTHS_BALANCE\n",
    "Description: The time frame in months relative to the current date. A value of 0 indicates the most recent month, while negative values indicate past months (e.g., -1 for one month ago, -2 for two months ago).<br>\n",
    "Importance: This column is crucial for understanding the historical payment status of each loan account over time, enabling analysis of trends in repayment behavior.\n",
    "\n",
    "### STATUS\n",
    "Description: Indicates the payment status of the loan for the corresponding month balance. The possible values are:<br>\n",
    "0: 1-29 days past due<br>\n",
    "1: 30-59 days past due<br>\n",
    "2: 60-89 days overdue<br>\n",
    "3: 90-119 days overdue<br>\n",
    "4: 120-149 days overdue<br>\n",
    "5: Overdue or bad debts, write-offs for more than 150 days<br>\n",
    "C: Paid off that month<br>\n",
    "X: No loan for the month<br>\n",
    "Importance: The status is critical for assessing the repayment behavior and creditworthiness of borrowers. Analyzing this data helps identify patterns in payment delays and defaults, which are vital for risk assessment and loan management."
   ]
  },
  {
   "cell_type": "markdown",
   "id": "4bed0a38-770c-4632-a01c-4296993fb97d",
   "metadata": {},
   "source": [
    "### Bargraph represting the 'STATUS' column"
   ]
  },
  {
   "cell_type": "code",
   "execution_count": null,
   "id": "c1018604-cc79-40e9-bb26-9f9ce6a9a192",
   "metadata": {},
   "outputs": [],
   "source": [
    "# Count the occurrences of each status\n",
    "status_counts = credit_data['STATUS'].value_counts()\n",
    "\n",
    "# Define colors for each status\n",
    "colors = ['skyblue', 'salmon', 'lightgreen', 'orange', 'purple', 'gold', 'lightcoral', 'lightpink']\n",
    "\n",
    "# Create a bar graph\n",
    "plt.figure(figsize=(10, 6))\n",
    "status_counts.plot(kind='bar', color=colors[:len(status_counts)])\n",
    "plt.title('Distribution of Loan Status')\n",
    "plt.xlabel('Status')\n",
    "plt.ylabel('Count')\n",
    "plt.xticks(rotation=0)\n",
    "plt.grid(axis='y')\n",
    "plt.show()"
   ]
  },
  {
   "cell_type": "code",
   "execution_count": null,
   "id": "7784d8f0-3590-48d7-baae-0355492c7597",
   "metadata": {},
   "outputs": [],
   "source": [
    "# Convert age from days to years and make it positive\n",
    "applicant_data['DAYS_BIRTH'] = (-applicant_data['DAYS_BIRTH']) / 365\n",
    "\n",
    "\n",
    "# Convert age from days to years and make it positive\n",
    "applicant_data['DAYS_EMPLOYED'] = (-applicant_data['DAYS_EMPLOYED']) / 365\n",
    "\n",
    "# Display the updated DataFrame\n",
    "applicant_data.head()"
   ]
  },
  {
   "cell_type": "markdown",
   "id": "2ed8ba36-5011-46d4-b865-2f488cd1a9be",
   "metadata": {},
   "source": [
    "### Merging the two datasets based on the IDs"
   ]
  },
  {
   "cell_type": "code",
   "execution_count": null,
   "id": "46f5c0be-6d8b-44c5-8088-2e40eaf4911e",
   "metadata": {},
   "outputs": [],
   "source": [
    "merged_df = pd.merge(applicant_data, credit_data, on='ID', how='inner')\n",
    "\n",
    "merged_df.head()"
   ]
  },
  {
   "cell_type": "code",
   "execution_count": null,
   "id": "82ed38f9-0002-49a1-ac4a-30ba523c3dca",
   "metadata": {},
   "outputs": [],
   "source": [
    "# Filter out rows where STATUS is 'X'\n",
    "merged_df_filtered = merged_df[merged_df['STATUS'] != 'X'].copy()\n",
    "\n",
    "# Create loan labels based on STATUS\n",
    "merged_df_filtered.loc[:, 'label'] = merged_df_filtered['STATUS'].apply(\n",
    "    lambda status: 0 if status in ['0', '1', '2', '3', '4', '5'] \n",
    "                   else 1 if status == 'C' \n",
    "                   else 2\n",
    ")\n",
    "\n",
    "# Keep all columns from both DataFrames\n",
    "result_df = merged_df_filtered\n",
    "\n",
    "result_df.head()"
   ]
  },
  {
   "cell_type": "code",
   "execution_count": null,
   "id": "f99bdd4b-13d2-454e-9205-5564ad7a224e",
   "metadata": {},
   "outputs": [],
   "source": [
    "## Checking for Null Values"
   ]
  },
  {
   "cell_type": "code",
   "execution_count": null,
   "id": "5dac7bfd-c085-4193-b29f-e4f3c7c5141c",
   "metadata": {},
   "outputs": [],
   "source": [
    "pd.set_option('display.max_columns', None)\n",
    "pd.set_option('display.max_rows', None)\n",
    "\n",
    "missing_values = result_df.isnull().sum()\n",
    "# print(missing_values)\n",
    "\n",
    "missing_columns = missing_values[missing_values > 0]\n",
    "print(missing_columns)"
   ]
  },
  {
   "cell_type": "code",
   "execution_count": null,
   "id": "c6174357-7412-4b7c-915d-454884ec9c35",
   "metadata": {},
   "outputs": [],
   "source": [
    "# Calculate the mode of the OCCUPATION_TYPE column\n",
    "occupation_mode = result_df['OCCUPATION_TYPE'].mode()[0]  # Get the first mode\n",
    "\n",
    "# Fill missing values with the mode and assign back to the column\n",
    "result_df['OCCUPATION_TYPE'] = result_df['OCCUPATION_TYPE'].fillna(occupation_mode)\n",
    "\n",
    "# Display the updated DataFrame\n",
    "print(\"\\nUpdated DataFrame:\")\n",
    "# print(result_df)"
   ]
  },
  {
   "cell_type": "code",
   "execution_count": null,
   "id": "5e1b9f6c-7c31-4514-b228-fa7c2fd048bf",
   "metadata": {},
   "outputs": [],
   "source": [
    "pd.set_option('display.max_columns', None)\n",
    "pd.set_option('display.max_rows', None)\n",
    "\n",
    "missing_values = result_df.isnull().sum()\n",
    "# print(missing_values)\n",
    "\n",
    "missing_columns = missing_values[missing_values > 0]\n",
    "print(missing_columns)"
   ]
  },
  {
   "cell_type": "code",
   "execution_count": null,
   "id": "19010742-0182-41ed-bc51-c0c48f972347",
   "metadata": {},
   "outputs": [],
   "source": [
    "label_counts = result_df['label'].value_counts()\n",
    "\n",
    "label_names = ['Rejected Loan', 'Approved Loan', 'No Loan']\n",
    "\n",
    "# Create a bar graph\n",
    "plt.figure(figsize=(10, 6))\n",
    "label_counts.plot(kind='bar', color='skyblue')\n",
    "plt.title('Distribution of Loan Labels')\n",
    "plt.xlabel('Loan Status')\n",
    "plt.ylabel('Count')\n",
    "plt.xticks(ticks=range(len(label_names)), labels=label_names, rotation=0)\n",
    "plt.grid(axis='y')\n",
    "plt.show()"
   ]
  },
  {
   "cell_type": "code",
   "execution_count": null,
   "id": "2bf9aa39-3aaf-4b78-b672-4f5d03f1b38a",
   "metadata": {},
   "outputs": [],
   "source": [
    "categorical_ordinal_columns = ['education_type']\n",
    "categorical_binary_columns = ['owns_car', 'owns_property']\n",
    "categorical_label_encode_columns = ['family_status', 'housing_type', 'occupation_type', 'status']\n",
    "numerical_columns = ['age_in_days', 'days_employed', 'days_employed', 'num_children']"
   ]
  },
  {
   "cell_type": "code",
   "execution_count": null,
   "id": "82d221bd-61c7-495a-986f-5f45fb285001",
   "metadata": {},
   "outputs": [],
   "source": []
  },
  {
   "cell_type": "markdown",
   "id": "e2be3278-37c2-47b8-be03-0b0c715a258a",
   "metadata": {},
   "source": [
    "# Renaming columns"
   ]
  },
  {
   "cell_type": "code",
   "execution_count": null,
   "id": "b0836811-dec7-44f1-a922-6e7f6f3feada",
   "metadata": {},
   "outputs": [],
   "source": [
    "new_column_names_applicant = {\n",
    "    'ID': 'id',\n",
    "    'CODE_GENDER': 'gender',\n",
    "    'FLAG_OWN_CAR': 'owns_car',\n",
    "    'FLAG_OWN_REALTY': 'owns_property',\n",
    "    'CNT_CHILDREN': 'num_children',\n",
    "    'AMT_INCOME_TOTAL': 'total_income',\n",
    "    'NAME_INCOME_TYPE': 'income_type',\n",
    "    'NAME_EDUCATION_TYPE': 'education_type',\n",
    "    'NAME_FAMILY_STATUS': 'family_status',\n",
    "    'NAME_HOUSING_TYPE': 'housing_type',\n",
    "    'DAYS_BIRTH': 'age_in_days',\n",
    "    'DAYS_EMPLOYED': 'days_employed',\n",
    "    'FLAG_MOBIL': 'owns_mobile_phone',\n",
    "    'FLAG_WORK_PHONE': 'owns_work_phone',\n",
    "    'FLAG_PHONE': 'owns_mobile_phone',\n",
    "    'FLAG_EMAIL': 'owns_mobile_phone',\n",
    "    'OCCUPATION_TYPE': 'occupation_type',\n",
    "    'CNT_FAM_MEMBERS': 'number_of_family_members',\n",
    "    'MONTHS_BALANCE': 'months_balance',\n",
    "    'STATUS': 'status'\n",
    "}\n",
    "\n",
    "\n",
    "### Apply renaming to the dataframe\n",
    "result_df.rename(columns=new_column_names_applicant, inplace=True)"
   ]
  },
  {
   "cell_type": "code",
   "execution_count": null,
   "id": "ef2ed4d1-3514-4cde-97c4-60010fe9a1f6",
   "metadata": {},
   "outputs": [],
   "source": [
    "result_df.head()"
   ]
  },
  {
   "cell_type": "code",
   "execution_count": null,
   "id": "23128014-179b-4388-b8d2-0a340e48050d",
   "metadata": {},
   "outputs": [],
   "source": [
    "categorical_ordinal_columns = ['education_type']\n",
    "categorical_binary_columns = ['owns_car', 'owns_property']\n",
    "categorical_label_encode_columns = ['family_status', 'housing_type', 'occupation_type', 'status']\n",
    "numerical_columns = ['age_in_days', 'days_employed', 'days_employed', 'num_children']"
   ]
  },
  {
   "cell_type": "code",
   "execution_count": null,
   "id": "16ba7d50-267a-43e5-8f95-278254cb6009",
   "metadata": {},
   "outputs": [],
   "source": [
    "from sklearn.preprocessing import OrdinalEncoder, LabelEncoder\n",
    "\n",
    "# 1. Apply Ordinal Encoding\n",
    "ordinal_encoder = OrdinalEncoder()\n",
    "result_df[categorical_ordinal_columns] = ordinal_encoder.fit_transform(result_df[categorical_ordinal_columns])\n",
    "\n",
    "result_df.head()"
   ]
  },
  {
   "cell_type": "code",
   "execution_count": null,
   "id": "6cbe9c31-b886-4720-81c5-0b3f38d1da72",
   "metadata": {},
   "outputs": [],
   "source": [
    "# Binary encoding for only the 'gender' column\n",
    "result_df['gender'] = result_df['gender'].map({'M': 1, 'F': 0})\n",
    "\n",
    "result_df.head()"
   ]
  },
  {
   "cell_type": "code",
   "execution_count": null,
   "id": "79910841-91ba-402f-a39c-0e9e186e4103",
   "metadata": {},
   "outputs": [],
   "source": [
    "# 3. Apply Label Encoding for remaining categorical columns\n",
    "label_encoder = LabelEncoder()\n",
    "for col in categorical_label_encode_columns:\n",
    "    result_df[col] = label_encoder.fit_transform(result_df[col])\n",
    "\n",
    "result_df.head()"
   ]
  },
  {
   "cell_type": "code",
   "execution_count": null,
   "id": "5a5a27c8-ffcd-44ae-b092-3e4b47099a25",
   "metadata": {},
   "outputs": [],
   "source": [
    "# 2. Apply Binary Encoding manually for binary columns\n",
    "for col in categorical_binary_columns:\n",
    "    result_df[col] = result_df[col].map({'Y': 1, 'N': 0})"
   ]
  },
  {
   "cell_type": "code",
   "execution_count": null,
   "id": "1b4fca8c-154c-47e6-a884-6eb04a7fdb36",
   "metadata": {},
   "outputs": [],
   "source": [
    "result_df.head()"
   ]
  },
  {
   "cell_type": "markdown",
   "id": "bffeca0a-bfeb-4397-a8c8-b6ade9e5af79",
   "metadata": {},
   "source": [
    "# Selecting relevant columns"
   ]
  },
  {
   "cell_type": "code",
   "execution_count": null,
   "id": "b26f8678-9428-41c3-9e11-e2a88efa7773",
   "metadata": {},
   "outputs": [],
   "source": [
    "# Drop the 'income_type' column\n",
    "result_df = result_df.drop(columns=['income_type'])\n",
    "\n",
    "# Print the updated DataFrame\n",
    "# print(result_df.head())"
   ]
  },
  {
   "cell_type": "code",
   "execution_count": null,
   "id": "8bb6d2ea-571f-4874-93f8-084b78cf0710",
   "metadata": {},
   "outputs": [],
   "source": [
    "pd.set_option('display.max_columns', None)\n",
    "pd.set_option('display.max_rows', None)\n",
    "\n",
    "missing_values = result_df.isnull().sum()\n",
    "# print(missing_values)\n",
    "fmissing_columns = missing_values[missing_values > 0]\n",
    "print(missing_columns)"
   ]
  },
  {
   "cell_type": "code",
   "execution_count": null,
   "id": "22c03bf0-cb41-4841-b7ac-9a0d82c76f39",
   "metadata": {},
   "outputs": [],
   "source": [
    "categorical_ordinal_columns = ['education_type']\n",
    "categorical_binary_columns = ['owns_car', 'owns_property']\n",
    "categorical_label_encode_columns = ['family_status', 'housing_type', 'occupation_type', 'status']\n",
    "numerical_columns = ['age_in_days', 'days_employed', 'days_employed', 'num_children']"
   ]
  },
  {
   "cell_type": "code",
   "execution_count": null,
   "id": "1fc74092-5b2a-4f7f-8709-ed345a557959",
   "metadata": {},
   "outputs": [],
   "source": []
  },
  {
   "cell_type": "code",
   "execution_count": null,
   "id": "21f80b6a-fb09-41de-905c-74b6e278e4a1",
   "metadata": {},
   "outputs": [],
   "source": [
    "# Step 1: Import necessary libraries\n",
    "from sklearn.linear_model import LogisticRegression\n",
    "from sklearn.model_selection import train_test_split\n",
    "from sklearn.metrics import accuracy_score, classification_report, confusion_matrix\n",
    "\n",
    "# Step 2: Prepare your features and target variable\n",
    "# Assuming 'result_df' is the final preprocessed DataFrame\n",
    "# Replace 'features' with your feature columns and 'label' with the target column\n",
    "X = result_df[['gender', 'owns_car', 'owns_property', 'num_children', \n",
    "            'total_income', 'education_type', 'family_status', \n",
    "            'housing_type', 'age_in_days', 'days_employed', \n",
    "            'occupation_type', 'number_of_family_members']]  # Replace with your feature column names\n",
    "\n",
    "y = result_df['label']  # Target variable (loan approval or credit score class)\n",
    "\n",
    "# Step 3: Split the dataset into training and testing sets\n",
    "X_train, X_test, y_train, y_test = train_test_split(X, y, test_size=0.2, random_state=42)\n",
    "\n",
    "# Step 4: Initialize and train the logistic regression model\n",
    "model = LogisticRegression()\n",
    "model.fit(X_train, y_train)\n",
    "\n",
    "# Step 5: Make predictions on the test set\n",
    "y_pred = model.predict(X_test)\n",
    "\n",
    "# Step 6: Evaluate the model\n",
    "accuracy = accuracy_score(y_test, y_pred)\n",
    "print(\"Accuracy:\", accuracy)\n",
    "print(\"\\nClassification Report:\\n\", classification_report(y_test, y_pred))\n",
    "print(\"\\nConfusion Matrix:\\n\", confusion_matrix(y_test, y_pred))"
   ]
  },
  {
   "cell_type": "code",
   "execution_count": null,
   "id": "9de5e030-2dbc-4688-929e-1d6ac2b711de",
   "metadata": {},
   "outputs": [],
   "source": [
    "# Step 1: Import necessary libraries\n",
    "from sklearn.ensemble import RandomForestClassifier\n",
    "from sklearn.model_selection import train_test_split\n",
    "from sklearn.metrics import accuracy_score, classification_report, confusion_matrix\n",
    "\n",
    "# Step 2: Prepare your features and target variable\n",
    "# Assuming 'result_df' is the final preprocessed DataFrame\n",
    "# Replace 'features' with your feature columns and 'label' with the target column\n",
    "X = result_df[['gender', 'owns_car', 'owns_property', 'num_children', \n",
    "               'total_income', 'education_type', 'family_status', \n",
    "               'housing_type', 'age_in_days', 'days_employed', \n",
    "               'occupation_type', 'number_of_family_members']]  # Replace with your feature column names\n",
    "\n",
    "y = result_df['label']  # Target variable (loan approval or credit score class)\n",
    "\n",
    "# Step 3: Split the dataset into training and testing sets\n",
    "X_train, X_test, y_train, y_test = train_test_split(X, y, test_size=0.2, random_state=42)\n",
    "\n",
    "# Step 4: Initialize and train the random forest model\n",
    "model = RandomForestClassifier(n_estimators=100, random_state=42)\n",
    "model.fit(X_train, y_train)\n",
    "\n",
    "# Step 5: Make predictions on the test set\n",
    "y_pred = model.predict(X_test)\n",
    "\n",
    "# Step 6: Evaluate the model\n",
    "accuracy = accuracy_score(y_test, y_pred)\n",
    "print(\"Accuracy:\", accuracy)\n",
    "print(\"\\nClassification Report:\\n\", classification_report(y_test, y_pred))\n",
    "print(\"\\nConfusion Matrix:\\n\", confusion_matrix(y_test, y_pred))"
   ]
  },
  {
   "cell_type": "code",
   "execution_count": null,
   "id": "d9783841-66ca-492d-92f4-46d651ff58f6",
   "metadata": {},
   "outputs": [],
   "source": []
  },
  {
   "cell_type": "code",
   "execution_count": null,
   "id": "accbf81c-612e-43f8-babd-8bf92007cb12",
   "metadata": {},
   "outputs": [],
   "source": [
    "# Step 1: Import necessary libraries\n",
    "from sklearn.ensemble import RandomForestClassifier\n",
    "from sklearn.model_selection import train_test_split\n",
    "from sklearn.metrics import accuracy_score, classification_report, confusion_matrix\n",
    "\n",
    "# Step 2: Prepare your features and target variable\n",
    "# Assuming 'result_df' is the final preprocessed DataFrame\n",
    "# Replace 'features' with your feature column names and 'label' with the target column\n",
    "X = result_df.drop(columns=['label'])  # Corrected to use drop with 'columns' parameter\n",
    "y = result_df['label']  # Target variable (loan approval or credit score class)\n",
    "\n",
    "# Step 3: Split the dataset into training and testing sets\n",
    "X_train, X_test, y_train, y_test = train_test_split(X, y, test_size=0.2, random_state=42)\n",
    "\n",
    "# Step 4: Initialize and train the Random Forest model\n",
    "model = RandomForestClassifier(n_estimators=100, random_state=42)\n",
    "model.fit(X_train, y_train)\n",
    "\n",
    "# Step 5: Make predictions on the test set\n",
    "y_pred = model.predict(X_test)\n",
    "\n",
    "# Step 6: Evaluate the model\n",
    "accuracy = accuracy_score(y_test, y_pred)\n",
    "print(\"Accuracy:\", accuracy)\n",
    "print(\"\\nClassification Report:\\n\", classification_report(y_test, y_pred))\n",
    "print(\"\\nConfusion Matrix:\\n\", confusion_matrix(y_test, y_pred))"
   ]
  }
 ],
 "metadata": {
  "kernelspec": {
   "display_name": "Python 3 (ipykernel)",
   "language": "python",
   "name": "python3"
  },
  "language_info": {
   "codemirror_mode": {
    "name": "ipython",
    "version": 3
   },
   "file_extension": ".py",
   "mimetype": "text/x-python",
   "name": "python",
   "nbconvert_exporter": "python",
   "pygments_lexer": "ipython3",
   "version": "3.10.12"
  }
 },
 "nbformat": 4,
 "nbformat_minor": 5
}
