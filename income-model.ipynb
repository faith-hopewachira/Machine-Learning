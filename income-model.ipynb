{
 "cells": [
  {
   "cell_type": "code",
   "execution_count": 26,
   "id": "35b921bf-30ae-47e3-84da-e8a80e693307",
   "metadata": {},
   "outputs": [],
   "source": [
    "import pandas as pd\n",
    "from sklearn.preprocessing import StandardScaler\n",
    "from sklearn.cluster import KMeans\n",
    "from sklearn.preprocessing import LabelEncoder\n",
    "from sklearn.preprocessing import OneHotEncoder\n",
    "import matplotlib.pyplot as plt\n",
    "import numpy as np\n",
    "import seaborn as sns"
   ]
  },
  {
   "cell_type": "code",
   "execution_count": 27,
   "id": "681853ab-1f64-46b0-bb5e-a8f1d9462b5a",
   "metadata": {},
   "outputs": [],
   "source": [
    "income_df = pd.read_csv('/home/student/IngajiDemo/dataset.csv')"
   ]
  },
  {
   "cell_type": "code",
   "execution_count": 21,
   "id": "30445d95-4a3e-4e3a-bc0f-5d1266ee8680",
   "metadata": {},
   "outputs": [],
   "source": [
    "# I have created a'Creditworthiness' column based on multiple conditions\n",
    "income_df['Creditworthiness'] = np.where(\n",
    "    (income_df['Total_Household_Income'] > 100000) &\n",
    "    (income_df['Total_Food_Expenditure'] < 50000) &\n",
    "    (income_df['Total_Number_of_Family_members'] <= 4),\n",
    "    1,\n",
    "    0\n",
    ")"
   ]
  },
  {
   "cell_type": "code",
   "execution_count": 15,
   "id": "938581b4-946d-4c28-8934-a6c2a81a2de3",
   "metadata": {},
   "outputs": [],
   "source": [
    "# Define features and target\n",
    "features = ['Total_Household_Income', 'Total_Food_Expenditure', 'Main_Source_of_Income',\n",
    "             'Housing_and_water_Expenditure', 'Imputed_House_Rental_Value', 'Medical_Care_Expenditure',\n",
    "             'Transportation_Expenditure', 'Communication_Expenditure', 'Education_Expenditure',\n",
    "             'Miscellaneous_Goods_and_Services_Expenditure', 'Crop_Farming_and_Gardening_expenses',\n",
    "             'Total_Income_from_Entrepreneurial_Acitivites', 'Household_Head_Sex', 'Total_Number_of_Family_members',\n",
    "             'Members_with_age_less_than_5_year_old', 'Members_with_age_5_-_17_years_old', 'Tenure_Status']"
   ]
  },
  {
   "cell_type": "code",
   "execution_count": null,
   "id": "1ebee168-067b-4d6e-bef2-2306b2418151",
   "metadata": {},
   "outputs": [],
   "source": [
    "# Extract features and target variable\n",
    "X = income_df[features]\n",
    "y = income_df['Creditworthiness']"
   ]
  },
  {
   "cell_type": "code",
   "execution_count": 9,
   "id": "fd187289-261c-48b4-8c1f-2ce3b90fd856",
   "metadata": {},
   "outputs": [],
   "source": [
    "income_df = income_df.drop(columns=columns_to_delete )"
   ]
  },
  {
   "cell_type": "code",
   "execution_count": null,
   "id": "d62af9a3-7bf2-4a10-ba68-00a207a9c3f7",
   "metadata": {},
   "outputs": [],
   "source": [
    "print(income_df.columns)"
   ]
  },
  {
   "cell_type": "markdown",
   "id": "d7ccddbb-29e6-4661-813a-0357ba8a1e40",
   "metadata": {},
   "source": [
    "## Column Description\n",
    "1. Total_Household_Income- This column represents the total income earned by the household. It indicates a greater capacity for loan repayments.\n",
    "2. Total_Food_Expenditure- This column shows how much the household spends on food.\n",
    "3. Main_Source_of_Income- This indicates the primary source of income for the household. Regular and stable income sources (e.g., employment) typically have a positive impact on the credit score. \n",
    "4. Housing_and_water_Expenditure. This represents the spending on housing and water. High expenditure on housing might indicate that the household has higher living costs, which could impact their ability to repay loans.\n",
    "5. This is an estimated value of the rent that would be paid if the household were renting instead of owning the home.\n",
    "6. Medical_Care_Expenditure- This column indicates the amount spent on medical care. Medical expenses can be significant and variable, affecting the household’s disposable income.\n",
    "7. Transportation_Expenditure- This shows how much is spent on transportation. High transportation costs may indicate the inability to repay loans.\n",
    "8. Communication_Expenditure- This includes spending on communication services such as phone and internet. Excessive spending on non-essential services might indicate poor budgeting skills, which could negatively affect the credit score.\n",
    "9. Education_Expenditure- High education expenses should be balanced with overall financial stability; excessive spending without adequate income may strain finances and affect creditworthiness.\n",
    "10. Miscellaneous_Goods_and_Services_Expenditure- This covers other expenses not categorized elsewhere, like entertainment or personal care. It gives a broader view of discretionary spending and overall financial management.\n",
    "11. Crop_Farming_and_Gardening_expenses- For households involved in agriculture, this expense reflects the costs associated with farming or gardening. Efficient management of these expenses, coupled with a stable income from farming, can support a good credit score. \n",
    "12. Total_Income_from_Entrepreneurial_Activities- Income from entrepreneurial activities can positively impact the credit score if it is stable and sufficient.\n",
    "13. Total_Number_of_Family_members- The presence of young children typically increases household expenses. This can reduce the amount available for debt repayment, potentially impacting the credit score.\n",
    "14. Members_with_age_less_than_5_Years_Old- High costs associated with education and child-rearing can strain finances.\n",
    "15. Members_with_age_5_-_17_Years_Old - School-aged children add to the household’s financial responsibilities. While this is a necessary expense, high costs associated with education and child-rearing can strain finances.\n",
    "16. Tenure_Status - Home ownership often positively affects the credit score because it typically indicates financial stability and a long-term commitment. "
   ]
  },
  {
   "cell_type": "code",
   "execution_count": 5,
   "id": "a2bea340-767e-438a-8931-003d6877a355",
   "metadata": {
    "scrolled": true
   },
   "outputs": [
    {
     "name": "stdout",
     "output_type": "stream",
     "text": [
      "Encoded Expense data : \n",
      "       Total_Household_Income  Total_Food_Expenditure  \\\n",
      "0                      480332                  117848   \n",
      "1                      198235                   67766   \n",
      "2                       82785                   61609   \n",
      "3                      107589                   78189   \n",
      "4                      189322                   94625   \n",
      "...                       ...                     ...   \n",
      "41539                  119773                   44875   \n",
      "41540                  137320                   31157   \n",
      "41541                  133171                   45882   \n",
      "41542                  129500                   81416   \n",
      "41543                  128598                   78195   \n",
      "\n",
      "       Housing_and_water_Expenditure  Imputed_House_Rental_Value  \\\n",
      "0                              63636                       30000   \n",
      "1                              41370                       27000   \n",
      "2                              14340                        7200   \n",
      "3                              16638                        6600   \n",
      "4                              31122                       16800   \n",
      "...                              ...                         ...   \n",
      "41539                          18372                       12000   \n",
      "41540                          17640                       10800   \n",
      "41541                           9240                        4800   \n",
      "41542                          12438                        7200   \n",
      "41543                          11316                        6000   \n",
      "\n",
      "       Medical_Care_Expenditure  Transportation_Expenditure  \\\n",
      "0                          3457                        4776   \n",
      "1                          3520                       12900   \n",
      "2                            70                         324   \n",
      "3                            60                        6840   \n",
      "4                           140                        6996   \n",
      "...                         ...                         ...   \n",
      "41539                       294                        2124   \n",
      "41540                       890                        2568   \n",
      "41541                       540                        2040   \n",
      "41542                       314                        2412   \n",
      "41543                       330                        1560   \n",
      "\n",
      "       Communication_Expenditure  Education_Expenditure  \\\n",
      "0                           2880                  36200   \n",
      "1                           5700                  29300   \n",
      "2                            420                    425   \n",
      "3                            660                    300   \n",
      "4                           2100                      0   \n",
      "...                          ...                    ...   \n",
      "41539                        600                     50   \n",
      "41540                       1560                   1550   \n",
      "41541                       1080                      0   \n",
      "41542                       1020                   5295   \n",
      "41543                        960                     80   \n",
      "\n",
      "       Miscellaneous_Goods_and_Services_Expenditure  \\\n",
      "0                                             34056   \n",
      "1                                              9150   \n",
      "2                                              6450   \n",
      "3                                              3762   \n",
      "4                                              8472   \n",
      "...                                             ...   \n",
      "41539                                          3978   \n",
      "41540                                          6090   \n",
      "41541                                          3570   \n",
      "41542                                          5760   \n",
      "41543                                          6060   \n",
      "\n",
      "       Crop_Farming_and_Gardening_expenses  ...  \\\n",
      "0                                    19370  ...   \n",
      "1                                        0  ...   \n",
      "2                                        0  ...   \n",
      "3                                    15580  ...   \n",
      "4                                    18887  ...   \n",
      "...                                    ...  ...   \n",
      "41539                                94120  ...   \n",
      "41540                                78270  ...   \n",
      "41541                                54965  ...   \n",
      "41542                                95785  ...   \n",
      "41543                                84247  ...   \n",
      "\n",
      "       Main_Source_of_Income_Other sources of Income  \\\n",
      "0                                                0.0   \n",
      "1                                                0.0   \n",
      "2                                                0.0   \n",
      "3                                                0.0   \n",
      "4                                                0.0   \n",
      "...                                              ...   \n",
      "41539                                            0.0   \n",
      "41540                                            0.0   \n",
      "41541                                            0.0   \n",
      "41542                                            0.0   \n",
      "41543                                            0.0   \n",
      "\n",
      "       Main_Source_of_Income_Wage/Salaries  Tenure_Status_Not Applicable  \\\n",
      "0                                      1.0                           0.0   \n",
      "1                                      1.0                           0.0   \n",
      "2                                      1.0                           0.0   \n",
      "3                                      1.0                           0.0   \n",
      "4                                      1.0                           0.0   \n",
      "...                                    ...                           ...   \n",
      "41539                                  0.0                           0.0   \n",
      "41540                                  0.0                           0.0   \n",
      "41541                                  0.0                           0.0   \n",
      "41542                                  0.0                           0.0   \n",
      "41543                                  0.0                           0.0   \n",
      "\n",
      "       Tenure_Status_Own house, rent lot  \\\n",
      "0                                    0.0   \n",
      "1                                    0.0   \n",
      "2                                    0.0   \n",
      "3                                    0.0   \n",
      "4                                    0.0   \n",
      "...                                  ...   \n",
      "41539                                0.0   \n",
      "41540                                0.0   \n",
      "41541                                0.0   \n",
      "41542                                0.0   \n",
      "41543                                0.0   \n",
      "\n",
      "       Tenure_Status_Own house, rent-free lot with consent of owner  \\\n",
      "0                                                    0.0              \n",
      "1                                                    0.0              \n",
      "2                                                    0.0              \n",
      "3                                                    0.0              \n",
      "4                                                    0.0              \n",
      "...                                                  ...              \n",
      "41539                                                0.0              \n",
      "41540                                                0.0              \n",
      "41541                                                1.0              \n",
      "41542                                                0.0              \n",
      "41543                                                0.0              \n",
      "\n",
      "       Tenure_Status_Own house, rent-free lot without consent of owner  \\\n",
      "0                                                    0.0                 \n",
      "1                                                    0.0                 \n",
      "2                                                    0.0                 \n",
      "3                                                    0.0                 \n",
      "4                                                    0.0                 \n",
      "...                                                  ...                 \n",
      "41539                                                0.0                 \n",
      "41540                                                0.0                 \n",
      "41541                                                0.0                 \n",
      "41542                                                1.0                 \n",
      "41543                                                1.0                 \n",
      "\n",
      "       Tenure_Status_Own or owner-like possession of house and lot  \\\n",
      "0                                                    1.0             \n",
      "1                                                    1.0             \n",
      "2                                                    1.0             \n",
      "3                                                    1.0             \n",
      "4                                                    1.0             \n",
      "...                                                  ...             \n",
      "41539                                                1.0             \n",
      "41540                                                1.0             \n",
      "41541                                                0.0             \n",
      "41542                                                0.0             \n",
      "41543                                                0.0             \n",
      "\n",
      "       Tenure_Status_Rent house/room including lot  \\\n",
      "0                                              0.0   \n",
      "1                                              0.0   \n",
      "2                                              0.0   \n",
      "3                                              0.0   \n",
      "4                                              0.0   \n",
      "...                                            ...   \n",
      "41539                                          0.0   \n",
      "41540                                          0.0   \n",
      "41541                                          0.0   \n",
      "41542                                          0.0   \n",
      "41543                                          0.0   \n",
      "\n",
      "       Tenure_Status_Rent-free house and lot with consent of owner  \\\n",
      "0                                                    0.0             \n",
      "1                                                    0.0             \n",
      "2                                                    0.0             \n",
      "3                                                    0.0             \n",
      "4                                                    0.0             \n",
      "...                                                  ...             \n",
      "41539                                                0.0             \n",
      "41540                                                0.0             \n",
      "41541                                                0.0             \n",
      "41542                                                0.0             \n",
      "41543                                                0.0             \n",
      "\n",
      "       Tenure_Status_Rent-free house and lot without consent of owner  \n",
      "0                                                    0.0               \n",
      "1                                                    0.0               \n",
      "2                                                    0.0               \n",
      "3                                                    0.0               \n",
      "4                                                    0.0               \n",
      "...                                                  ...               \n",
      "41539                                                0.0               \n",
      "41540                                                0.0               \n",
      "41541                                                0.0               \n",
      "41542                                                0.0               \n",
      "41543                                                0.0               \n",
      "\n",
      "[41544 rows x 26 columns]\n"
     ]
    }
   ],
   "source": [
    "#Extract categorical columns from the dataframe\n",
    "#Here we extract the columns with object datatype as they are the categorical columns\n",
    "categorical_columns = income_df.select_dtypes(include=['object']).columns.tolist()\n",
    "\n",
    "#Initialize OneHotEncoder\n",
    "encoder = OneHotEncoder(sparse_output=False)\n",
    "\n",
    "# Apply one-hot encoding to the categorical columns\n",
    "one_hot_encoded = encoder.fit_transform(income_df[categorical_columns])\n",
    "\n",
    "#I have created a DataFrame with the one-hot encoded columns\n",
    "#We use get_feature_names_out() to get the column names for the encoded data\n",
    "one_hot_df = pd.DataFrame(one_hot_encoded, columns=encoder.get_feature_names_out(categorical_columns))\n",
    "\n",
    "# Concatenate the one-hot encoded dataframe with the original dataframe\n",
    "df_encoded = pd.concat([income_df, one_hot_df], axis=1)\n",
    "\n",
    "# Drop the original categorical columns\n",
    "df_encoded = df_encoded.drop(categorical_columns, axis=1)\n",
    "\n",
    "# Display the resulting dataframe\n",
    "print(f\"Encoded Expense data : \\n{df_encoded}\")"
   ]
  },
  {
   "cell_type": "code",
   "execution_count": 9,
   "id": "3fc8e1f3-abad-40fc-820d-849d5dcd05c6",
   "metadata": {},
   "outputs": [
    {
     "name": "stdout",
     "output_type": "stream",
     "text": [
      "Index(['Total_Household_Income', 'Total_Food_Expenditure',\n",
      "       'Main_Source_of_Income', 'Housing_and_water_Expenditure',\n",
      "       'Imputed_House_Rental_Value', 'Medical_Care_Expenditure',\n",
      "       'Transportation_Expenditure', 'Communication_Expenditure',\n",
      "       'Education_Expenditure', 'Miscellaneous_Goods_and_Services_Expenditure',\n",
      "       'Crop_Farming_and_Gardening_expenses',\n",
      "       'Total_Income_from_Entrepreneurial_Acitivites', 'Household_Head_Sex',\n",
      "       'Total_Number_of_Family_members',\n",
      "       'Members_with_age_less_than_5_year_old',\n",
      "       'Members_with_age_5_-_17_years_old', 'Tenure_Status', 'Electricity'],\n",
      "      dtype='object')\n"
     ]
    }
   ],
   "source": [
    "print(income_df.columns)"
   ]
  },
  {
   "cell_type": "code",
   "execution_count": null,
   "id": "12b3a3f2-ad40-44f6-9999-8140fc4ac5f3",
   "metadata": {},
   "outputs": [],
   "source": []
  },
  {
   "cell_type": "code",
   "execution_count": 17,
   "id": "08121da5-2fb4-483f-b2f1-e0c41833437e",
   "metadata": {},
   "outputs": [
    {
     "data": {
      "image/png": "[encoded data removed]",
      "text/plain": [
       "<Figure size 800x800 with 1 Axes>"
      ]
     },
     "metadata": {},
     "output_type": "display_data"
    }
   ],
   "source": [
    "import pandas as pd\n",
    "import matplotlib.pyplot as plt\n",
    "\n",
    "# Example DataFrame creation\n",
    "data = {\n",
    "    'Total_Food_Expenditure': [117848, 67766, 61609, 78189, 94625],\n",
    "    'Housing_and_water_Expenditure': [63636, 41370, 14340, 16638, 31122],\n",
    "    'Medical_Care_Expenditure': [3457, 3520, 70, 60, 140]\n",
    "}\n",
    "\n",
    "df = pd.DataFrame(data)\n",
    "\n",
    "# Compute the total expenditure for each category\n",
    "total_expenditures = df.sum()\n",
    "\n",
    "plt.figure(figsize=(8, 8))\n",
    "\n",
    "# Plot pie chart\n",
    "plt.pie(total_expenditures, labels=total_expenditures.index, autopct='%1.1f%%', colors=['#ff9999','#66b3ff','#99ff99'])\n",
    "plt.title('Proportion of Expenditures by Category')\n",
    "plt.show()\n"
   ]
  },
  {
   "cell_type": "code",
   "execution_count": 18,
   "id": "592551b1-f4d8-4dd1-8b02-a506a9491c71",
   "metadata": {},
   "outputs": [
    {
     "data": {
      "image/png": "[encoded data removed]",
      "text/plain": [
       "<Figure size 800x500 with 1 Axes>"
      ]
     },
     "metadata": {},
     "output_type": "display_data"
    }
   ],
   "source": [
    "# Example DataFrame creation\n",
    "data = {\n",
    "    'Total_Household_Income': [480332, 198235, 82785, 107589, 189322]\n",
    "}\n",
    "\n",
    "df = pd.DataFrame(data)\n",
    "\n",
    "plt.figure(figsize=(8, 5))\n",
    "plt.hist(df['Total_Household_Income'], bins=10, color='#1f77b4', edgecolor='black')\n",
    "plt.title('Distribution of Total Household Income')\n",
    "plt.xlabel('Income')\n",
    "plt.ylabel('Frequency')\n",
    "plt.tight_layout()\n",
    "plt.show()"
   ]
  },
  {
   "cell_type": "code",
   "execution_count": null,
   "id": "b91e21dd-e729-41b7-9e0e-4449a79c081e",
   "metadata": {},
   "outputs": [],
   "source": []
  },
  {
   "cell_type": "code",
   "execution_count": 10,
   "id": "8fdaa82c-b6c9-4c6f-9b81-163975d23835",
   "metadata": {},
   "outputs": [],
   "source": [
    "features = [\n",
    "    'Total_Household_Income', 'Total_Food_Expenditure', 'Housing_and_water_Expenditure',\n",
    "    'Imputed_House_Rental_Value', 'Medical_Care_Expenditure', 'Transportation_Expenditure',\n",
    "    'Communication_Expenditure', 'Education_Expenditure', \n",
    "    'Miscellaneous_Goods_and_Services_Expenditure',\n",
    "    'Crop_Farming_and_Gardening_expenses', 'Total_Income_from_Entrepreneurial_Acitivites',\n",
    "    'Total_Number_of_Family_members'\n",
    "]"
   ]
  },
  {
   "cell_type": "code",
   "execution_count": 11,
   "id": "a8867ec7-d7e5-4ad8-afc6-ef190c917ece",
   "metadata": {},
   "outputs": [],
   "source": [
    "# Extract features for clustering\n",
    "X = df_encoded[features]"
   ]
  },
  {
   "cell_type": "code",
   "execution_count": 12,
   "id": "682eee86-8f84-4389-83e1-953fa035baaf",
   "metadata": {},
   "outputs": [],
   "source": [
    "# Normalize the features\n",
    "scaler = StandardScaler()\n",
    "X_scaled = scaler.fit_transform(X)"
   ]
  },
  {
   "cell_type": "code",
   "execution_count": 13,
   "id": "bf252010-44d4-4651-8560-2c3696f36090",
   "metadata": {},
   "outputs": [],
   "source": [
    "def assign_credit_score(income):\n",
    "    \"\"\"Assign a credit score (0-100%) based on income percentile\"\"\"\n",
    "    return np.clip(income.rank(pct=True) * 100, 0, 100)"
   ]
  },
  {
   "cell_type": "code",
   "execution_count": 15,
   "id": "9f7f0d09-2079-436c-b7b2-9c39966f959e",
   "metadata": {},
   "outputs": [],
   "source": [
    "def assign_loan_range(credit_score):\n",
    "    \"\"\"Assign a loan range based on credit score\"\"\"\n",
    "    if credit_score < 20:\n",
    "        return \"1,000 - 5,000\"\n",
    "    elif credit_score < 40:\n",
    "        return \"5,001 - 10,000\"\n",
    "    elif credit_score < 60:\n",
    "        return \"10,001 - 20,000\"\n",
    "    elif credit_score < 80:\n",
    "        return \"20,001 - 35,000\"\n",
    "    else:\n",
    "        return \"35,001 - 50,000\""
   ]
  },
  {
   "cell_type": "code",
   "execution_count": 16,
   "id": "0d9aff57-c3fd-4912-8490-97bab644f591",
   "metadata": {},
   "outputs": [],
   "source": [
    "# Assign credit scores\n",
    "df_encoded['Credit_Score'] = assign_credit_score(df_encoded['Total_Household_Income'])"
   ]
  },
  {
   "cell_type": "code",
   "execution_count": 17,
   "id": "03f944d6-092e-46c8-acb7-07feebfc9dda",
   "metadata": {},
   "outputs": [],
   "source": [
    "df_encoded['Loan_Range'] = df_encoded['Credit_Score'].apply(assign_loan_range)"
   ]
  },
  {
   "cell_type": "code",
   "execution_count": 18,
   "id": "8b628e11-ff98-4914-9118-e4c3828d9695",
   "metadata": {},
   "outputs": [
    {
     "name": "stdout",
     "output_type": "stream",
     "text": [
      "Sample of Results:\n",
      "       Total_Household_Income  Credit_Score       Loan_Range\n",
      "28257                  770255     96.163104  35,001 - 50,000\n",
      "40444                   42741      2.135086    1,000 - 5,000\n",
      "25145                   77970     12.512035    1,000 - 5,000\n",
      "9202                   180690     55.036828  10,001 - 20,000\n",
      "6094                   436334     86.999326  35,001 - 50,000\n",
      "29853                  216440     63.412286  20,001 - 35,000\n",
      "25087                   61784      6.710957    1,000 - 5,000\n",
      "23892                  157955     47.893799  10,001 - 20,000\n",
      "17348                  445212     87.502407  35,001 - 50,000\n",
      "27092                 1170542     98.750722  35,001 - 50,000\n"
     ]
    }
   ],
   "source": [
    "print(\"Sample of Results:\")\n",
    "print(df_encoded[['Total_Household_Income', 'Credit_Score', 'Loan_Range']].sample(10))"
   ]
  },
  {
   "cell_type": "code",
   "execution_count": 19,
   "id": "84efd9d5-fe26-49ac-a38c-19ca899acc67",
   "metadata": {},
   "outputs": [
    {
     "name": "stdout",
     "output_type": "stream",
     "text": [
      "\n",
      "Overall Statistics:\n",
      "Average Credit Score: 50.00%\n",
      "Median Credit Score: 50.00%\n",
      "\n",
      "Credit Score Distribution:\n",
      "count    41544.000000\n",
      "mean        50.001204\n",
      "std         28.867861\n",
      "min          0.002407\n",
      "25%         25.001204\n",
      "50%         50.001204\n",
      "75%         75.000602\n",
      "max        100.000000\n",
      "Name: Credit_Score, dtype: float64\n"
     ]
    }
   ],
   "source": [
    "# Overall statistics\n",
    "print(\"\\nOverall Statistics:\")\n",
    "print(f\"Average Credit Score: {df_encoded['Credit_Score'].mean():.2f}%\")\n",
    "print(f\"Median Credit Score: {df_encoded['Credit_Score'].median():.2f}%\")\n",
    "print(\"\\nCredit Score Distribution:\")\n",
    "print(df_encoded['Credit_Score'].describe())"
   ]
  },
  {
   "cell_type": "code",
   "execution_count": null,
   "id": "c9d647b1-8264-4407-8326-26024b010f38",
   "metadata": {},
   "outputs": [],
   "source": []
  },
  {
   "cell_type": "code",
   "execution_count": null,
   "id": "2c5e3ff8-a613-453a-8b98-5aa0d3bdec4d",
   "metadata": {},
   "outputs": [],
   "source": []
  }
 ],
 "metadata": {
  "kernelspec": {
   "display_name": "Python 3 (ipykernel)",
   "language": "python",
   "name": "python3"
  },
  "language_info": {
   "codemirror_mode": {
    "name": "ipython",
    "version": 3
   },
   "file_extension": ".py",
   "mimetype": "text/x-python",
   "name": "python",
   "nbconvert_exporter": "python",
   "pygments_lexer": "ipython3",
   "version": "3.10.12"
  }
 },
 "nbformat": 4,
 "nbformat_minor": 5
}
