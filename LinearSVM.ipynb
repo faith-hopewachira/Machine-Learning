{
 "cells": [
  {
   "cell_type": "code",
   "execution_count": 15,
   "id": "17c51a2d-5fee-4031-9812-2584392f7cc4",
   "metadata": {},
   "outputs": [],
   "source": [
    "import pandas as pd\n",
    "from sklearn.model_selection import train_test_split\n",
    "from sklearn.metrics import accuracy_score, classification_report\n",
    "from sklearn.preprocessing import LabelEncoder, StandardScaler\n",
    "from sklearn.svm import LinearSVC  # Importing LinearSVC for Linear SVM\n",
    "from sklearn.impute import SimpleImputer  # SimpleImputer"
   ]
  },
  {
   "cell_type": "code",
   "execution_count": 16,
   "id": "4c33091c-cb0a-452b-b04f-3a0ff0b5a43c",
   "metadata": {},
   "outputs": [],
   "source": [
    "# Load dataset\n",
    "loan_df = pd.read_csv('/home/student/filtered_columns_dataset.csv')"
   ]
  },
  {
   "cell_type": "code",
   "execution_count": 17,
   "id": "ee181834-da9e-46b5-be12-f7ffdd96f58c",
   "metadata": {},
   "outputs": [],
   "source": [
    "# loan_df.head()"
   ]
  },
  {
   "cell_type": "markdown",
   "id": "8d4e710e-8ab3-4c15-984b-528046eda7a6",
   "metadata": {},
   "source": [
    "# Data Cleaning"
   ]
  },
  {
   "cell_type": "markdown",
   "id": "ab65c203-9f1b-4cf5-959b-b195b36661df",
   "metadata": {},
   "source": [
    "## Key Features:\n",
    "TARGET: Indicator of whether the loan was repaid (1 for default, 0 for non-default), crucial for supervised learning.<br/>\n",
    "NAME_CONTRACT_TYPE: Type of loan (e.g., Cash loans or Revolving loans), important for determining loan structure.<br/>\n",
    "AMT_INCOME_TOTAL: Total income of the applicant, crucial for determining their ability to repay the loan.<br/>\n",
    "AMT_CREDIT: The amount of credit (loan) applied for, used in calculating loan range.<br/>\n",
    "AMT_ANNUITY: Loan annuity (the regular payments), helpful for assessing repayment capacity.<br/>\n",
    "AMT_GOODS_PRICE: The price of the goods for which the loan is taken, useful for understanding loan size.<br/>\n",
    "CODE_GENDER: Gender of the applicant, might be relevant if gender-based loan assessment is being used.<br/>\n",
    "FLAG_OWN_CAR: Indicates whether the applicant owns a car, a possible asset for creditworthiness.<br/>\n",
    "FLAG_OWN_REALTY: Indicates if the applicant owns real estate, another asset for credit risk assessment.<br/>\n",
    "CNT_CHILDREN: Number of children, which could influence income-to-expense ratios.<br/>\n",
    "NAME_INCOME_TYPE: Type of income (e.g., Working, State servant), used to assess financial stability.<br/>\n",
    "NAME_EDUCATION_TYPE: Level of education, which could impact income potential and financial literacy.<br/>\n",
    "NAME_FAMILY_STATUS: Family status, used for understanding household structure and financial obligations.<br/>\n",
    "DAYS_BIRTH: Age of the applicant (derived from days since birth), critical for demographic analysis.<br/>\n",
    "DAYS_EMPLOYED: Duration of employment, helps in assessing job stability.<br/>\n",
    "REGION_POPULATION_RELATIVE: Population of the region, useful for understanding economic background.<br/>\n",
    "EXT_SOURCE_1, EXT_SOURCE_2, EXT_SOURCE_3: External risk assessment scores, typically useful in determining credit risk.<br/>\n",
    "DAYS_LAST_PHONE_CHANGE: How long it has been since the applicant changed their phone, which could indicate stability or mobility.<br/>\n",
    "CNT_FAM_MEMBERS: A larger number of family members generally correlates with higher living costs, which can affect the disposable income available for loan repayment.\n",
    "NAME_HOUSING_TYPE:Housing type can indicate the applicant's financial stability, long-term expenses, and asset ownership."
   ]
  },
  {
   "cell_type": "code",
   "execution_count": 18,
   "id": "26d84df6-8f58-4156-b1fe-d6fd0e404ff3",
   "metadata": {},
   "outputs": [],
   "source": [
    "columns_to_keep = [\n",
    "    'TARGET', 'NAME_CONTRACT_TYPE','AMT_INCOME_TOTAL', \n",
    "    'AMT_CREDIT', 'AMT_ANNUITY', 'CODE_GENDER',\n",
    "    'FLAG_OWN_CAR', 'FLAG_OWN_REALTY', 'CNT_CHILDREN', 'NAME_INCOME_TYPE', \n",
    "    'NAME_EDUCATION_TYPE', 'NAME_FAMILY_STATUS', 'DAYS_BIRTH', 'DAYS_EMPLOYED',\n",
    "    'REGION_POPULATION_RELATIVE', 'DAYS_LAST_PHONE_CHANGE',\n",
    "    'CNT_FAM_MEMBERS', 'EXT_SOURCE_1', 'EXT_SOURCE_2', 'EXT_SOURCE_3'\n",
    "]"
   ]
  },
  {
   "cell_type": "code",
   "execution_count": 20,
   "id": "6c445a66-500f-4f18-bca6-9bf238e2a699",
   "metadata": {},
   "outputs": [],
   "source": [
    "# df_filtered = loan_df[columns_to_keep]"
   ]
  },
  {
   "cell_type": "code",
   "execution_count": 21,
   "id": "d17036fa-4c69-42ed-a8ca-a9dff42ea801",
   "metadata": {},
   "outputs": [
    {
     "name": "stdout",
     "output_type": "stream",
     "text": [
      "Index(['target', 'contract_type', 'income_total', 'credit_amount',\n",
      "       'annuity_amount', 'gender', 'owns_car', 'owns_realty', 'children_count',\n",
      "       'income_type', 'education_type', 'family_status', 'age_days',\n",
      "       'employment_days', 'region_population_relative',\n",
      "       'days_last_phone_change', 'family_members_count', 'ext_source_1',\n",
      "       'ext_source_2', 'ext_source_3', 'age_years'],\n",
      "      dtype='object')\n"
     ]
    }
   ],
   "source": [
    "print(loan_df.columns)"
   ]
  },
  {
   "cell_type": "code",
   "execution_count": null,
   "id": "89749285-bb63-4fc8-bf9b-6ee63efeaeae",
   "metadata": {},
   "outputs": [],
   "source": [
    "# 1. Binning income_total into Low, Medium, High based on percentiles\n",
    "loan_df['income_bin'] = pd.qcut(loan_df['income_total'], q=3, labels=['Low', 'Medium', 'High'])"
   ]
  },
  {
   "cell_type": "code",
   "execution_count": null,
   "id": "fecd033f-4f97-4159-9de2-da94c16170c3",
   "metadata": {},
   "outputs": [],
   "source": [
    "# 2. Binning age_years into Young, Middle-aged, Senior\n",
    "loan_df['age_bin'] = pd.cut(loan_df['age_years'], bins=[0, 30, 50, float('inf')], labels=['Young', 'Middle-aged', 'Senior'])"
   ]
  },
  {
   "cell_type": "code",
   "execution_count": null,
   "id": "70bbbbac-ef0c-4aaa-9885-0bea201edda9",
   "metadata": {},
   "outputs": [],
   "source": [
    "# 3. Binning credit_amount into categories based on quartiles\n",
    "loan_df['credit_bin'] = pd.qcut(loan_df['credit_amount'], q=4, labels=['Very Low', 'Low', 'Medium', 'High'])"
   ]
  },
  {
   "cell_type": "code",
   "execution_count": null,
   "id": "64c66451-9f17-4e31-b310-4c586a1e6d47",
   "metadata": {},
   "outputs": [],
   "source": [
    "# 4. Binning annuity_amount into categories based on quartiles\n",
    "loan_df['annuity_bin'] = pd.qcut(loan_df['annuity_amount'].dropna(), q=4, labels=['Very Low', 'Low', 'Medium', 'High'])"
   ]
  },
  {
   "cell_type": "code",
   "execution_count": null,
   "id": "bdb62e39-60d5-463c-8d6a-fe8157a0453b",
   "metadata": {},
   "outputs": [],
   "source": [
    "# 5. Binning employment_days into \"Recently employed\", \"Long-term employed\", etc.\n",
    "loan_df['employment_bin'] = pd.cut(loan_df['employment_days'], bins=[-float('inf'), -1000, -500, 0], labels=['Long-term', 'Mid-term', 'Recently employed'])"
   ]
  },
  {
   "cell_type": "markdown",
   "id": "6f51736b-b7ad-4a7c-aaaa-5b10bc9f9ecc",
   "metadata": {},
   "source": [
    "# Feature Engineering"
   ]
  },
  {
   "cell_type": "code",
   "execution_count": null,
   "id": "caf83b01-be03-4015-b100-8067e37fbfd7",
   "metadata": {},
   "outputs": [],
   "source": [
    "# Encoding categorical features using LabelEncoder\n",
    "categorical_columns = ['contract_type', 'gender', 'owns_car', 'owns_realty', 'income_type', \n",
    "                       'education_type', 'family_status', 'income_bin', 'age_bin', 'credit_bin', 'annuity_bin', 'employment_bin']"
   ]
  },
  {
   "cell_type": "code",
   "execution_count": null,
   "id": "0b6c578c-361a-45f8-94e9-73857fcd4547",
   "metadata": {},
   "outputs": [],
   "source": [
    "label_encoders = {}\n",
    "for column in categorical_columns:\n",
    "    le = LabelEncoder()\n",
    "    loan_df[column] = le.fit_transform(loan_df[column].astype(str))  # Ensure string type for bin columns\n",
    "    label_encoders[column] = le"
   ]
  },
  {
   "cell_type": "code",
   "execution_count": null,
   "id": "859658e0-6f9b-4972-80c1-b2cfb4e0ef00",
   "metadata": {},
   "outputs": [],
   "source": [
    "# Split the data into features and target\n",
    "X = loan_df.drop('target', axis=1)\n",
    "y = loan_df['target']"
   ]
  },
  {
   "cell_type": "code",
   "execution_count": null,
   "id": "50ac75c0-004d-4bfb-bf8f-7e8407a82143",
   "metadata": {},
   "outputs": [],
   "source": [
    "numeric_columns = X.select_dtypes(include=['int64', 'float64']).columns.tolist()"
   ]
  },
  {
   "cell_type": "code",
   "execution_count": null,
   "id": "e8fa8ee9-4dd5-40ea-9449-17bfbc3d7544",
   "metadata": {},
   "outputs": [],
   "source": [
    "# Impute missing values in the dataset\n",
    "imputer = SimpleImputer(strategy='mean')  # Choose strategy like 'median', 'most_frequent', etc.\n",
    "X[numeric_columns] = imputer.fit_transform(X[numeric_columns])"
   ]
  },
  {
   "cell_type": "markdown",
   "id": "4c521820-ac53-41d0-9135-7711473f4538",
   "metadata": {},
   "source": [
    "# Model Training"
   ]
  },
  {
   "cell_type": "code",
   "execution_count": null,
   "id": "92007724-409e-4f0b-acfe-3a9d9d24a032",
   "metadata": {},
   "outputs": [],
   "source": [
    "# Split the dataset into training and testing sets\n",
    "X_train, X_test, y_train, y_test = train_test_split(X, y, test_size=0.3, random_state=42)"
   ]
  },
  {
   "cell_type": "code",
   "execution_count": null,
   "id": "2f13abc3-22f0-4e5f-a3e2-d54cf901fa24",
   "metadata": {},
   "outputs": [],
   "source": [
    "# Standardize the numeric columns\n",
    "scaler = StandardScaler()\n",
    "X_train[numeric_columns] = scaler.fit_transform(X_train[numeric_columns])\n",
    "X_test[numeric_columns] = scaler.transform(X_test[numeric_columns])"
   ]
  },
  {
   "cell_type": "markdown",
   "id": "0bc4af8c-7916-4060-bc28-7adacbc52995",
   "metadata": {},
   "source": [
    "Linear Support Vector Machine (SVM) is a supervised machine learning algorithm used primarily for classification tasks, though it can also be applied to regression problems. The goal of a linear SVM is to find the optimal hyperplane that separates the data points from different classes with the largest possible margin."
   ]
  },
  {
   "cell_type": "code",
   "execution_count": null,
   "id": "a16870c5-ca9b-40d5-aaa1-3b5012a6aac3",
   "metadata": {},
   "outputs": [],
   "source": [
    "# Initialize the Linear SVM classifier\n",
    "linear_svc_model = LinearSVC(random_state=42, max_iter=10000)  # Increased max_iter for convergence"
   ]
  },
  {
   "cell_type": "code",
   "execution_count": null,
   "id": "6c42b0e1-0248-4665-83ab-d73e1813f4fc",
   "metadata": {},
   "outputs": [],
   "source": [
    "# Train the model\n",
    "linear_svc_model.fit(X_train, y_train)"
   ]
  },
  {
   "cell_type": "code",
   "execution_count": null,
   "id": "70566b19-0864-4280-a885-813039e7543d",
   "metadata": {},
   "outputs": [],
   "source": [
    "# Make predictions on the test set\n",
    "y_pred = linear_svc_model.predict(X_test)"
   ]
  },
  {
   "cell_type": "code",
   "execution_count": null,
   "id": "ff6711be-fbb0-4dbf-8a86-7dc7ded6ab88",
   "metadata": {},
   "outputs": [],
   "source": [
    "# Custom rule-based prediction\n",
    "for i in range(len(X_test)):\n",
    "    age = X_test.iloc[i]['age_bin']  # Binned age category\n",
    "    income = X_test.iloc[i]['income_bin']  # Binned income category\n",
    "    credit = X_test.iloc[i]['credit_bin']  # Binned credit category\n",
    "    annuity = X_test.iloc[i]['annuity_bin']  # Binned annuity category\n",
    "\n",
    "    # Rule: if middle-aged, medium or high income, credit, and annuity, predict approved (1), otherwise reject (0)\n",
    "    if (age == label_encoders['age_bin'].transform(['Middle-aged'])[0] and\n",
    "        income in label_encoders['income_bin'].transform(['Medium', 'High']) and\n",
    "        credit in label_encoders['credit_bin'].transform(['Medium', 'High']) and\n",
    "        annuity in label_encoders['annuity_bin'].transform(['Medium', 'High'])):\n",
    "        y_pred[i] = 1  # Approve\n",
    "    else:\n",
    "        y_pred[i] = 0  # Reject"
   ]
  },
  {
   "cell_type": "code",
   "execution_count": null,
   "id": "1aef36ce-503d-4eac-b142-90f4e3946a7c",
   "metadata": {},
   "outputs": [],
   "source": [
    "# Evaluate the model's performance\n",
    "accuracy = accuracy_score(y_test, y_pred)\n",
    "classification_rep = classification_report(y_test, y_pred)\n",
    "\n",
    "# Print the results\n",
    "print(f\"Accuracy: {accuracy}\")\n",
    "print(\"Classification Report:\")\n",
    "print(classification_rep)"
   ]
  }
 ],
 "metadata": {
  "kernelspec": {
   "display_name": "Python 3 (ipykernel)",
   "language": "python",
   "name": "python3"
  },
  "language_info": {
   "codemirror_mode": {
    "name": "ipython",
    "version": 3
   },
   "file_extension": ".py",
   "mimetype": "text/x-python",
   "name": "python",
   "nbconvert_exporter": "python",
   "pygments_lexer": "ipython3",
   "version": "3.10.12"
  }
 },
 "nbformat": 4,
 "nbformat_minor": 5
}
