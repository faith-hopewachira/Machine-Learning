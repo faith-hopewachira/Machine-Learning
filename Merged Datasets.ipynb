{
 "cells": [
  {
   "cell_type": "code",
   "execution_count": 23,
   "id": "84cb7a78-3d33-4ebe-9c33-2c76d980f6a5",
   "metadata": {},
   "outputs": [
    {
     "name": "stdout",
     "output_type": "stream",
     "text": [
      "Requirement already satisfied: fuzzywuzzy in ./mlclass/lib/python3.10/site-packages (0.18.0)\n",
      "Requirement already satisfied: python-Levenshtein in ./mlclass/lib/python3.10/site-packages (0.26.0)\n",
      "Requirement already satisfied: Levenshtein==0.26.0 in ./mlclass/lib/python3.10/site-packages (from python-Levenshtein) (0.26.0)\n",
      "Requirement already satisfied: rapidfuzz<4.0.0,>=3.9.0 in ./mlclass/lib/python3.10/site-packages (from Levenshtein==0.26.0->python-Levenshtein) (3.10.0)\n"
     ]
    }
   ],
   "source": [
    "!pip install fuzzywuzzy python-Levenshtein"
   ]
  },
  {
   "cell_type": "code",
   "execution_count": 24,
   "id": "71e34e15-c0a2-4c22-a243-e89e0cecdf2f",
   "metadata": {},
   "outputs": [],
   "source": [
    "import pandas as pd\n",
    "from fuzzywuzzy import fuzz\n",
    "from fuzzywuzzy import process"
   ]
  },
  {
   "cell_type": "code",
   "execution_count": 25,
   "id": "be1a8ba1-6018-4320-8362-3c15e76d0546",
   "metadata": {},
   "outputs": [],
   "source": [
    "df1 = pd.read_csv('/home/student/application_test.csv')\n",
    "df2 = pd.read_csv('/home/student/previous_application.csv')"
   ]
  },
  {
   "cell_type": "code",
   "execution_count": 26,
   "id": "5c3c60b4-01db-4e35-992b-2774f9d92092",
   "metadata": {},
   "outputs": [],
   "source": [
    "# Function to find the best match\n",
    "def find_best_match(id, choices, scorer=fuzz.ratio):\n",
    "    best_match = process.extractOne(str(id), choices, scorer=scorer)\n",
    "    return best_match[2] if best_match[1] >= 80 else None"
   ]
  },
  {
   "cell_type": "code",
   "execution_count": 27,
   "id": "b1d8da26-e065-4d88-9cd7-53e1e479ed7c",
   "metadata": {},
   "outputs": [],
   "source": [
    "df1['SK_ID_CURR'] = df1['SK_ID_CURR'].astype(int)\n",
    "df2['SK_ID_CURR'] = df2['SK_ID_CURR'].astype(int)"
   ]
  },
  {
   "cell_type": "code",
   "execution_count": 28,
   "id": "25e91ced-6f7c-4c64-a877-36c1b984ea33",
   "metadata": {},
   "outputs": [],
   "source": [
    "merged_df = pd.merge(df1, df2, on='SK_ID_CURR', how='outer', suffixes=('_df1', '_df2'))"
   ]
  },
  {
   "cell_type": "code",
   "execution_count": 29,
   "id": "39c4874b-825a-4381-bc3e-34aff1a8441a",
   "metadata": {},
   "outputs": [
    {
     "name": "stdout",
     "output_type": "stream",
     "text": [
      "Shape of merged dataframe: (1462445, 158)\n",
      "\n",
      "First few rows of merged dataframe:\n",
      "   SK_ID_CURR NAME_CONTRACT_TYPE_df1 CODE_GENDER FLAG_OWN_CAR FLAG_OWN_REALTY  \\\n",
      "0      100001             Cash loans           F            N               Y   \n",
      "1      100002                    NaN         NaN          NaN             NaN   \n",
      "2      100003                    NaN         NaN          NaN             NaN   \n",
      "3      100003                    NaN         NaN          NaN             NaN   \n",
      "4      100003                    NaN         NaN          NaN             NaN   \n",
      "\n",
      "   CNT_CHILDREN  AMT_INCOME_TOTAL  AMT_CREDIT_df1  AMT_ANNUITY_df1  \\\n",
      "0           0.0          135000.0        568800.0          20560.5   \n",
      "1           NaN               NaN             NaN              NaN   \n",
      "2           NaN               NaN             NaN              NaN   \n",
      "3           NaN               NaN             NaN              NaN   \n",
      "4           NaN               NaN             NaN              NaN   \n",
      "\n",
      "   AMT_GOODS_PRICE_df1  ...  NAME_SELLER_INDUSTRY CNT_PAYMENT  \\\n",
      "0             450000.0  ...                   NaN         NaN   \n",
      "1                  NaN  ...       Auto technology        24.0   \n",
      "2                  NaN  ...                   XNA        12.0   \n",
      "3                  NaN  ...             Furniture         6.0   \n",
      "4                  NaN  ...  Consumer electronics        12.0   \n",
      "\n",
      "  NAME_YIELD_GROUP          PRODUCT_COMBINATION DAYS_FIRST_DRAWING  \\\n",
      "0              NaN                          NaN                NaN   \n",
      "1       low_normal      POS other with interest           365243.0   \n",
      "2       low_normal             Cash X-Sell: low           365243.0   \n",
      "3           middle   POS industry with interest           365243.0   \n",
      "4           middle  POS household with interest           365243.0   \n",
      "\n",
      "   DAYS_FIRST_DUE  DAYS_LAST_DUE_1ST_VERSION  DAYS_LAST_DUE  DAYS_TERMINATION  \\\n",
      "0             NaN                        NaN            NaN               NaN   \n",
      "1          -565.0                      125.0          -25.0             -17.0   \n",
      "2          -716.0                     -386.0         -536.0            -527.0   \n",
      "3          -797.0                     -647.0         -647.0            -639.0   \n",
      "4         -2310.0                    -1980.0        -1980.0           -1976.0   \n",
      "\n",
      "   NFLAG_INSURED_ON_APPROVAL  \n",
      "0                        NaN  \n",
      "1                        0.0  \n",
      "2                        1.0  \n",
      "3                        0.0  \n",
      "4                        1.0  \n",
      "\n",
      "[5 rows x 158 columns]\n"
     ]
    }
   ],
   "source": [
    "# Display results\n",
    "print(\"Shape of merged dataframe:\", merged_df.shape)\n",
    "print(\"\\nFirst few rows of merged dataframe:\")\n",
    "print(merged_df.head())"
   ]
  },
  {
   "cell_type": "code",
   "execution_count": 30,
   "id": "f6761c20-b85d-4ad9-bc53-dd0deb9507f5",
   "metadata": {},
   "outputs": [
    {
     "name": "stdout",
     "output_type": "stream",
     "text": [
      "\n",
      "Number of unmatched entries from df1: 1462445\n"
     ]
    }
   ],
   "source": [
    "# Check for unmatched entries from df1\n",
    "unmatched_df1 = merged_df[merged_df.isnull().any(axis=1) & merged_df['SK_ID_CURR'].notnull()]\n",
    "print(f\"\\nNumber of unmatched entries from df1: {len(unmatched_df1)}\")"
   ]
  },
  {
   "cell_type": "code",
   "execution_count": 31,
   "id": "08f1a84c-c146-4ede-b6dc-05b6a861b34d",
   "metadata": {},
   "outputs": [
    {
     "name": "stdout",
     "output_type": "stream",
     "text": [
      "Number of unmatched entries from df2: 1462445\n"
     ]
    }
   ],
   "source": [
    "# Check for unmatched entries from df2\n",
    "unmatched_df2 = merged_df[merged_df.isnull().any(axis=1) & merged_df['SK_ID_CURR'].notnull()]\n",
    "print(f\"Number of unmatched entries from df2: {len(unmatched_df2)}\")"
   ]
  },
  {
   "cell_type": "code",
   "execution_count": 32,
   "id": "2abd77f7-d9f5-4db8-b531-54fb5d91f0fe",
   "metadata": {},
   "outputs": [
    {
     "name": "stdout",
     "output_type": "stream",
     "text": [
      "\n",
      "Sample of unmatched entries:\n",
      "   SK_ID_CURR NAME_CONTRACT_TYPE_df1 CODE_GENDER FLAG_OWN_CAR FLAG_OWN_REALTY  \\\n",
      "0      100001             Cash loans           F            N               Y   \n",
      "1      100002                    NaN         NaN          NaN             NaN   \n",
      "2      100003                    NaN         NaN          NaN             NaN   \n",
      "3      100003                    NaN         NaN          NaN             NaN   \n",
      "4      100003                    NaN         NaN          NaN             NaN   \n",
      "\n",
      "   CNT_CHILDREN  AMT_INCOME_TOTAL  AMT_CREDIT_df1  AMT_ANNUITY_df1  \\\n",
      "0           0.0          135000.0        568800.0          20560.5   \n",
      "1           NaN               NaN             NaN              NaN   \n",
      "2           NaN               NaN             NaN              NaN   \n",
      "3           NaN               NaN             NaN              NaN   \n",
      "4           NaN               NaN             NaN              NaN   \n",
      "\n",
      "   AMT_GOODS_PRICE_df1  ...  NAME_SELLER_INDUSTRY CNT_PAYMENT  \\\n",
      "0             450000.0  ...                   NaN         NaN   \n",
      "1                  NaN  ...       Auto technology        24.0   \n",
      "2                  NaN  ...                   XNA        12.0   \n",
      "3                  NaN  ...             Furniture         6.0   \n",
      "4                  NaN  ...  Consumer electronics        12.0   \n",
      "\n",
      "  NAME_YIELD_GROUP          PRODUCT_COMBINATION DAYS_FIRST_DRAWING  \\\n",
      "0              NaN                          NaN                NaN   \n",
      "1       low_normal      POS other with interest           365243.0   \n",
      "2       low_normal             Cash X-Sell: low           365243.0   \n",
      "3           middle   POS industry with interest           365243.0   \n",
      "4           middle  POS household with interest           365243.0   \n",
      "\n",
      "   DAYS_FIRST_DUE  DAYS_LAST_DUE_1ST_VERSION  DAYS_LAST_DUE  DAYS_TERMINATION  \\\n",
      "0             NaN                        NaN            NaN               NaN   \n",
      "1          -565.0                      125.0          -25.0             -17.0   \n",
      "2          -716.0                     -386.0         -536.0            -527.0   \n",
      "3          -797.0                     -647.0         -647.0            -639.0   \n",
      "4         -2310.0                    -1980.0        -1980.0           -1976.0   \n",
      "\n",
      "   NFLAG_INSURED_ON_APPROVAL  \n",
      "0                        NaN  \n",
      "1                        0.0  \n",
      "2                        1.0  \n",
      "3                        0.0  \n",
      "4                        1.0  \n",
      "\n",
      "[5 rows x 158 columns]\n"
     ]
    }
   ],
   "source": [
    "# Display some unmatched entries if any\n",
    "if len(unmatched_df1) > 0 or len(unmatched_df2) > 0:\n",
    "    print(\"\\nSample of unmatched entries:\")\n",
    "    print(merged_df[merged_df.isnull().any(axis=1)].head())"
   ]
  },
  {
   "cell_type": "code",
   "execution_count": 34,
   "id": "e5566739-f13c-455b-b019-98d11dd26f5d",
   "metadata": {},
   "outputs": [
    {
     "name": "stdout",
     "output_type": "stream",
     "text": [
      "1462445\n"
     ]
    }
   ],
   "source": [
    "print(len(merged_df))"
   ]
  },
  {
   "cell_type": "code",
   "execution_count": 33,
   "id": "29a7aaa0-50c0-4b04-9f34-69f6a57030c3",
   "metadata": {},
   "outputs": [
    {
     "name": "stdout",
     "output_type": "stream",
     "text": [
      "\n",
      "Merged dataset saved as 'int_merged_dataset.csv'\n"
     ]
    }
   ],
   "source": [
    "merged_df.to_csv('int_merged_dataset.csv', index=False)\n",
    "print(\"\\nMerged dataset saved as 'int_merged_dataset.csv'\")"
   ]
  },
  {
   "cell_type": "code",
   "execution_count": 39,
   "id": "328359f6-dc42-46cf-885d-1718ef37aeb4",
   "metadata": {},
   "outputs": [],
   "source": [
    "# merged_df.head()"
   ]
  },
  {
   "cell_type": "code",
   "execution_count": 40,
   "id": "48e421dc-429c-4a09-876e-edbf33bcd11d",
   "metadata": {},
   "outputs": [
    {
     "name": "stdout",
     "output_type": "stream",
     "text": [
      "['SK_ID_CURR', 'NAME_CONTRACT_TYPE_df1', 'CODE_GENDER', 'FLAG_OWN_CAR', 'FLAG_OWN_REALTY', 'CNT_CHILDREN', 'AMT_INCOME_TOTAL', 'AMT_CREDIT_df1', 'AMT_ANNUITY_df1', 'AMT_GOODS_PRICE_df1', 'NAME_TYPE_SUITE_df1', 'NAME_INCOME_TYPE', 'NAME_EDUCATION_TYPE', 'NAME_FAMILY_STATUS', 'NAME_HOUSING_TYPE', 'REGION_POPULATION_RELATIVE', 'DAYS_BIRTH', 'DAYS_EMPLOYED', 'DAYS_REGISTRATION', 'DAYS_ID_PUBLISH', 'OWN_CAR_AGE', 'FLAG_MOBIL', 'FLAG_EMP_PHONE', 'FLAG_WORK_PHONE', 'FLAG_CONT_MOBILE', 'FLAG_PHONE', 'FLAG_EMAIL', 'OCCUPATION_TYPE', 'CNT_FAM_MEMBERS', 'REGION_RATING_CLIENT', 'REGION_RATING_CLIENT_W_CITY', 'WEEKDAY_APPR_PROCESS_START_df1', 'HOUR_APPR_PROCESS_START_df1', 'REG_REGION_NOT_LIVE_REGION', 'REG_REGION_NOT_WORK_REGION', 'LIVE_REGION_NOT_WORK_REGION', 'REG_CITY_NOT_LIVE_CITY', 'REG_CITY_NOT_WORK_CITY', 'LIVE_CITY_NOT_WORK_CITY', 'ORGANIZATION_TYPE', 'EXT_SOURCE_1', 'EXT_SOURCE_2', 'EXT_SOURCE_3', 'APARTMENTS_AVG', 'BASEMENTAREA_AVG', 'YEARS_BEGINEXPLUATATION_AVG', 'YEARS_BUILD_AVG', 'COMMONAREA_AVG', 'ELEVATORS_AVG', 'ENTRANCES_AVG', 'FLOORSMAX_AVG', 'FLOORSMIN_AVG', 'LANDAREA_AVG', 'LIVINGAPARTMENTS_AVG', 'LIVINGAREA_AVG', 'NONLIVINGAPARTMENTS_AVG', 'NONLIVINGAREA_AVG', 'APARTMENTS_MODE', 'BASEMENTAREA_MODE', 'YEARS_BEGINEXPLUATATION_MODE', 'YEARS_BUILD_MODE', 'COMMONAREA_MODE', 'ELEVATORS_MODE', 'ENTRANCES_MODE', 'FLOORSMAX_MODE', 'FLOORSMIN_MODE', 'LANDAREA_MODE', 'LIVINGAPARTMENTS_MODE', 'LIVINGAREA_MODE', 'NONLIVINGAPARTMENTS_MODE', 'NONLIVINGAREA_MODE', 'APARTMENTS_MEDI', 'BASEMENTAREA_MEDI', 'YEARS_BEGINEXPLUATATION_MEDI', 'YEARS_BUILD_MEDI', 'COMMONAREA_MEDI', 'ELEVATORS_MEDI', 'ENTRANCES_MEDI', 'FLOORSMAX_MEDI', 'FLOORSMIN_MEDI', 'LANDAREA_MEDI', 'LIVINGAPARTMENTS_MEDI', 'LIVINGAREA_MEDI', 'NONLIVINGAPARTMENTS_MEDI', 'NONLIVINGAREA_MEDI', 'FONDKAPREMONT_MODE', 'HOUSETYPE_MODE', 'TOTALAREA_MODE', 'WALLSMATERIAL_MODE', 'EMERGENCYSTATE_MODE', 'OBS_30_CNT_SOCIAL_CIRCLE', 'DEF_30_CNT_SOCIAL_CIRCLE', 'OBS_60_CNT_SOCIAL_CIRCLE', 'DEF_60_CNT_SOCIAL_CIRCLE', 'DAYS_LAST_PHONE_CHANGE', 'FLAG_DOCUMENT_2', 'FLAG_DOCUMENT_3', 'FLAG_DOCUMENT_4', 'FLAG_DOCUMENT_5', 'FLAG_DOCUMENT_6', 'FLAG_DOCUMENT_7', 'FLAG_DOCUMENT_8', 'FLAG_DOCUMENT_9', 'FLAG_DOCUMENT_10', 'FLAG_DOCUMENT_11', 'FLAG_DOCUMENT_12', 'FLAG_DOCUMENT_13', 'FLAG_DOCUMENT_14', 'FLAG_DOCUMENT_15', 'FLAG_DOCUMENT_16', 'FLAG_DOCUMENT_17', 'FLAG_DOCUMENT_18', 'FLAG_DOCUMENT_19', 'FLAG_DOCUMENT_20', 'FLAG_DOCUMENT_21', 'AMT_REQ_CREDIT_BUREAU_HOUR', 'AMT_REQ_CREDIT_BUREAU_DAY', 'AMT_REQ_CREDIT_BUREAU_WEEK', 'AMT_REQ_CREDIT_BUREAU_MON', 'AMT_REQ_CREDIT_BUREAU_QRT', 'AMT_REQ_CREDIT_BUREAU_YEAR', 'Unnamed: 0', 'SK_ID_PREV', 'NAME_CONTRACT_TYPE_df2', 'AMT_ANNUITY_df2', 'AMT_APPLICATION', 'AMT_CREDIT_df2', 'AMT_DOWN_PAYMENT', 'AMT_GOODS_PRICE_df2', 'WEEKDAY_APPR_PROCESS_START_df2', 'HOUR_APPR_PROCESS_START_df2', 'FLAG_LAST_APPL_PER_CONTRACT', 'NFLAG_LAST_APPL_IN_DAY', 'RATE_DOWN_PAYMENT', 'RATE_INTEREST_PRIMARY', 'RATE_INTEREST_PRIVILEGED', 'NAME_CASH_LOAN_PURPOSE', 'NAME_CONTRACT_STATUS', 'DAYS_DECISION', 'NAME_PAYMENT_TYPE', 'CODE_REJECT_REASON', 'NAME_TYPE_SUITE_df2', 'NAME_CLIENT_TYPE', 'NAME_GOODS_CATEGORY', 'NAME_PORTFOLIO', 'NAME_PRODUCT_TYPE', 'CHANNEL_TYPE', 'SELLERPLACE_AREA', 'NAME_SELLER_INDUSTRY', 'CNT_PAYMENT', 'NAME_YIELD_GROUP', 'PRODUCT_COMBINATION', 'DAYS_FIRST_DRAWING', 'DAYS_FIRST_DUE', 'DAYS_LAST_DUE_1ST_VERSION', 'DAYS_LAST_DUE', 'DAYS_TERMINATION', 'NFLAG_INSURED_ON_APPROVAL']\n"
     ]
    }
   ],
   "source": [
    "print(merged_df.columns.tolist())"
   ]
  },
  {
   "cell_type": "code",
   "execution_count": 41,
   "id": "9340ccfb-b1b4-4ca3-9f4e-b681e8e44422",
   "metadata": {},
   "outputs": [
    {
     "data": {
      "text/html": [
       "<div>\n",
       "<style scoped>\n",
       "    .dataframe tbody tr th:only-of-type {\n",
       "        vertical-align: middle;\n",
       "    }\n",
       "\n",
       "    .dataframe tbody tr th {\n",
       "        vertical-align: top;\n",
       "    }\n",
       "\n",
       "    .dataframe thead th {\n",
       "        text-align: right;\n",
       "    }\n",
       "</style>\n",
       "<table border=\"1\" class=\"dataframe\">\n",
       "  <thead>\n",
       "    <tr style=\"text-align: right;\">\n",
       "      <th></th>\n",
       "      <th>SK_ID_CURR</th>\n",
       "      <th>NAME_CONTRACT_TYPE_df1</th>\n",
       "      <th>CODE_GENDER</th>\n",
       "      <th>FLAG_OWN_CAR</th>\n",
       "      <th>FLAG_OWN_REALTY</th>\n",
       "      <th>CNT_CHILDREN</th>\n",
       "      <th>AMT_INCOME_TOTAL</th>\n",
       "      <th>AMT_CREDIT_df1</th>\n",
       "      <th>AMT_ANNUITY_df1</th>\n",
       "      <th>AMT_GOODS_PRICE_df1</th>\n",
       "      <th>...</th>\n",
       "      <th>NAME_SELLER_INDUSTRY</th>\n",
       "      <th>CNT_PAYMENT</th>\n",
       "      <th>NAME_YIELD_GROUP</th>\n",
       "      <th>PRODUCT_COMBINATION</th>\n",
       "      <th>DAYS_FIRST_DRAWING</th>\n",
       "      <th>DAYS_FIRST_DUE</th>\n",
       "      <th>DAYS_LAST_DUE_1ST_VERSION</th>\n",
       "      <th>DAYS_LAST_DUE</th>\n",
       "      <th>DAYS_TERMINATION</th>\n",
       "      <th>NFLAG_INSURED_ON_APPROVAL</th>\n",
       "    </tr>\n",
       "  </thead>\n",
       "  <tbody>\n",
       "    <tr>\n",
       "      <th>0</th>\n",
       "      <td>100001</td>\n",
       "      <td>Cash loans</td>\n",
       "      <td>F</td>\n",
       "      <td>N</td>\n",
       "      <td>Y</td>\n",
       "      <td>0.0</td>\n",
       "      <td>135000.0</td>\n",
       "      <td>568800.0</td>\n",
       "      <td>20560.5</td>\n",
       "      <td>450000.0</td>\n",
       "      <td>...</td>\n",
       "      <td>NaN</td>\n",
       "      <td>NaN</td>\n",
       "      <td>NaN</td>\n",
       "      <td>NaN</td>\n",
       "      <td>NaN</td>\n",
       "      <td>NaN</td>\n",
       "      <td>NaN</td>\n",
       "      <td>NaN</td>\n",
       "      <td>NaN</td>\n",
       "      <td>NaN</td>\n",
       "    </tr>\n",
       "    <tr>\n",
       "      <th>1</th>\n",
       "      <td>100002</td>\n",
       "      <td>NaN</td>\n",
       "      <td>NaN</td>\n",
       "      <td>NaN</td>\n",
       "      <td>NaN</td>\n",
       "      <td>NaN</td>\n",
       "      <td>NaN</td>\n",
       "      <td>NaN</td>\n",
       "      <td>NaN</td>\n",
       "      <td>NaN</td>\n",
       "      <td>...</td>\n",
       "      <td>Auto technology</td>\n",
       "      <td>24.0</td>\n",
       "      <td>low_normal</td>\n",
       "      <td>POS other with interest</td>\n",
       "      <td>365243.0</td>\n",
       "      <td>-565.0</td>\n",
       "      <td>125.0</td>\n",
       "      <td>-25.0</td>\n",
       "      <td>-17.0</td>\n",
       "      <td>0.0</td>\n",
       "    </tr>\n",
       "    <tr>\n",
       "      <th>2</th>\n",
       "      <td>100003</td>\n",
       "      <td>NaN</td>\n",
       "      <td>NaN</td>\n",
       "      <td>NaN</td>\n",
       "      <td>NaN</td>\n",
       "      <td>NaN</td>\n",
       "      <td>NaN</td>\n",
       "      <td>NaN</td>\n",
       "      <td>NaN</td>\n",
       "      <td>NaN</td>\n",
       "      <td>...</td>\n",
       "      <td>XNA</td>\n",
       "      <td>12.0</td>\n",
       "      <td>low_normal</td>\n",
       "      <td>Cash X-Sell: low</td>\n",
       "      <td>365243.0</td>\n",
       "      <td>-716.0</td>\n",
       "      <td>-386.0</td>\n",
       "      <td>-536.0</td>\n",
       "      <td>-527.0</td>\n",
       "      <td>1.0</td>\n",
       "    </tr>\n",
       "    <tr>\n",
       "      <th>3</th>\n",
       "      <td>100003</td>\n",
       "      <td>NaN</td>\n",
       "      <td>NaN</td>\n",
       "      <td>NaN</td>\n",
       "      <td>NaN</td>\n",
       "      <td>NaN</td>\n",
       "      <td>NaN</td>\n",
       "      <td>NaN</td>\n",
       "      <td>NaN</td>\n",
       "      <td>NaN</td>\n",
       "      <td>...</td>\n",
       "      <td>Furniture</td>\n",
       "      <td>6.0</td>\n",
       "      <td>middle</td>\n",
       "      <td>POS industry with interest</td>\n",
       "      <td>365243.0</td>\n",
       "      <td>-797.0</td>\n",
       "      <td>-647.0</td>\n",
       "      <td>-647.0</td>\n",
       "      <td>-639.0</td>\n",
       "      <td>0.0</td>\n",
       "    </tr>\n",
       "    <tr>\n",
       "      <th>4</th>\n",
       "      <td>100003</td>\n",
       "      <td>NaN</td>\n",
       "      <td>NaN</td>\n",
       "      <td>NaN</td>\n",
       "      <td>NaN</td>\n",
       "      <td>NaN</td>\n",
       "      <td>NaN</td>\n",
       "      <td>NaN</td>\n",
       "      <td>NaN</td>\n",
       "      <td>NaN</td>\n",
       "      <td>...</td>\n",
       "      <td>Consumer electronics</td>\n",
       "      <td>12.0</td>\n",
       "      <td>middle</td>\n",
       "      <td>POS household with interest</td>\n",
       "      <td>365243.0</td>\n",
       "      <td>-2310.0</td>\n",
       "      <td>-1980.0</td>\n",
       "      <td>-1980.0</td>\n",
       "      <td>-1976.0</td>\n",
       "      <td>1.0</td>\n",
       "    </tr>\n",
       "  </tbody>\n",
       "</table>\n",
       "<p>5 rows × 158 columns</p>\n",
       "</div>"
      ],
      "text/plain": [
       "   SK_ID_CURR NAME_CONTRACT_TYPE_df1 CODE_GENDER FLAG_OWN_CAR FLAG_OWN_REALTY  \\\n",
       "0      100001             Cash loans           F            N               Y   \n",
       "1      100002                    NaN         NaN          NaN             NaN   \n",
       "2      100003                    NaN         NaN          NaN             NaN   \n",
       "3      100003                    NaN         NaN          NaN             NaN   \n",
       "4      100003                    NaN         NaN          NaN             NaN   \n",
       "\n",
       "   CNT_CHILDREN  AMT_INCOME_TOTAL  AMT_CREDIT_df1  AMT_ANNUITY_df1  \\\n",
       "0           0.0          135000.0        568800.0          20560.5   \n",
       "1           NaN               NaN             NaN              NaN   \n",
       "2           NaN               NaN             NaN              NaN   \n",
       "3           NaN               NaN             NaN              NaN   \n",
       "4           NaN               NaN             NaN              NaN   \n",
       "\n",
       "   AMT_GOODS_PRICE_df1  ...  NAME_SELLER_INDUSTRY CNT_PAYMENT  \\\n",
       "0             450000.0  ...                   NaN         NaN   \n",
       "1                  NaN  ...       Auto technology        24.0   \n",
       "2                  NaN  ...                   XNA        12.0   \n",
       "3                  NaN  ...             Furniture         6.0   \n",
       "4                  NaN  ...  Consumer electronics        12.0   \n",
       "\n",
       "  NAME_YIELD_GROUP          PRODUCT_COMBINATION DAYS_FIRST_DRAWING  \\\n",
       "0              NaN                          NaN                NaN   \n",
       "1       low_normal      POS other with interest           365243.0   \n",
       "2       low_normal             Cash X-Sell: low           365243.0   \n",
       "3           middle   POS industry with interest           365243.0   \n",
       "4           middle  POS household with interest           365243.0   \n",
       "\n",
       "   DAYS_FIRST_DUE  DAYS_LAST_DUE_1ST_VERSION  DAYS_LAST_DUE  DAYS_TERMINATION  \\\n",
       "0             NaN                        NaN            NaN               NaN   \n",
       "1          -565.0                      125.0          -25.0             -17.0   \n",
       "2          -716.0                     -386.0         -536.0            -527.0   \n",
       "3          -797.0                     -647.0         -647.0            -639.0   \n",
       "4         -2310.0                    -1980.0        -1980.0           -1976.0   \n",
       "\n",
       "   NFLAG_INSURED_ON_APPROVAL  \n",
       "0                        NaN  \n",
       "1                        0.0  \n",
       "2                        1.0  \n",
       "3                        0.0  \n",
       "4                        1.0  \n",
       "\n",
       "[5 rows x 158 columns]"
      ]
     },
     "execution_count": 41,
     "metadata": {},
     "output_type": "execute_result"
    }
   ],
   "source": [
    "merged_df.head()"
   ]
  }
 ],
 "metadata": {
  "kernelspec": {
   "display_name": "Python 3 (ipykernel)",
   "language": "python",
   "name": "python3"
  },
  "language_info": {
   "codemirror_mode": {
    "name": "ipython",
    "version": 3
   },
   "file_extension": ".py",
   "mimetype": "text/x-python",
   "name": "python",
   "nbconvert_exporter": "python",
   "pygments_lexer": "ipython3",
   "version": "3.10.12"
  }
 },
 "nbformat": 4,
 "nbformat_minor": 5
}
