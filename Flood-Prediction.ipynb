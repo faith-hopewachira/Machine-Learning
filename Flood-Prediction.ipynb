{
 "cells": [
  {
   "cell_type": "code",
   "execution_count": 1,
   "id": "a75837e3-3d70-4e7b-a83d-a21a2abf57ca",
   "metadata": {},
   "outputs": [],
   "source": [
    "import pandas as pd\n",
    "from sklearn.model_selection import train_test_split, cross_val_score\n",
    "from sklearn.preprocessing import StandardScaler, OneHotEncoder\n",
    "from sklearn.compose import ColumnTransformer\n",
    "from sklearn.pipeline import Pipeline\n",
    "from sklearn.linear_model import LogisticRegression\n",
    "from sklearn.metrics import accuracy_score, classification_report\n",
    "from sklearn.utils.class_weight import compute_class_weight\n",
    "from sklearn.utils import resample"
   ]
  },
  {
   "cell_type": "code",
   "execution_count": 2,
   "id": "90e67ecf-0954-419a-b4f2-d2382254a953",
   "metadata": {},
   "outputs": [],
   "source": [
    "floods_df = pd.read_csv('/home/student/kenya_counties_rainfall_dataset.csv')"
   ]
  },
  {
   "cell_type": "code",
   "execution_count": 3,
   "id": "7a851762-b896-4896-b48a-11a929ab1c51",
   "metadata": {},
   "outputs": [],
   "source": [
    "categorical_columns = ['province', 'district', 'division', 'month']\n",
    "numerical_columns = ['rainfall', 'elevation', 'slope', 'clay', 'humidity']"
   ]
  },
  {
   "cell_type": "code",
   "execution_count": 4,
   "id": "3f1f2f15-4134-43a8-81a1-ee5a06280399",
   "metadata": {},
   "outputs": [],
   "source": [
    "floods_df['flood_risk'] = ((floods_df['rainfall'] > 120) | (floods_df['humidity'] > 80)).astype(int)"
   ]
  },
  {
   "cell_type": "code",
   "execution_count": 6,
   "id": "3de65ea2-b8ba-4f6e-90ba-e734fd756683",
   "metadata": {},
   "outputs": [
    {
     "name": "stdout",
     "output_type": "stream",
     "text": [
      "divid                0\n",
      "province             0\n",
      "district             0\n",
      "division             0\n",
      "Year                 0\n",
      "month                0\n",
      "rainfall             0\n",
      "elevation            0\n",
      "slope                0\n",
      "clay                 0\n",
      "humidity             0\n",
      "Case_Outbreak_RVF    0\n",
      "dtype: int64\n"
     ]
    }
   ],
   "source": [
    "print(floods_df.isna().sum())"
   ]
  },
  {
   "cell_type": "code",
   "execution_count": 6,
   "id": "e43d0e0d-b234-403f-973e-91e4d5402998",
   "metadata": {},
   "outputs": [],
   "source": [
    "# Features and target variable\n",
    "X = floods_df[numerical_columns + categorical_columns]  # Features\n",
    "y = floods_df['flood_risk']"
   ]
  },
  {
   "cell_type": "code",
   "execution_count": 25,
   "id": "cebeffa2-2bc1-4457-8f51-d336dbecf53a",
   "metadata": {},
   "outputs": [],
   "source": [
    "# One-hot encode categorical columns\n",
    "preprocessor = ColumnTransformer(\n",
    "    transformers=[\n",
    "        ('num', StandardScaler(), numerical_columns),\n",
    "        ('cat', OneHotEncoder(handle_unknown='ignore'), categorical_columns)\n",
    "    ])"
   ]
  },
  {
   "cell_type": "code",
   "execution_count": 26,
   "id": "43d3b222-e7b6-404b-8ad1-47adb657df04",
   "metadata": {},
   "outputs": [],
   "source": [
    "# Create a pipeline with preprocessing and model\n",
    "pipeline = Pipeline(steps=[\n",
    "    ('preprocessor', preprocessor),\n",
    "    ('classifier', LogisticRegression(random_state=42, C=0.01))  # Higher C means more regularization\n",
    "])"
   ]
  },
  {
   "cell_type": "code",
   "execution_count": 27,
   "id": "2ab75411-01e9-40a1-b8c3-49b9b444c850",
   "metadata": {},
   "outputs": [],
   "source": [
    "X_train, X_test, y_train, y_test = train_test_split(X, y, test_size=0.3, random_state=42)"
   ]
  },
  {
   "cell_type": "code",
   "execution_count": 28,
   "id": "eaa26a0f-dcf8-4cce-967a-c90693f820c1",
   "metadata": {},
   "outputs": [
    {
     "name": "stdout",
     "output_type": "stream",
     "text": [
      "Accuracy: 0.9948231552868526\n",
      "Classification Report:\n",
      "              precision    recall  f1-score   support\n",
      "\n",
      "           0       0.99      1.00      1.00     49762\n",
      "           1       1.00      0.94      0.97      4325\n",
      "\n",
      "    accuracy                           0.99     54087\n",
      "   macro avg       1.00      0.97      0.98     54087\n",
      "weighted avg       0.99      0.99      0.99     54087\n",
      "\n",
      "Cross-Validation Accuracy Scores: [0.98721504 0.9922902  0.99586777 0.99503564 0.99869651]\n",
      "Average Cross-Validation Accuracy: 0.9938210312948378\n"
     ]
    }
   ],
   "source": [
    "# Train the model\n",
    "pipeline.fit(X_train, y_train)\n",
    "\n",
    "# Make predictions\n",
    "y_pred = pipeline.predict(X_test)\n",
    "\n",
    "# Evaluate the model\n",
    "print(f'Accuracy: {accuracy_score(y_test, y_pred)}')\n",
    "print(f'Classification Report:\\n{classification_report(y_test, y_pred)}')\n",
    "\n",
    "# Perform cross-validation\n",
    "cv_scores = cross_val_score(pipeline, X, y, cv=5, scoring='accuracy')  # 5-fold cross-validation\n",
    "print(f'Cross-Validation Accuracy Scores: {cv_scores}')\n",
    "print(f'Average Cross-Validation Accuracy: {cv_scores.mean()}')"
   ]
  }
 ],
 "metadata": {
  "kernelspec": {
   "display_name": "Python 3 (ipykernel)",
   "language": "python",
   "name": "python3"
  },
  "language_info": {
   "codemirror_mode": {
    "name": "ipython",
    "version": 3
   },
   "file_extension": ".py",
   "mimetype": "text/x-python",
   "name": "python",
   "nbconvert_exporter": "python",
   "pygments_lexer": "ipython3",
   "version": "3.10.12"
  }
 },
 "nbformat": 4,
 "nbformat_minor": 5
}
